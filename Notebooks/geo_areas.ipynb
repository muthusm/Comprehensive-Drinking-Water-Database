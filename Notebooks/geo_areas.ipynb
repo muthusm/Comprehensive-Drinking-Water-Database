{
 "cells": [
  {
   "cell_type": "code",
   "execution_count": 1,
   "id": "f3e0e50a",
   "metadata": {
    "ExecuteTime": {
     "end_time": "2022-04-11T07:14:30.272928Z",
     "start_time": "2022-04-11T07:14:28.908368Z"
    }
   },
   "outputs": [],
   "source": [
    "import pandas as pd\n",
    "import requests\n",
    "from bs4 import BeautifulSoup"
   ]
  },
  {
   "cell_type": "code",
   "execution_count": 2,
   "id": "dcd6268c",
   "metadata": {
    "ExecuteTime": {
     "end_time": "2022-04-11T07:14:32.627784Z",
     "start_time": "2022-04-11T07:14:30.808016Z"
    }
   },
   "outputs": [],
   "source": [
    "geo_areas_df = pd.read_csv('../data/ECHO_data_csv/SDWA_GEOGRAPHIC_AREAS.csv', dtype=str)"
   ]
  },
  {
   "cell_type": "code",
   "execution_count": 3,
   "id": "d7b2e493",
   "metadata": {
    "ExecuteTime": {
     "end_time": "2022-04-11T07:14:37.188353Z",
     "start_time": "2022-04-11T07:14:37.136347Z"
    }
   },
   "outputs": [
    {
     "data": {
      "text/html": [
       "<div>\n",
       "<style scoped>\n",
       "    .dataframe tbody tr th:only-of-type {\n",
       "        vertical-align: middle;\n",
       "    }\n",
       "\n",
       "    .dataframe tbody tr th {\n",
       "        vertical-align: top;\n",
       "    }\n",
       "\n",
       "    .dataframe thead th {\n",
       "        text-align: right;\n",
       "    }\n",
       "</style>\n",
       "<table border=\"1\" class=\"dataframe\">\n",
       "  <thead>\n",
       "    <tr style=\"text-align: right;\">\n",
       "      <th></th>\n",
       "      <th>SUBMISSIONYEARQUARTER</th>\n",
       "      <th>PWSID</th>\n",
       "      <th>GEO_ID</th>\n",
       "      <th>AREA_TYPE_CODE</th>\n",
       "      <th>TRIBAL_CODE</th>\n",
       "      <th>STATE_SERVED</th>\n",
       "      <th>ANSI_ENTITY_CODE</th>\n",
       "      <th>ZIP_CODE_SERVED</th>\n",
       "      <th>CITY_SERVED</th>\n",
       "      <th>COUNTY_SERVED</th>\n",
       "      <th>LAST_REPORTED_DATE</th>\n",
       "    </tr>\n",
       "  </thead>\n",
       "  <tbody>\n",
       "    <tr>\n",
       "      <th>0</th>\n",
       "      <td>2021Q2</td>\n",
       "      <td>IL3082677</td>\n",
       "      <td>35395417</td>\n",
       "      <td>CN</td>\n",
       "      <td>NaN</td>\n",
       "      <td>NaN</td>\n",
       "      <td>197</td>\n",
       "      <td>NaN</td>\n",
       "      <td>NaN</td>\n",
       "      <td>Will</td>\n",
       "      <td>07/22/1995</td>\n",
       "    </tr>\n",
       "    <tr>\n",
       "      <th>1</th>\n",
       "      <td>2021Q2</td>\n",
       "      <td>IL3082685</td>\n",
       "      <td>35395418</td>\n",
       "      <td>CN</td>\n",
       "      <td>NaN</td>\n",
       "      <td>NaN</td>\n",
       "      <td>197</td>\n",
       "      <td>NaN</td>\n",
       "      <td>NaN</td>\n",
       "      <td>Will</td>\n",
       "      <td>07/22/1995</td>\n",
       "    </tr>\n",
       "    <tr>\n",
       "      <th>2</th>\n",
       "      <td>2021Q2</td>\n",
       "      <td>IL3082693</td>\n",
       "      <td>35395419</td>\n",
       "      <td>CN</td>\n",
       "      <td>NaN</td>\n",
       "      <td>NaN</td>\n",
       "      <td>197</td>\n",
       "      <td>NaN</td>\n",
       "      <td>NaN</td>\n",
       "      <td>Will</td>\n",
       "      <td>07/22/1995</td>\n",
       "    </tr>\n",
       "    <tr>\n",
       "      <th>3</th>\n",
       "      <td>2021Q2</td>\n",
       "      <td>IL3082701</td>\n",
       "      <td>35395420</td>\n",
       "      <td>CN</td>\n",
       "      <td>NaN</td>\n",
       "      <td>NaN</td>\n",
       "      <td>197</td>\n",
       "      <td>NaN</td>\n",
       "      <td>NaN</td>\n",
       "      <td>Will</td>\n",
       "      <td>07/22/1995</td>\n",
       "    </tr>\n",
       "    <tr>\n",
       "      <th>4</th>\n",
       "      <td>2021Q2</td>\n",
       "      <td>IL3082719</td>\n",
       "      <td>35395421</td>\n",
       "      <td>CN</td>\n",
       "      <td>NaN</td>\n",
       "      <td>NaN</td>\n",
       "      <td>197</td>\n",
       "      <td>NaN</td>\n",
       "      <td>NaN</td>\n",
       "      <td>Will</td>\n",
       "      <td>07/22/1995</td>\n",
       "    </tr>\n",
       "  </tbody>\n",
       "</table>\n",
       "</div>"
      ],
      "text/plain": [
       "  SUBMISSIONYEARQUARTER      PWSID    GEO_ID AREA_TYPE_CODE TRIBAL_CODE  \\\n",
       "0                2021Q2  IL3082677  35395417             CN         NaN   \n",
       "1                2021Q2  IL3082685  35395418             CN         NaN   \n",
       "2                2021Q2  IL3082693  35395419             CN         NaN   \n",
       "3                2021Q2  IL3082701  35395420             CN         NaN   \n",
       "4                2021Q2  IL3082719  35395421             CN         NaN   \n",
       "\n",
       "  STATE_SERVED ANSI_ENTITY_CODE ZIP_CODE_SERVED CITY_SERVED COUNTY_SERVED  \\\n",
       "0          NaN              197             NaN         NaN          Will   \n",
       "1          NaN              197             NaN         NaN          Will   \n",
       "2          NaN              197             NaN         NaN          Will   \n",
       "3          NaN              197             NaN         NaN          Will   \n",
       "4          NaN              197             NaN         NaN          Will   \n",
       "\n",
       "  LAST_REPORTED_DATE  \n",
       "0         07/22/1995  \n",
       "1         07/22/1995  \n",
       "2         07/22/1995  \n",
       "3         07/22/1995  \n",
       "4         07/22/1995  "
      ]
     },
     "execution_count": 3,
     "metadata": {},
     "output_type": "execute_result"
    }
   ],
   "source": [
    "geo_areas_df.head()"
   ]
  },
  {
   "cell_type": "code",
   "execution_count": 5,
   "id": "d9857c52",
   "metadata": {
    "ExecuteTime": {
     "end_time": "2022-04-11T07:14:48.076370Z",
     "start_time": "2022-04-11T07:14:48.064369Z"
    }
   },
   "outputs": [
    {
     "name": "stdout",
     "output_type": "stream",
     "text": [
      "Total number of records in Geographic area table is 567192\n"
     ]
    }
   ],
   "source": [
    "print(f'Total number of records in Geographic area table is {geo_areas_df.shape[0]}')"
   ]
  },
  {
   "cell_type": "code",
   "execution_count": 8,
   "id": "e4229698",
   "metadata": {
    "ExecuteTime": {
     "end_time": "2022-04-11T07:16:00.800467Z",
     "start_time": "2022-04-11T07:16:00.527445Z"
    }
   },
   "outputs": [
    {
     "data": {
      "text/plain": [
       "567192"
      ]
     },
     "execution_count": 8,
     "metadata": {},
     "output_type": "execute_result"
    }
   ],
   "source": [
    "geo_areas_df.GEO_ID.nunique()"
   ]
  },
  {
   "cell_type": "markdown",
   "id": "155537d6",
   "metadata": {},
   "source": [
    "The column GEO_ID uniquely identifies each record"
   ]
  },
  {
   "cell_type": "markdown",
   "id": "ce623cde",
   "metadata": {},
   "source": []
  },
  {
   "cell_type": "code",
   "execution_count": 9,
   "id": "78432f0d",
   "metadata": {
    "ExecuteTime": {
     "end_time": "2022-04-11T07:16:11.123189Z",
     "start_time": "2022-04-11T07:16:10.808184Z"
    }
   },
   "outputs": [
    {
     "data": {
      "text/plain": [
       "SUBMISSIONYEARQUARTER         0\n",
       "PWSID                         0\n",
       "GEO_ID                        0\n",
       "AREA_TYPE_CODE                0\n",
       "TRIBAL_CODE              565924\n",
       "STATE_SERVED             411786\n",
       "ANSI_ENTITY_CODE         163851\n",
       "ZIP_CODE_SERVED          560015\n",
       "CITY_SERVED              411786\n",
       "COUNTY_SERVED            169585\n",
       "LAST_REPORTED_DATE            0\n",
       "dtype: int64"
      ]
     },
     "execution_count": 9,
     "metadata": {},
     "output_type": "execute_result"
    }
   ],
   "source": [
    "geo_areas_df.isnull().sum()"
   ]
  },
  {
   "cell_type": "code",
   "execution_count": 11,
   "id": "2a4b7255",
   "metadata": {
    "ExecuteTime": {
     "end_time": "2022-04-11T07:16:25.359459Z",
     "start_time": "2022-04-11T07:16:25.338435Z"
    }
   },
   "outputs": [
    {
     "data": {
      "text/html": [
       "<div>\n",
       "<style scoped>\n",
       "    .dataframe tbody tr th:only-of-type {\n",
       "        vertical-align: middle;\n",
       "    }\n",
       "\n",
       "    .dataframe tbody tr th {\n",
       "        vertical-align: top;\n",
       "    }\n",
       "\n",
       "    .dataframe thead th {\n",
       "        text-align: right;\n",
       "    }\n",
       "</style>\n",
       "<table border=\"1\" class=\"dataframe\">\n",
       "  <thead>\n",
       "    <tr style=\"text-align: right;\">\n",
       "      <th></th>\n",
       "      <th>LAST_REPORTED_DATE</th>\n",
       "    </tr>\n",
       "  </thead>\n",
       "  <tbody>\n",
       "    <tr>\n",
       "      <th>0</th>\n",
       "      <td>07/22/1995</td>\n",
       "    </tr>\n",
       "    <tr>\n",
       "      <th>1</th>\n",
       "      <td>07/22/1995</td>\n",
       "    </tr>\n",
       "    <tr>\n",
       "      <th>2</th>\n",
       "      <td>07/22/1995</td>\n",
       "    </tr>\n",
       "    <tr>\n",
       "      <th>3</th>\n",
       "      <td>07/22/1995</td>\n",
       "    </tr>\n",
       "    <tr>\n",
       "      <th>4</th>\n",
       "      <td>07/22/1995</td>\n",
       "    </tr>\n",
       "  </tbody>\n",
       "</table>\n",
       "</div>"
      ],
      "text/plain": [
       "  LAST_REPORTED_DATE\n",
       "0         07/22/1995\n",
       "1         07/22/1995\n",
       "2         07/22/1995\n",
       "3         07/22/1995\n",
       "4         07/22/1995"
      ]
     },
     "execution_count": 11,
     "metadata": {},
     "output_type": "execute_result"
    }
   ],
   "source": [
    "## Seeing date formats\n",
    "date_columns = ['LAST_REPORTED_DATE']\n",
    "geo_areas_df[date_columns].head()"
   ]
  },
  {
   "cell_type": "code",
   "execution_count": 12,
   "id": "4d19ad9b",
   "metadata": {
    "ExecuteTime": {
     "end_time": "2022-04-11T07:16:31.745206Z",
     "start_time": "2022-04-11T07:16:31.561758Z"
    }
   },
   "outputs": [],
   "source": [
    "for datecol in date_columns:\n",
    "    geo_areas_df[datecol] = pd.to_datetime(geo_areas_df[datecol], format='%m/%d/%Y')"
   ]
  },
  {
   "cell_type": "code",
   "execution_count": 13,
   "id": "ceeb74bd",
   "metadata": {
    "ExecuteTime": {
     "end_time": "2022-04-11T07:16:34.009092Z",
     "start_time": "2022-04-11T07:16:33.984120Z"
    }
   },
   "outputs": [
    {
     "data": {
      "text/html": [
       "<div>\n",
       "<style scoped>\n",
       "    .dataframe tbody tr th:only-of-type {\n",
       "        vertical-align: middle;\n",
       "    }\n",
       "\n",
       "    .dataframe tbody tr th {\n",
       "        vertical-align: top;\n",
       "    }\n",
       "\n",
       "    .dataframe thead th {\n",
       "        text-align: right;\n",
       "    }\n",
       "</style>\n",
       "<table border=\"1\" class=\"dataframe\">\n",
       "  <thead>\n",
       "    <tr style=\"text-align: right;\">\n",
       "      <th></th>\n",
       "      <th>LAST_REPORTED_DATE</th>\n",
       "    </tr>\n",
       "  </thead>\n",
       "  <tbody>\n",
       "    <tr>\n",
       "      <th>0</th>\n",
       "      <td>1995-07-22</td>\n",
       "    </tr>\n",
       "    <tr>\n",
       "      <th>1</th>\n",
       "      <td>1995-07-22</td>\n",
       "    </tr>\n",
       "    <tr>\n",
       "      <th>2</th>\n",
       "      <td>1995-07-22</td>\n",
       "    </tr>\n",
       "    <tr>\n",
       "      <th>3</th>\n",
       "      <td>1995-07-22</td>\n",
       "    </tr>\n",
       "    <tr>\n",
       "      <th>4</th>\n",
       "      <td>1995-07-22</td>\n",
       "    </tr>\n",
       "  </tbody>\n",
       "</table>\n",
       "</div>"
      ],
      "text/plain": [
       "  LAST_REPORTED_DATE\n",
       "0         1995-07-22\n",
       "1         1995-07-22\n",
       "2         1995-07-22\n",
       "3         1995-07-22\n",
       "4         1995-07-22"
      ]
     },
     "execution_count": 13,
     "metadata": {},
     "output_type": "execute_result"
    }
   ],
   "source": [
    "geo_areas_df[date_columns].head()"
   ]
  },
  {
   "cell_type": "code",
   "execution_count": 14,
   "id": "d2ce93e8",
   "metadata": {
    "ExecuteTime": {
     "end_time": "2022-04-11T07:16:39.637513Z",
     "start_time": "2022-04-11T07:16:39.615517Z"
    }
   },
   "outputs": [
    {
     "name": "stdout",
     "output_type": "stream",
     "text": [
      "Range of LAST_REPORTED_DATE is between 1995-07-22 00:00:00 and 2021-07-01 00:00:00\n"
     ]
    }
   ],
   "source": [
    "for datacol in date_columns:\n",
    "    print('Range of {} is between {} and {}'.format(datacol, geo_areas_df[datacol].min(), geo_areas_df[datacol].max()))"
   ]
  },
  {
   "cell_type": "code",
   "execution_count": 15,
   "id": "b35fc2a1",
   "metadata": {
    "ExecuteTime": {
     "end_time": "2022-04-11T07:16:43.979767Z",
     "start_time": "2022-04-11T07:16:43.968790Z"
    }
   },
   "outputs": [
    {
     "data": {
      "text/plain": [
       "11"
      ]
     },
     "execution_count": 15,
     "metadata": {},
     "output_type": "execute_result"
    }
   ],
   "source": [
    "len(geo_areas_df.columns)"
   ]
  },
  {
   "cell_type": "code",
   "execution_count": 37,
   "id": "14405d29",
   "metadata": {
    "ExecuteTime": {
     "end_time": "2022-04-11T07:31:52.402550Z",
     "start_time": "2022-04-11T07:31:52.328534Z"
    }
   },
   "outputs": [
    {
     "data": {
      "text/plain": [
       "array(['CN', 'CT', 'ZC', 'TR', 'IR'], dtype=object)"
      ]
     },
     "execution_count": 37,
     "metadata": {},
     "output_type": "execute_result"
    }
   ],
   "source": [
    "geo_areas_df.AREA_TYPE_CODE.unique()"
   ]
  },
  {
   "cell_type": "code",
   "execution_count": 21,
   "id": "22a2aa20",
   "metadata": {
    "ExecuteTime": {
     "end_time": "2022-04-11T07:20:31.232456Z",
     "start_time": "2022-04-11T07:20:31.160436Z"
    }
   },
   "outputs": [
    {
     "data": {
      "text/plain": [
       "array([nan, '711', '475', '431', '469', '344', '430', '345', '616', '471',\n",
       "       '562', '64727', '710', '199', '705', '111', '696', '114', '534',\n",
       "       '180', '400', '281', '206', '204', '717', '101', '481', '595',\n",
       "       '436', '713', '780', '523', '614', '001', '602', '608', '638',\n",
       "       '132', '124', '140', '432', '605', '468', '862', '201', '553',\n",
       "       '027', '610', '603', '383', '861', '490', '382', '380', '860',\n",
       "       '863', '660', '521', '438', '102', '303', '401', '207', '601',\n",
       "       '606', '282', '205', '708', '541', '472', '440', '439', '470',\n",
       "       '613', '012', '007', '006', '009', '434', '482', '145', '141',\n",
       "       '181', '117', '152', '105', '125', '110', '123', '687', '409',\n",
       "       '651', '202', '113', '120', '719', '540', '028', '592', '121',\n",
       "       '980', '182', '702', '615', '607', '714', '107', '143', '109',\n",
       "       '116', '129', '103', '119', '118', '142', '139', '122', '131',\n",
       "       '108', '144', '153', '106', '126', '692', '682', '823', '302',\n",
       "       '720', '695', '642', '707', '563', '721', '021', '026', '587',\n",
       "       '561', '579', '513', '617', '511', '577', '479', '411', '403',\n",
       "       '415', '437', '433', '435', '483', '484', '480', '750', '751',\n",
       "       '301', '203', '304', '342', '343', '347', '341', '346', '551',\n",
       "       '672', '530', '506', '549', '515', '518', '525', '547', '624',\n",
       "       '527', '582', '583', '542', '520', '593', '604', '519', '576',\n",
       "       '580', '020', '033', '030', '585', '586', '589', '590', '629',\n",
       "       '594', '636', '570', '512', '556', '564', '538', '522', '573',\n",
       "       '539', '565', '560', '569', '578', '641', '646', '824', '921',\n",
       "       '822', '830', '701', '704', '706', '709', '716', '718', '703',\n",
       "       '712', '715', '812', '826', '336', '924', '906', '905', '821',\n",
       "       '920', '634', '612', '681', '656', '640', '653', '648', '674',\n",
       "       '645', '550', '567', '507', '637', '502', '533', '661', '650',\n",
       "       '536', '546', '516', '622', '508', '517'], dtype=object)"
      ]
     },
     "execution_count": 21,
     "metadata": {},
     "output_type": "execute_result"
    }
   ],
   "source": [
    "geo_areas_df.TRIBAL_CODE.unique()"
   ]
  },
  {
   "cell_type": "code",
   "execution_count": 22,
   "id": "c3d1196f",
   "metadata": {
    "ExecuteTime": {
     "end_time": "2022-04-11T07:21:06.910821Z",
     "start_time": "2022-04-11T07:21:06.838804Z"
    }
   },
   "outputs": [
    {
     "data": {
      "text/plain": [
       "array([nan, 'MI', 'IL', 'WI', 'MD', 'ME', 'MT', 'NC', 'OH', 'AZ', 'WV',\n",
       "       'NY', 'NH', 'KS', 'CT', 'MP', 'MA', 'SC', 'FL', 'NE', 'IN', 'VT',\n",
       "       'NM', 'DE', 'NJ', 'WY', 'IA', 'VA', 'GA', 'ID', 'AK', 'PR', 'MO',\n",
       "       'HI', 'CA', 'ND', 'AL', 'WA', 'KY', 'SD', 'MS', 'MN', 'TN', 'CO',\n",
       "       'AS', 'RI', 'NV', 'VI', 'PA', 'GU', 'AR', 'UT', 'LA', 'OK', 'OR'],\n",
       "      dtype=object)"
      ]
     },
     "execution_count": 22,
     "metadata": {},
     "output_type": "execute_result"
    }
   ],
   "source": [
    "geo_areas_df.STATE_SERVED.unique()"
   ]
  },
  {
   "cell_type": "code",
   "execution_count": 24,
   "id": "10d56f81",
   "metadata": {
    "ExecuteTime": {
     "end_time": "2022-04-11T07:21:40.177936Z",
     "start_time": "2022-04-11T07:21:40.102920Z"
    }
   },
   "outputs": [
    {
     "data": {
      "text/plain": [
       "array(['197', '015', '125', '111', '107', '097', '089', '043', '091',\n",
       "       '063', nan, '093', '031', '007', '033', '081', '059', '177', '095',\n",
       "       '009', '073', '049', '021', '099', '201', '183', '029', '175',\n",
       "       '105', '153', '057', '141', '113', '127', '161', '011', '085',\n",
       "       '027', '037', '003', '103', '191', '131', '195', '051', '117',\n",
       "       '181', '025', '143', '179', '147', '075', '005', '119', '133',\n",
       "       '023', '039', '109', '071', '067', '077', '135', '047', '061',\n",
       "       '045', '203', '149', '053', '115', '079', '001', '151', '055',\n",
       "       '101', '083', '171', '041', '121', '339', '017', '157', '187',\n",
       "       '145', '019', '155', '139', '069', '159', '087', '129', '137',\n",
       "       '367', '013', '035', '173', '065', '209', '030', '251', '259',\n",
       "       '169', '185', '163', '193', '123', '165', '477', '170', '167',\n",
       "       '453', '199', '240', '213', '309', '221', '215', '439', '232',\n",
       "       '237', '068', '012', '225', '467', '016', '189', '455', '299',\n",
       "       '409', '497', '361', '435', '401', '241', '239', '122', '303',\n",
       "       '100', '329', '004', '249', '265', '403', '020', '219', '271',\n",
       "       '006', '008', '002', '363', '491', '499', '325', '050', '323',\n",
       "       '014', '110', '010', '211', '305', '229', '231', '233', '235',\n",
       "       '205', '207', '293', '217', '243', '245', '313', '347', '407',\n",
       "       '377', '479', '086', '150', '070', '060', '510', '090', '395',\n",
       "       '469', '311', '164', '291', '471', '373', '387', '473', '289',\n",
       "       '285', '130', '257', '282', '290', '343', '427', '315', '261',\n",
       "       '227', '371', '273', '255', '327', '423', '333', '355', '459',\n",
       "       '223', '018', '036', '307', '451', '413', '287', '267', '419',\n",
       "       '381', '277', '283', '297', '263', '301', '279', '281', '253',\n",
       "       '317', '319', '275', '295', '345', '465', '247', '321', '269',\n",
       "       '351', '463', '425', '457', '054', '397', '447', '375', '379',\n",
       "       '481', '461', '483', '485', '385', '335', '337', '449', '365',\n",
       "       '028', 'FIP', '489', '417', '441', '405', '429', '186', '433',\n",
       "       '270', '415', '180', '188', '280', '391', '393', '369', '493',\n",
       "       '475', '495', '341', '421', '349', '353', '357', '501', '359',\n",
       "       '383', '389', '437', '399', '411', '503', '505', '507', '220',\n",
       "       '331', '443', '445', '810', '830', '550', '650', '700', '710',\n",
       "       '590', '230', '120', '800', '640', '056', '750', '515', '540',\n",
       "       '580', '770', '775', '730', '595', '022', '058', '630', '680',\n",
       "       '685', '431', '072', '487', '076', '046', '026', '044', '032',\n",
       "       '038', '040', '064', '080'], dtype=object)"
      ]
     },
     "execution_count": 24,
     "metadata": {},
     "output_type": "execute_result"
    }
   ],
   "source": [
    "geo_areas_df.ANSI_ENTITY_CODE.unique()"
   ]
  },
  {
   "cell_type": "code",
   "execution_count": 23,
   "id": "319ab1fc",
   "metadata": {
    "ExecuteTime": {
     "end_time": "2022-04-11T07:21:25.853825Z",
     "start_time": "2022-04-11T07:21:25.768812Z"
    }
   },
   "outputs": [
    {
     "data": {
      "text/plain": [
       "array([nan, '49321', '21795', ..., '02719', '01244', '01259'],\n",
       "      dtype=object)"
      ]
     },
     "execution_count": 23,
     "metadata": {},
     "output_type": "execute_result"
    }
   ],
   "source": [
    "geo_areas_df.ZIP_CODE_SERVED.unique()"
   ]
  },
  {
   "cell_type": "code",
   "execution_count": 25,
   "id": "4dff31a2",
   "metadata": {
    "ExecuteTime": {
     "end_time": "2022-04-11T07:22:00.963866Z",
     "start_time": "2022-04-11T07:22:00.831888Z"
    }
   },
   "outputs": [
    {
     "data": {
      "text/plain": [
       "array([nan, 'JONESVILLE', 'COMSTOCK PARK', ..., 'SURREY', 'CATHAY',\n",
       "       'FESSENDEN'], dtype=object)"
      ]
     },
     "execution_count": 25,
     "metadata": {},
     "output_type": "execute_result"
    }
   ],
   "source": [
    "geo_areas_df.CITY_SERVED.unique()"
   ]
  },
  {
   "cell_type": "code",
   "execution_count": 26,
   "id": "8fe8fd41",
   "metadata": {
    "ExecuteTime": {
     "end_time": "2022-04-11T07:22:18.314900Z",
     "start_time": "2022-04-11T07:22:18.223899Z"
    }
   },
   "outputs": [
    {
     "data": {
      "text/plain": [
       "array(['Will', 'Cowlitz', 'Oakland', ..., 'Fajardo Municipio',\n",
       "       'Ceiba Municipio', 'Loiza Municipio'], dtype=object)"
      ]
     },
     "execution_count": 26,
     "metadata": {},
     "output_type": "execute_result"
    }
   ],
   "source": [
    "geo_areas_df.COUNTY_SERVED.unique()"
   ]
  },
  {
   "cell_type": "markdown",
   "id": "fa32a057",
   "metadata": {},
   "source": [
    "### Web Scraping Column description and data type"
   ]
  },
  {
   "cell_type": "code",
   "execution_count": 27,
   "id": "d813261a",
   "metadata": {
    "ExecuteTime": {
     "end_time": "2022-04-11T07:26:09.940521Z",
     "start_time": "2022-04-11T07:26:07.882345Z"
    }
   },
   "outputs": [],
   "source": [
    "def get_html():\n",
    "    URL = \"https://echo.epa.gov/tools/data-downloads/sdwa-download-summary\"\n",
    "    r = requests.get(URL)  \n",
    "    html_soup = BeautifulSoup(r.content, 'html.parser') \n",
    "    return html_soup\n",
    "html_soup = get_html()"
   ]
  },
  {
   "cell_type": "code",
   "execution_count": 28,
   "id": "dacfc298",
   "metadata": {
    "ExecuteTime": {
     "end_time": "2022-04-11T07:26:16.717073Z",
     "start_time": "2022-04-11T07:26:16.642068Z"
    }
   },
   "outputs": [
    {
     "data": {
      "text/html": [
       "<div>\n",
       "<style scoped>\n",
       "    .dataframe tbody tr th:only-of-type {\n",
       "        vertical-align: middle;\n",
       "    }\n",
       "\n",
       "    .dataframe tbody tr th {\n",
       "        vertical-align: top;\n",
       "    }\n",
       "\n",
       "    .dataframe thead th {\n",
       "        text-align: right;\n",
       "    }\n",
       "</style>\n",
       "<table border=\"1\" class=\"dataframe\">\n",
       "  <thead>\n",
       "    <tr style=\"text-align: right;\">\n",
       "      <th></th>\n",
       "      <th>COLUMN</th>\n",
       "      <th>DESCRIPTION</th>\n",
       "    </tr>\n",
       "  </thead>\n",
       "  <tbody>\n",
       "    <tr>\n",
       "      <th>0</th>\n",
       "      <td>AREA_TYPE_CODE</td>\n",
       "      <td>Code identifying the area type where the facility is located.</td>\n",
       "    </tr>\n",
       "    <tr>\n",
       "      <th>1</th>\n",
       "      <td>ANSI_ENTITY_CODE</td>\n",
       "      <td>American National Standards Institute (ANSI) code for the county, city, or legal statistical area. Taken with the ANSI state code, uniquely identifies a county (or other area) within the country. See the U.S. Census Bureau webpage Exit for more information about ANSI codes.</td>\n",
       "    </tr>\n",
       "    <tr>\n",
       "      <th>2</th>\n",
       "      <td>CITY_SERVED</td>\n",
       "      <td>The name of the city that the facility serves.</td>\n",
       "    </tr>\n",
       "    <tr>\n",
       "      <th>3</th>\n",
       "      <td>COUNTY_SERVED</td>\n",
       "      <td>The name of the county that the facility serves.</td>\n",
       "    </tr>\n",
       "    <tr>\n",
       "      <th>4</th>\n",
       "      <td>GEO_ID</td>\n",
       "      <td>System generated ID that uniquely identifies PWSID and Area Type record.</td>\n",
       "    </tr>\n",
       "    <tr>\n",
       "      <th>5</th>\n",
       "      <td>LAST_REPORTED_DATE</td>\n",
       "      <td>The last reported date for the milestone event. The date format is MM/DD/YYYY.</td>\n",
       "    </tr>\n",
       "    <tr>\n",
       "      <th>6</th>\n",
       "      <td>PWSID</td>\n",
       "      <td>A unique identifying code for a public water system in SDWIS. The PWSID consists of a two-letter state or region code, followed by seven digits.</td>\n",
       "    </tr>\n",
       "    <tr>\n",
       "      <th>7</th>\n",
       "      <td>STATE_SERVED</td>\n",
       "      <td>The state that the facility is serving.</td>\n",
       "    </tr>\n",
       "    <tr>\n",
       "      <th>8</th>\n",
       "      <td>SUBMISSIONYEARQUARTER</td>\n",
       "      <td>The fiscal year and quarter when the event took place.</td>\n",
       "    </tr>\n",
       "    <tr>\n",
       "      <th>9</th>\n",
       "      <td>TRIBAL_CODE</td>\n",
       "      <td>EPA code which represents the Indian reservation or Alaska Remote Village being served by a Water System. A full discription of the codes can be accessed in the SDWA_REF_CODE_VALUES.csv.</td>\n",
       "    </tr>\n",
       "    <tr>\n",
       "      <th>10</th>\n",
       "      <td>ZIP_CODE_SERVED</td>\n",
       "      <td>The 5-digit postal zip code that the facility serves.</td>\n",
       "    </tr>\n",
       "  </tbody>\n",
       "</table>\n",
       "</div>"
      ],
      "text/plain": [
       "                    COLUMN  \\\n",
       "0           AREA_TYPE_CODE   \n",
       "1         ANSI_ENTITY_CODE   \n",
       "2              CITY_SERVED   \n",
       "3            COUNTY_SERVED   \n",
       "4                   GEO_ID   \n",
       "5       LAST_REPORTED_DATE   \n",
       "6                   PWSID    \n",
       "7            STATE_SERVED    \n",
       "8   SUBMISSIONYEARQUARTER    \n",
       "9             TRIBAL_CODE    \n",
       "10         ZIP_CODE_SERVED   \n",
       "\n",
       "                                                                                                                                                                                                                                                                            DESCRIPTION  \n",
       "0                                                                                                                                                                                                                         Code identifying the area type where the facility is located.  \n",
       "1    American National Standards Institute (ANSI) code for the county, city, or legal statistical area. Taken with the ANSI state code, uniquely identifies a county (or other area) within the country. See the U.S. Census Bureau webpage Exit for more information about ANSI codes.  \n",
       "2                                                                                                                                                                                                                                        The name of the city that the facility serves.  \n",
       "3                                                                                                                                                                                                                                      The name of the county that the facility serves.  \n",
       "4                                                                                                                                                                                                              System generated ID that uniquely identifies PWSID and Area Type record.  \n",
       "5                                                                                                                                                                                                        The last reported date for the milestone event. The date format is MM/DD/YYYY.  \n",
       "6                                                                                                                                      A unique identifying code for a public water system in SDWIS. The PWSID consists of a two-letter state or region code, followed by seven digits.  \n",
       "7                                                                                                                                                                                                                                               The state that the facility is serving.  \n",
       "8                                                                                                                                                                                                                                The fiscal year and quarter when the event took place.  \n",
       "9                                                                                            EPA code which represents the Indian reservation or Alaska Remote Village being served by a Water System. A full discription of the codes can be accessed in the SDWA_REF_CODE_VALUES.csv.  \n",
       "10                                                                                                                                                                                                                                The 5-digit postal zip code that the facility serves.  "
      ]
     },
     "execution_count": 28,
     "metadata": {},
     "output_type": "execute_result"
    }
   ],
   "source": [
    "data_dictionary = {\n",
    "    p.find_all('strong')[0].getText().replace(u'\\xa0', u'') : p.getText().replace(u'\\xa0', u' ')\n",
    "    for p in html_soup.find_all(\"div\", {\"class\": 'field-item even'})[0].find_all('p') \n",
    "    if p.find_all('strong') and len(p.find_all('strong')) == 1 and p.find_all('strong')[0].getText().replace(u'\\xa0', u'') in list(geo_areas_df.columns)\n",
    "}\n",
    "pd.set_option('display.max_colwidth', None)\n",
    "col_desc = pd.DataFrame([data_dictionary[col] for col in data_dictionary], columns=['raw_desc'])\n",
    "\n",
    "col_desc[['COLUMN', 'DESCRIPTION']] = col_desc['raw_desc'].str.split('-', 1, expand=True)\n",
    "col_desc = col_desc[['COLUMN', 'DESCRIPTION']]\n",
    "col_desc"
   ]
  },
  {
   "cell_type": "markdown",
   "id": "8f06c319",
   "metadata": {},
   "source": [
    "### Generating create SQL statement to create 'events_milestones' table to store events milestones details"
   ]
  },
  {
   "cell_type": "code",
   "execution_count": 45,
   "id": "280aa664",
   "metadata": {
    "ExecuteTime": {
     "end_time": "2022-04-11T07:38:54.184849Z",
     "start_time": "2022-04-11T07:38:54.155851Z"
    }
   },
   "outputs": [
    {
     "name": "stdout",
     "output_type": "stream",
     "text": [
      "CREATE TABLE GEOGRAPHIC_AREAS (\n",
      "\tSUBMISSIONYEARQUARTER     VARCHAR(6),\n",
      "\tPWSID                     VARCHAR(9),\n",
      "\tGEO_ID                    VARCHAR(8),\n",
      "\tAREA_TYPE_CODE            VARCHAR(10),\n",
      "\tTRIBAL_CODE               VARCHAR(10),\n",
      "\tSTATE_SERVED              VARCHAR(2),\n",
      "\tANSI_ENTITY_CODE          VARCHAR(3),\n",
      "\tZIP_CODE_SERVED           VARCHAR(15),\n",
      "\tCITY_SERVED               VARCHAR(40),\n",
      "\tCOUNTY_SERVED             VARCHAR(50),\n",
      "\tLAST_REPORTED_DATE        DATE\n",
      ") ENGINE = InnoDB;\n"
     ]
    }
   ],
   "source": [
    "temp_dict = {\n",
    "    'SUBMISSIONYEARQUARTER': 'VARCHAR(6)',\n",
    "    'PWSID': 'VARCHAR(9)',\n",
    "    'GEO_ID': 'VARCHAR(8)',\n",
    "    'AREA_TYPE_CODE': 'VARCHAR(10)',\n",
    "    'TRIBAL_CODE': 'VARCHAR(10)',\n",
    "    'STATE_SERVED': 'VARCHAR(2)',\n",
    "    'ANSI_ENTITY_CODE': 'VARCHAR(3)',\n",
    "    'ZIP_CODE_SERVED': 'VARCHAR(15)',\n",
    "    'CITY_SERVED': 'VARCHAR(40)',\n",
    "    'COUNTY_SERVED': 'VARCHAR(50)',\n",
    "    'LAST_REPORTED_DATE': 'DATE'\n",
    "}\n",
    "\n",
    "def space(n):\n",
    "    return ' ' * (max([len(col) for col in geo_areas_df.columns]) + 5 - n)\n",
    "\n",
    "print('CREATE TABLE GEOGRAPHIC_AREAS (')\n",
    "for col in geo_areas_df.columns:\n",
    "    print(f'\\t{col}{space(len(col))}{temp_dict[col]}', end='')\n",
    "    if col != geo_areas_df.columns[-1]:\n",
    "        print(',')\n",
    "    else:\n",
    "        print()\n",
    "print(') ENGINE = InnoDB;')"
   ]
  },
  {
   "cell_type": "code",
   "execution_count": 49,
   "id": "d9715042",
   "metadata": {
    "ExecuteTime": {
     "end_time": "2022-04-11T07:40:37.215025Z",
     "start_time": "2022-04-11T07:40:27.753845Z"
    }
   },
   "outputs": [],
   "source": [
    "geo_areas_df.sort_values(['GEO_ID'], ascending=True).to_csv('../data/processed_data/GEOGRAPHIC_AREAS.csv', index=False) # violations.groupby(['PWSID', 'VIOLATION_ID']).size()"
   ]
  },
  {
   "cell_type": "code",
   "execution_count": 50,
   "id": "35aae12e",
   "metadata": {
    "ExecuteTime": {
     "end_time": "2022-04-11T07:40:51.573173Z",
     "start_time": "2022-04-11T07:40:51.552149Z"
    }
   },
   "outputs": [
    {
     "name": "stdout",
     "output_type": "stream",
     "text": [
      "\n",
      "LOAD DATA INFILE 'C:/ProgramData/MySQL/MySQL Server 8.0/Uploads/GEOGRAPHIC_AREAS.csv'\n",
      "INTO TABLE GEOGRAPHIC_AREAS \n",
      "FIELDS TERMINATED BY ','\n",
      "ESCAPED BY ''\n",
      "OPTIONALLY ENCLOSED BY '\"'\n",
      "LINES TERMINATED BY '\\n'\n",
      "IGNORE 1 ROWS\n",
      "(@SUBMISSIONYEARQUARTER,@PWSID,@GEO_ID,@AREA_TYPE_CODE,@TRIBAL_CODE,@STATE_SERVED,@ANSI_ENTITY_CODE,@ZIP_CODE_SERVED,@CITY_SERVED,@COUNTY_SERVED,@LAST_REPORTED_DATE)\n",
      "SET\n",
      "SUBMISSIONYEARQUARTER = IF(@SUBMISSIONYEARQUARTER = '', NULL, @SUBMISSIONYEARQUARTER),\n",
      "PWSID = IF(@PWSID = '', NULL, @PWSID),\n",
      "GEO_ID = IF(@GEO_ID = '', NULL, @GEO_ID),\n",
      "AREA_TYPE_CODE = IF(@AREA_TYPE_CODE = '', NULL, @AREA_TYPE_CODE),\n",
      "TRIBAL_CODE = IF(@TRIBAL_CODE = '', NULL, @TRIBAL_CODE),\n",
      "STATE_SERVED = IF(@STATE_SERVED = '', NULL, @STATE_SERVED),\n",
      "ANSI_ENTITY_CODE = IF(@ANSI_ENTITY_CODE = '', NULL, @ANSI_ENTITY_CODE),\n",
      "ZIP_CODE_SERVED = IF(@ZIP_CODE_SERVED = '', NULL, @ZIP_CODE_SERVED),\n",
      "CITY_SERVED = IF(@CITY_SERVED = '', NULL, @CITY_SERVED),\n",
      "COUNTY_SERVED = IF(@COUNTY_SERVED = '', NULL, @COUNTY_SERVED),\n",
      "LAST_REPORTED_DATE = IF(@LAST_REPORTED_DATE = '', NULL, STR_TO_DATE(@LAST_REPORTED_DATE, '%Y-%m-%d')),\n"
     ]
    }
   ],
   "source": [
    "columns = geo_areas_df.columns.to_list()\n",
    "\n",
    "date_columns = ['LAST_REPORTED_DATE']\n",
    "\n",
    "print('''\n",
    "LOAD DATA INFILE 'C:/ProgramData/MySQL/MySQL Server 8.0/Uploads/GEOGRAPHIC_AREAS.csv'\n",
    "INTO TABLE GEOGRAPHIC_AREAS \n",
    "FIELDS TERMINATED BY ','\n",
    "ESCAPED BY ''\n",
    "OPTIONALLY ENCLOSED BY '\"'\n",
    "LINES TERMINATED BY '\\\\n'\n",
    "IGNORE 1 ROWS\n",
    "''', end='')\n",
    "print('(', end='')\n",
    "for col in columns:\n",
    "    print(f'@{col}', end='')\n",
    "    if col != columns[-1]:\n",
    "        print(',', end='')\n",
    "print(')')\n",
    "print('SET')\n",
    "for col in columns:\n",
    "    if col in date_columns:\n",
    "        print(f'{col} = IF(@{col} = \\'\\', NULL, STR_TO_DATE(@{col}, \\'%Y-%m-%d\\')),')\n",
    "    else:\n",
    "        print(f'{col} = IF(@{col} = \\'\\', NULL, @{col}),')"
   ]
  }
 ],
 "metadata": {
  "kernelspec": {
   "display_name": "Python 3",
   "language": "python",
   "name": "python3"
  },
  "language_info": {
   "codemirror_mode": {
    "name": "ipython",
    "version": 3
   },
   "file_extension": ".py",
   "mimetype": "text/x-python",
   "name": "python",
   "nbconvert_exporter": "python",
   "pygments_lexer": "ipython3",
   "version": "3.8.8"
  }
 },
 "nbformat": 4,
 "nbformat_minor": 5
}
