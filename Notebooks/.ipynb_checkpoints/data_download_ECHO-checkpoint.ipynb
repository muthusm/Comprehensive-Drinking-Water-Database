{
 "cells": [
  {
   "cell_type": "markdown",
   "metadata": {},
   "source": [
    "This notebook is to download data from ECHO\n",
    "\n",
    "https://echo.epa.gov/files/echodownloads/SDWA_latest_downloads.zip"
   ]
  },
  {
   "cell_type": "code",
   "execution_count": 1,
   "metadata": {
    "collapsed": true
   },
   "outputs": [],
   "source": [
    "import os\n",
    "import urllib"
   ]
  },
  {
   "cell_type": "code",
   "execution_count": 2,
   "metadata": {
    "collapsed": true
   },
   "outputs": [],
   "source": [
    "def download_data_zip(data_dir, zip_file):\n",
    "    data_url = 'https://echo.epa.gov/files/echodownloads/SDWA_latest_downloads.zip'\n",
    "    urllib.request.urlretrieve(data_url, zip_file)"
   ]
  },
  {
   "cell_type": "code",
   "execution_count": 3,
   "metadata": {
    "collapsed": true
   },
   "outputs": [],
   "source": [
    "from zipfile import ZipFile\n",
    "def extract_file(zip_file, data_dir):\n",
    "    with ZipFile(zip_file, 'r') as zipObj:\n",
    "        zipObj.extractall(data_dir)"
   ]
  },
  {
   "cell_type": "code",
   "execution_count": 4,
   "metadata": {},
   "outputs": [
    {
     "name": "stdout",
     "output_type": "stream",
     "text": [
      "Following files are downloaded\n",
      "------------------------------\n",
      "SDWA_GEOGRAPHIC_AREAS.csv\n",
      "SDWA_PN_VIOLATION_ASSOC.csv\n",
      "SDWA_EVENTS_MILESTONES.csv\n",
      "SDWA_PUB_WATER_SYSTEMS.csv\n",
      "SDWA_SITE_VISITS.csv\n",
      "SDWA_FACILITIES.csv\n",
      "SDWA_LCR_SAMPLES.csv\n",
      "SDWA_REF_CODE_VALUES.csv\n",
      "SDWA_SERVICE_AREAS.csv\n",
      "SDWA_REF_ANSI_AREAS.csv\n",
      "SDWA_VIOLATIONS_ENFORCEMENT.csv\n"
     ]
    }
   ],
   "source": [
    "# creating data directory if not already exists\n",
    "data_dir = '../data'\n",
    "csv_dir = data_dir+'/csv'\n",
    "zip_file = data_dir + \"/data.zip\"\n",
    "files = ['SDWA_GEOGRAPHIC_AREAS.csv', 'SDWA_PN_VIOLATION_ASSOC.csv', 'SDWA_EVENTS_MILESTONES.csv', 'SDWA_PUB_WATER_SYSTEMS.csv', 'SDWA_SITE_VISITS.csv', 'SDWA_FACILITIES.csv', 'SDWA_LCR_SAMPLES.csv', 'SDWA_REF_CODE_VALUES.csv', 'SDWA_SERVICE_AREAS.csv', 'SDWA_REF_ANSI_AREAS.csv', 'SDWA_VIOLATIONS_ENFORCEMENT.csv']\n",
    "\n",
    "try:\n",
    "    os.mkdir(data_dir)\n",
    "except FileExistsError:\n",
    "    pass    \n",
    "if not all([file in os.listdir(csv_dir) for file in files]):\n",
    "    if zip_file not in os.listdir(data_dir):\n",
    "        download_data_zip(data_dir, zip_file)\n",
    "    extract_file(zip_file, csv_dir)\n",
    "\n",
    "print('Following files are downloaded')\n",
    "print('-'*30)\n",
    "for file in filter(lambda x: x.endswith('.csv'), os.listdir(csv_dir)):\n",
    "    print(file)"
   ]
  }
 ],
 "metadata": {
  "kernelspec": {
   "display_name": "Python 3",
   "language": "python",
   "name": "python3"
  },
  "language_info": {
   "codemirror_mode": {
    "name": "ipython",
    "version": 3
   },
   "file_extension": ".py",
   "mimetype": "text/x-python",
   "name": "python",
   "nbconvert_exporter": "python",
   "pygments_lexer": "ipython3",
   "version": "3.6.3"
  }
 },
 "nbformat": 4,
 "nbformat_minor": 2
}
