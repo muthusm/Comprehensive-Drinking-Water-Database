{
 "cells": [
  {
   "cell_type": "markdown",
   "metadata": {},
   "source": [
    "This notebook is to download data from ECHO\n",
    "\n",
    "https://echo.epa.gov/files/echodownloads/SDWA_latest_downloads.zip"
   ]
  },
  {
   "cell_type": "code",
   "execution_count": 1,
   "metadata": {
    "ExecuteTime": {
     "end_time": "2022-04-03T06:13:46.753222Z",
     "start_time": "2022-04-03T06:13:46.697713Z"
    }
   },
   "outputs": [],
   "source": [
    "import os\n",
    "import urllib"
   ]
  },
  {
   "cell_type": "code",
   "execution_count": 2,
   "metadata": {
    "ExecuteTime": {
     "end_time": "2022-04-03T06:13:46.988699Z",
     "start_time": "2022-04-03T06:13:46.756155Z"
    }
   },
   "outputs": [],
   "source": [
    "def download_data_zip(data_dir, zip_file):\n",
    "    data_url = 'https://echo.epa.gov/files/echodownloads/SDWA_latest_downloads.zip'\n",
    "    urllib.request.urlretrieve(data_url, zip_file)"
   ]
  },
  {
   "cell_type": "code",
   "execution_count": 3,
   "metadata": {
    "ExecuteTime": {
     "end_time": "2022-04-03T06:13:47.211732Z",
     "start_time": "2022-04-03T06:13:46.992636Z"
    }
   },
   "outputs": [],
   "source": [
    "from zipfile import ZipFile\n",
    "def extract_file(zip_file, data_dir):\n",
    "    with ZipFile(zip_file, 'r') as zipObj:\n",
    "        zipObj.extractall(data_dir)"
   ]
  },
  {
   "cell_type": "code",
   "execution_count": 8,
   "metadata": {
    "ExecuteTime": {
     "end_time": "2022-04-03T06:45:09.645740Z",
     "start_time": "2022-04-03T06:45:09.580389Z"
    }
   },
   "outputs": [
    {
     "name": "stdout",
     "output_type": "stream",
     "text": [
      "Following files are downloaded\n",
      "------------------------------\n",
      "SDWA_EVENTS_MILESTONES.csv\n",
      "SDWA_FACILITIES.csv\n",
      "SDWA_GEOGRAPHIC_AREAS.csv\n",
      "SDWA_LCR_SAMPLES.csv\n",
      "SDWA_PN_VIOLATION_ASSOC.csv\n",
      "SDWA_PUB_WATER_SYSTEMS.csv\n",
      "SDWA_REF_ANSI_AREAS.csv\n",
      "SDWA_REF_CODE_VALUES.csv\n",
      "SDWA_SERVICE_AREAS.csv\n",
      "SDWA_SITE_VISITS.csv\n",
      "SDWA_VIOLATIONS_ENFORCEMENT.csv\n"
     ]
    }
   ],
   "source": [
    "# creating data directory if not already exists\n",
    "from pathlib import Path\n",
    "\n",
    "data_dir = '../data'\n",
    "csv_dir = data_dir+'/ECHO_data_csv'\n",
    "Path(csv_dir).mkdir(parents=True, exist_ok=True)\n",
    "\n",
    "zip_file = data_dir + \"/data.zip\"\n",
    "files = ['SDWA_GEOGRAPHIC_AREAS.csv', 'SDWA_PN_VIOLATION_ASSOC.csv', 'SDWA_EVENTS_MILESTONES.csv', 'SDWA_PUB_WATER_SYSTEMS.csv', 'SDWA_SITE_VISITS.csv', 'SDWA_FACILITIES.csv', 'SDWA_LCR_SAMPLES.csv', 'SDWA_REF_CODE_VALUES.csv', 'SDWA_SERVICE_AREAS.csv', 'SDWA_REF_ANSI_AREAS.csv', 'SDWA_VIOLATIONS_ENFORCEMENT.csv']\n",
    "\n",
    "if not all([file in os.listdir(csv_dir) for file in files]):\n",
    "    if zip_file not in os.listdir(data_dir):\n",
    "        download_data_zip(data_dir, zip_file)\n",
    "    extract_file(zip_file, csv_dir)\n",
    "\n",
    "print('Following files are downloaded')\n",
    "print('-'*30)\n",
    "for file in filter(lambda x: x.endswith('.csv'), os.listdir(csv_dir)):\n",
    "    print(file)"
   ]
  }
 ],
 "metadata": {
  "kernelspec": {
   "display_name": "Python 3",
   "language": "python",
   "name": "python3"
  },
  "language_info": {
   "codemirror_mode": {
    "name": "ipython",
    "version": 3
   },
   "file_extension": ".py",
   "mimetype": "text/x-python",
   "name": "python",
   "nbconvert_exporter": "python",
   "pygments_lexer": "ipython3",
   "version": "3.8.8"
  }
 },
 "nbformat": 4,
 "nbformat_minor": 2
}
