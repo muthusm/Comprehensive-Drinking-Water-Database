{
 "cells": [
  {
   "cell_type": "code",
   "execution_count": 1,
   "id": "f3e0e50a",
   "metadata": {
    "ExecuteTime": {
     "end_time": "2022-04-11T07:57:16.727519Z",
     "start_time": "2022-04-11T07:57:15.407477Z"
    }
   },
   "outputs": [],
   "source": [
    "import pandas as pd\n",
    "import requests\n",
    "from bs4 import BeautifulSoup"
   ]
  },
  {
   "cell_type": "markdown",
   "id": "11323ea8",
   "metadata": {},
   "source": [
    "https://www.epa.gov/dwreginfo/public-notification-rule"
   ]
  },
  {
   "cell_type": "code",
   "execution_count": 14,
   "id": "dcd6268c",
   "metadata": {
    "ExecuteTime": {
     "end_time": "2022-04-11T08:01:38.446918Z",
     "start_time": "2022-04-11T08:01:37.538908Z"
    }
   },
   "outputs": [],
   "source": [
    "pn_violation_assoc_df = pd.read_csv('../data/ECHO_data_csv/SDWA_PN_VIOLATION_ASSOC.csv', dtype=str)"
   ]
  },
  {
   "cell_type": "code",
   "execution_count": 15,
   "id": "d7b2e493",
   "metadata": {
    "ExecuteTime": {
     "end_time": "2022-04-11T08:01:39.216547Z",
     "start_time": "2022-04-11T08:01:39.187572Z"
    }
   },
   "outputs": [
    {
     "data": {
      "text/html": [
       "<div>\n",
       "<style scoped>\n",
       "    .dataframe tbody tr th:only-of-type {\n",
       "        vertical-align: middle;\n",
       "    }\n",
       "\n",
       "    .dataframe tbody tr th {\n",
       "        vertical-align: top;\n",
       "    }\n",
       "\n",
       "    .dataframe thead th {\n",
       "        text-align: right;\n",
       "    }\n",
       "</style>\n",
       "<table border=\"1\" class=\"dataframe\">\n",
       "  <thead>\n",
       "    <tr style=\"text-align: right;\">\n",
       "      <th></th>\n",
       "      <th>SUBMISSIONYEARQUARTER</th>\n",
       "      <th>PWSID</th>\n",
       "      <th>PN_VIOLATION_ID</th>\n",
       "      <th>RELATED_VIOLATION_ID</th>\n",
       "      <th>COMPL_PER_BEGIN_DATE</th>\n",
       "      <th>COMPL_PER_END_DATE</th>\n",
       "      <th>VIOLATION_CODE</th>\n",
       "      <th>CONTAMINANT_CODE</th>\n",
       "      <th>FIRST_REPORTED_DATE</th>\n",
       "      <th>LAST_REPORTED_DATE</th>\n",
       "    </tr>\n",
       "  </thead>\n",
       "  <tbody>\n",
       "    <tr>\n",
       "      <th>0</th>\n",
       "      <td>2021Q2</td>\n",
       "      <td>NC0118129</td>\n",
       "      <td>4707272</td>\n",
       "      <td>4706607</td>\n",
       "      <td>01/01/2006</td>\n",
       "      <td>12/31/2006</td>\n",
       "      <td>03</td>\n",
       "      <td>2274</td>\n",
       "      <td>08/22/2008</td>\n",
       "      <td>06/28/2019</td>\n",
       "    </tr>\n",
       "    <tr>\n",
       "      <th>1</th>\n",
       "      <td>2021Q2</td>\n",
       "      <td>NC0118129</td>\n",
       "      <td>4707272</td>\n",
       "      <td>4706707</td>\n",
       "      <td>01/01/2006</td>\n",
       "      <td>12/31/2006</td>\n",
       "      <td>03</td>\n",
       "      <td>2306</td>\n",
       "      <td>08/22/2008</td>\n",
       "      <td>06/28/2019</td>\n",
       "    </tr>\n",
       "    <tr>\n",
       "      <th>2</th>\n",
       "      <td>2021Q2</td>\n",
       "      <td>NC0118129</td>\n",
       "      <td>4707272</td>\n",
       "      <td>4706807</td>\n",
       "      <td>01/01/2006</td>\n",
       "      <td>12/31/2006</td>\n",
       "      <td>03</td>\n",
       "      <td>2326</td>\n",
       "      <td>08/22/2008</td>\n",
       "      <td>06/28/2019</td>\n",
       "    </tr>\n",
       "    <tr>\n",
       "      <th>3</th>\n",
       "      <td>2021Q2</td>\n",
       "      <td>NC0118129</td>\n",
       "      <td>4707272</td>\n",
       "      <td>4706907</td>\n",
       "      <td>01/01/2006</td>\n",
       "      <td>12/31/2006</td>\n",
       "      <td>03</td>\n",
       "      <td>2383</td>\n",
       "      <td>08/22/2008</td>\n",
       "      <td>06/28/2019</td>\n",
       "    </tr>\n",
       "    <tr>\n",
       "      <th>4</th>\n",
       "      <td>2021Q2</td>\n",
       "      <td>NC0118129</td>\n",
       "      <td>4707272</td>\n",
       "      <td>4707007</td>\n",
       "      <td>01/01/2006</td>\n",
       "      <td>12/31/2006</td>\n",
       "      <td>03</td>\n",
       "      <td>2931</td>\n",
       "      <td>08/22/2008</td>\n",
       "      <td>06/28/2019</td>\n",
       "    </tr>\n",
       "  </tbody>\n",
       "</table>\n",
       "</div>"
      ],
      "text/plain": [
       "  SUBMISSIONYEARQUARTER      PWSID PN_VIOLATION_ID RELATED_VIOLATION_ID  \\\n",
       "0                2021Q2  NC0118129         4707272              4706607   \n",
       "1                2021Q2  NC0118129         4707272              4706707   \n",
       "2                2021Q2  NC0118129         4707272              4706807   \n",
       "3                2021Q2  NC0118129         4707272              4706907   \n",
       "4                2021Q2  NC0118129         4707272              4707007   \n",
       "\n",
       "  COMPL_PER_BEGIN_DATE COMPL_PER_END_DATE VIOLATION_CODE CONTAMINANT_CODE  \\\n",
       "0           01/01/2006         12/31/2006             03             2274   \n",
       "1           01/01/2006         12/31/2006             03             2306   \n",
       "2           01/01/2006         12/31/2006             03             2326   \n",
       "3           01/01/2006         12/31/2006             03             2383   \n",
       "4           01/01/2006         12/31/2006             03             2931   \n",
       "\n",
       "  FIRST_REPORTED_DATE LAST_REPORTED_DATE  \n",
       "0          08/22/2008         06/28/2019  \n",
       "1          08/22/2008         06/28/2019  \n",
       "2          08/22/2008         06/28/2019  \n",
       "3          08/22/2008         06/28/2019  \n",
       "4          08/22/2008         06/28/2019  "
      ]
     },
     "execution_count": 15,
     "metadata": {},
     "output_type": "execute_result"
    }
   ],
   "source": [
    "pn_violation_assoc_df.head()"
   ]
  },
  {
   "cell_type": "code",
   "execution_count": 48,
   "id": "d9857c52",
   "metadata": {
    "ExecuteTime": {
     "end_time": "2022-04-11T08:20:39.449876Z",
     "start_time": "2022-04-11T08:20:39.437849Z"
    }
   },
   "outputs": [
    {
     "name": "stdout",
     "output_type": "stream",
     "text": [
      "Total number of records in pn violation assoc table is 298518\n"
     ]
    }
   ],
   "source": [
    "print(f'Total number of records in pn violation assoc table is {pn_violation_assoc_df.shape[0]}')"
   ]
  },
  {
   "cell_type": "code",
   "execution_count": 56,
   "id": "8867a035",
   "metadata": {
    "ExecuteTime": {
     "end_time": "2022-04-11T08:25:33.664252Z",
     "start_time": "2022-04-11T08:25:32.932207Z"
    }
   },
   "outputs": [
    {
     "data": {
      "text/plain": [
       "298518"
      ]
     },
     "execution_count": 56,
     "metadata": {},
     "output_type": "execute_result"
    }
   ],
   "source": [
    "sum(pn_violation_assoc_df.groupby(['PWSID', 'PN_VIOLATION_ID', 'RELATED_VIOLATION_ID']).size().tolist())"
   ]
  },
  {
   "cell_type": "markdown",
   "id": "ce623cde",
   "metadata": {},
   "source": [
    "The column set {PWSID, PN_VIOLATION_ID, RELATED_VIOLATION_ID} uniquely identifies each record"
   ]
  },
  {
   "cell_type": "code",
   "execution_count": 19,
   "id": "78432f0d",
   "metadata": {
    "ExecuteTime": {
     "end_time": "2022-04-11T08:01:44.370605Z",
     "start_time": "2022-04-11T08:01:44.161609Z"
    }
   },
   "outputs": [
    {
     "data": {
      "text/plain": [
       "SUBMISSIONYEARQUARTER        0\n",
       "PWSID                        0\n",
       "PN_VIOLATION_ID              0\n",
       "RELATED_VIOLATION_ID         0\n",
       "COMPL_PER_BEGIN_DATE         0\n",
       "COMPL_PER_END_DATE       19781\n",
       "VIOLATION_CODE               0\n",
       "CONTAMINANT_CODE           175\n",
       "FIRST_REPORTED_DATE          0\n",
       "LAST_REPORTED_DATE        2916\n",
       "dtype: int64"
      ]
     },
     "execution_count": 19,
     "metadata": {},
     "output_type": "execute_result"
    }
   ],
   "source": [
    "pn_violation_assoc_df.isnull().sum()"
   ]
  },
  {
   "cell_type": "code",
   "execution_count": 20,
   "id": "2a4b7255",
   "metadata": {
    "ExecuteTime": {
     "end_time": "2022-04-11T08:01:45.434556Z",
     "start_time": "2022-04-11T08:01:45.401526Z"
    }
   },
   "outputs": [
    {
     "data": {
      "text/html": [
       "<div>\n",
       "<style scoped>\n",
       "    .dataframe tbody tr th:only-of-type {\n",
       "        vertical-align: middle;\n",
       "    }\n",
       "\n",
       "    .dataframe tbody tr th {\n",
       "        vertical-align: top;\n",
       "    }\n",
       "\n",
       "    .dataframe thead th {\n",
       "        text-align: right;\n",
       "    }\n",
       "</style>\n",
       "<table border=\"1\" class=\"dataframe\">\n",
       "  <thead>\n",
       "    <tr style=\"text-align: right;\">\n",
       "      <th></th>\n",
       "      <th>COMPL_PER_BEGIN_DATE</th>\n",
       "      <th>COMPL_PER_END_DATE</th>\n",
       "      <th>FIRST_REPORTED_DATE</th>\n",
       "      <th>LAST_REPORTED_DATE</th>\n",
       "    </tr>\n",
       "  </thead>\n",
       "  <tbody>\n",
       "    <tr>\n",
       "      <th>0</th>\n",
       "      <td>01/01/2006</td>\n",
       "      <td>12/31/2006</td>\n",
       "      <td>08/22/2008</td>\n",
       "      <td>06/28/2019</td>\n",
       "    </tr>\n",
       "    <tr>\n",
       "      <th>1</th>\n",
       "      <td>01/01/2006</td>\n",
       "      <td>12/31/2006</td>\n",
       "      <td>08/22/2008</td>\n",
       "      <td>06/28/2019</td>\n",
       "    </tr>\n",
       "    <tr>\n",
       "      <th>2</th>\n",
       "      <td>01/01/2006</td>\n",
       "      <td>12/31/2006</td>\n",
       "      <td>08/22/2008</td>\n",
       "      <td>06/28/2019</td>\n",
       "    </tr>\n",
       "    <tr>\n",
       "      <th>3</th>\n",
       "      <td>01/01/2006</td>\n",
       "      <td>12/31/2006</td>\n",
       "      <td>08/22/2008</td>\n",
       "      <td>06/28/2019</td>\n",
       "    </tr>\n",
       "    <tr>\n",
       "      <th>4</th>\n",
       "      <td>01/01/2006</td>\n",
       "      <td>12/31/2006</td>\n",
       "      <td>08/22/2008</td>\n",
       "      <td>06/28/2019</td>\n",
       "    </tr>\n",
       "  </tbody>\n",
       "</table>\n",
       "</div>"
      ],
      "text/plain": [
       "  COMPL_PER_BEGIN_DATE COMPL_PER_END_DATE FIRST_REPORTED_DATE  \\\n",
       "0           01/01/2006         12/31/2006          08/22/2008   \n",
       "1           01/01/2006         12/31/2006          08/22/2008   \n",
       "2           01/01/2006         12/31/2006          08/22/2008   \n",
       "3           01/01/2006         12/31/2006          08/22/2008   \n",
       "4           01/01/2006         12/31/2006          08/22/2008   \n",
       "\n",
       "  LAST_REPORTED_DATE  \n",
       "0         06/28/2019  \n",
       "1         06/28/2019  \n",
       "2         06/28/2019  \n",
       "3         06/28/2019  \n",
       "4         06/28/2019  "
      ]
     },
     "execution_count": 20,
     "metadata": {},
     "output_type": "execute_result"
    }
   ],
   "source": [
    "## Seeing date formats\n",
    "date_columns = ['COMPL_PER_BEGIN_DATE', 'COMPL_PER_END_DATE', 'FIRST_REPORTED_DATE', 'LAST_REPORTED_DATE']\n",
    "pn_violation_assoc_df[date_columns].head()"
   ]
  },
  {
   "cell_type": "code",
   "execution_count": 21,
   "id": "4d19ad9b",
   "metadata": {
    "ExecuteTime": {
     "end_time": "2022-04-11T08:01:46.883797Z",
     "start_time": "2022-04-11T08:01:46.530734Z"
    }
   },
   "outputs": [],
   "source": [
    "for datecol in date_columns:\n",
    "    pn_violation_assoc_df[datecol] = pd.to_datetime(pn_violation_assoc_df[datecol], format='%m/%d/%Y')"
   ]
  },
  {
   "cell_type": "code",
   "execution_count": 22,
   "id": "ceeb74bd",
   "metadata": {
    "ExecuteTime": {
     "end_time": "2022-04-11T08:01:47.575611Z",
     "start_time": "2022-04-11T08:01:47.532585Z"
    }
   },
   "outputs": [
    {
     "data": {
      "text/html": [
       "<div>\n",
       "<style scoped>\n",
       "    .dataframe tbody tr th:only-of-type {\n",
       "        vertical-align: middle;\n",
       "    }\n",
       "\n",
       "    .dataframe tbody tr th {\n",
       "        vertical-align: top;\n",
       "    }\n",
       "\n",
       "    .dataframe thead th {\n",
       "        text-align: right;\n",
       "    }\n",
       "</style>\n",
       "<table border=\"1\" class=\"dataframe\">\n",
       "  <thead>\n",
       "    <tr style=\"text-align: right;\">\n",
       "      <th></th>\n",
       "      <th>COMPL_PER_BEGIN_DATE</th>\n",
       "      <th>COMPL_PER_END_DATE</th>\n",
       "      <th>FIRST_REPORTED_DATE</th>\n",
       "      <th>LAST_REPORTED_DATE</th>\n",
       "    </tr>\n",
       "  </thead>\n",
       "  <tbody>\n",
       "    <tr>\n",
       "      <th>0</th>\n",
       "      <td>2006-01-01</td>\n",
       "      <td>2006-12-31</td>\n",
       "      <td>2008-08-22</td>\n",
       "      <td>2019-06-28</td>\n",
       "    </tr>\n",
       "    <tr>\n",
       "      <th>1</th>\n",
       "      <td>2006-01-01</td>\n",
       "      <td>2006-12-31</td>\n",
       "      <td>2008-08-22</td>\n",
       "      <td>2019-06-28</td>\n",
       "    </tr>\n",
       "    <tr>\n",
       "      <th>2</th>\n",
       "      <td>2006-01-01</td>\n",
       "      <td>2006-12-31</td>\n",
       "      <td>2008-08-22</td>\n",
       "      <td>2019-06-28</td>\n",
       "    </tr>\n",
       "    <tr>\n",
       "      <th>3</th>\n",
       "      <td>2006-01-01</td>\n",
       "      <td>2006-12-31</td>\n",
       "      <td>2008-08-22</td>\n",
       "      <td>2019-06-28</td>\n",
       "    </tr>\n",
       "    <tr>\n",
       "      <th>4</th>\n",
       "      <td>2006-01-01</td>\n",
       "      <td>2006-12-31</td>\n",
       "      <td>2008-08-22</td>\n",
       "      <td>2019-06-28</td>\n",
       "    </tr>\n",
       "  </tbody>\n",
       "</table>\n",
       "</div>"
      ],
      "text/plain": [
       "  COMPL_PER_BEGIN_DATE COMPL_PER_END_DATE FIRST_REPORTED_DATE  \\\n",
       "0           2006-01-01         2006-12-31          2008-08-22   \n",
       "1           2006-01-01         2006-12-31          2008-08-22   \n",
       "2           2006-01-01         2006-12-31          2008-08-22   \n",
       "3           2006-01-01         2006-12-31          2008-08-22   \n",
       "4           2006-01-01         2006-12-31          2008-08-22   \n",
       "\n",
       "  LAST_REPORTED_DATE  \n",
       "0         2019-06-28  \n",
       "1         2019-06-28  \n",
       "2         2019-06-28  \n",
       "3         2019-06-28  \n",
       "4         2019-06-28  "
      ]
     },
     "execution_count": 22,
     "metadata": {},
     "output_type": "execute_result"
    }
   ],
   "source": [
    "pn_violation_assoc_df[date_columns].head()"
   ]
  },
  {
   "cell_type": "code",
   "execution_count": 23,
   "id": "d2ce93e8",
   "metadata": {
    "ExecuteTime": {
     "end_time": "2022-04-11T08:01:50.394234Z",
     "start_time": "2022-04-11T08:01:50.354246Z"
    }
   },
   "outputs": [
    {
     "name": "stdout",
     "output_type": "stream",
     "text": [
      "Range of COMPL_PER_BEGIN_DATE is between 1992-06-30 00:00:00 and 2021-05-04 00:00:00\n",
      "Range of COMPL_PER_END_DATE is between 1992-09-30 00:00:00 and 2021-12-31 00:00:00\n",
      "Range of FIRST_REPORTED_DATE is between 2002-02-16 00:00:00 and 2021-07-01 00:00:00\n",
      "Range of LAST_REPORTED_DATE is between 2002-02-16 00:00:00 and 2021-07-01 00:00:00\n"
     ]
    }
   ],
   "source": [
    "for datacol in date_columns:\n",
    "    print('Range of {} is between {} and {}'.format(datacol, pn_violation_assoc_df[datacol].min(), pn_violation_assoc_df[datacol].max()))"
   ]
  },
  {
   "cell_type": "code",
   "execution_count": 25,
   "id": "b35fc2a1",
   "metadata": {
    "ExecuteTime": {
     "end_time": "2022-04-11T08:01:54.612752Z",
     "start_time": "2022-04-11T08:01:54.599749Z"
    }
   },
   "outputs": [
    {
     "data": {
      "text/plain": [
       "10"
      ]
     },
     "execution_count": 25,
     "metadata": {},
     "output_type": "execute_result"
    }
   ],
   "source": [
    "len(pn_violation_assoc_df.columns)"
   ]
  },
  {
   "cell_type": "markdown",
   "id": "fa32a057",
   "metadata": {},
   "source": [
    "### Web Scraping Column description and data type"
   ]
  },
  {
   "cell_type": "code",
   "execution_count": 26,
   "id": "d813261a",
   "metadata": {
    "ExecuteTime": {
     "end_time": "2022-04-11T08:02:02.530177Z",
     "start_time": "2022-04-11T08:01:58.363600Z"
    }
   },
   "outputs": [],
   "source": [
    "def get_html():\n",
    "    URL = \"https://echo.epa.gov/tools/data-downloads/sdwa-download-summary\"\n",
    "    r = requests.get(URL)  \n",
    "    html_soup = BeautifulSoup(r.content, 'html.parser') \n",
    "    return html_soup\n",
    "html_soup = get_html()"
   ]
  },
  {
   "cell_type": "code",
   "execution_count": 40,
   "id": "080ee37d",
   "metadata": {
    "ExecuteTime": {
     "end_time": "2022-04-11T08:11:29.164251Z",
     "start_time": "2022-04-11T08:11:29.067277Z"
    }
   },
   "outputs": [
    {
     "data": {
      "text/html": [
       "<div>\n",
       "<style scoped>\n",
       "    .dataframe tbody tr th:only-of-type {\n",
       "        vertical-align: middle;\n",
       "    }\n",
       "\n",
       "    .dataframe tbody tr th {\n",
       "        vertical-align: top;\n",
       "    }\n",
       "\n",
       "    .dataframe thead th {\n",
       "        text-align: right;\n",
       "    }\n",
       "</style>\n",
       "<table border=\"1\" class=\"dataframe\">\n",
       "  <thead>\n",
       "    <tr style=\"text-align: right;\">\n",
       "      <th></th>\n",
       "      <th>Element</th>\n",
       "      <th>Data Type</th>\n",
       "      <th>Length</th>\n",
       "    </tr>\n",
       "  </thead>\n",
       "  <tbody>\n",
       "    <tr>\n",
       "      <th>0</th>\n",
       "      <td>PWSID</td>\n",
       "      <td>Char</td>\n",
       "      <td>9</td>\n",
       "    </tr>\n",
       "    <tr>\n",
       "      <th>1</th>\n",
       "      <td>SUBMISSIONYEARQUARTER</td>\n",
       "      <td>Char</td>\n",
       "      <td>6</td>\n",
       "    </tr>\n",
       "    <tr>\n",
       "      <th>2</th>\n",
       "      <td>PN_VIOLATION_ID</td>\n",
       "      <td>Num</td>\n",
       "      <td></td>\n",
       "    </tr>\n",
       "    <tr>\n",
       "      <th>3</th>\n",
       "      <td>COMPL_PER_END_DATE</td>\n",
       "      <td>Date</td>\n",
       "      <td></td>\n",
       "    </tr>\n",
       "    <tr>\n",
       "      <th>4</th>\n",
       "      <td>VIOLATION_CODE</td>\n",
       "      <td>Char</td>\n",
       "      <td>2</td>\n",
       "    </tr>\n",
       "    <tr>\n",
       "      <th>5</th>\n",
       "      <td>CONTAMINANT_CODE</td>\n",
       "      <td>Char</td>\n",
       "      <td>4</td>\n",
       "    </tr>\n",
       "    <tr>\n",
       "      <th>6</th>\n",
       "      <td>FIRST_REPORTED_DATE</td>\n",
       "      <td>Date</td>\n",
       "      <td></td>\n",
       "    </tr>\n",
       "    <tr>\n",
       "      <th>7</th>\n",
       "      <td>LAST_REPORTED_DATE</td>\n",
       "      <td>Date</td>\n",
       "      <td></td>\n",
       "    </tr>\n",
       "    <tr>\n",
       "      <th>8</th>\n",
       "      <td>COMPL_PER_BEGIN_DATE</td>\n",
       "      <td>Date</td>\n",
       "      <td></td>\n",
       "    </tr>\n",
       "    <tr>\n",
       "      <th>9</th>\n",
       "      <td>RELATED_VIOLATION_ID</td>\n",
       "      <td>Char</td>\n",
       "      <td>40</td>\n",
       "    </tr>\n",
       "  </tbody>\n",
       "</table>\n",
       "</div>"
      ],
      "text/plain": [
       "                 Element Data Type Length\n",
       "0                  PWSID      Char      9\n",
       "1  SUBMISSIONYEARQUARTER      Char      6\n",
       "2        PN_VIOLATION_ID       Num       \n",
       "3     COMPL_PER_END_DATE      Date       \n",
       "4         VIOLATION_CODE      Char      2\n",
       "5       CONTAMINANT_CODE      Char      4\n",
       "6    FIRST_REPORTED_DATE      Date       \n",
       "7     LAST_REPORTED_DATE      Date       \n",
       "8   COMPL_PER_BEGIN_DATE      Date       \n",
       "9   RELATED_VIOLATION_ID      Char     40"
      ]
     },
     "execution_count": 40,
     "metadata": {},
     "output_type": "execute_result"
    }
   ],
   "source": [
    "cols = []\n",
    "filename = 'SDWA_PN_VIOLATION_ASSOC.csv'\n",
    "idx = [i for i, item in enumerate(list(html_soup.find_all(\"div\", {\"class\": 'field-item even'})[0].find_all('h3'))) if filename in item.getText()][0]\n",
    "for th in html_soup.find_all(\"div\", {\"class\": 'field-item even'})[0].find_all('h3')[idx].find_next_sibling('table').find(\"thead\").find_all(\"th\"):\n",
    "    cols.append(th.get_text().replace(u'\\xa0', u''))\n",
    "rows = []\n",
    "for row in html_soup.find_all(\"div\", {\"class\": 'field-item even'})[0].find_all('h3')[idx].find_next_sibling('table').find(\"tbody\").find_all(\"tr\"):\n",
    "    r = []\n",
    "    for td in row.find_all('td'):\n",
    "        r.append(td.get_text().replace(u'\\xa0', u'').replace('CONTAMINATION_CODE', 'CONTAMINANT_CODE'))\n",
    "    rows.append(r)\n",
    "rows.append(['COMPL_PER_BEGIN_DATE', 'Date', ''])\n",
    "rows.append(['RELATED_VIOLATION_ID', 'Char', '40'])\n",
    "\n",
    "\n",
    "column_datatype = pd.DataFrame(rows, columns=cols)\n",
    "column_datatype = column_datatype[column_datatype.Element.isin(pn_violation_assoc_df.columns)]\n",
    "\n",
    "column_datatype"
   ]
  },
  {
   "cell_type": "code",
   "execution_count": 57,
   "id": "1907719d",
   "metadata": {
    "ExecuteTime": {
     "end_time": "2022-04-11T08:26:38.938707Z",
     "start_time": "2022-04-11T08:26:38.717639Z"
    }
   },
   "outputs": [
    {
     "data": {
      "text/plain": [
       "20"
      ]
     },
     "execution_count": 57,
     "metadata": {},
     "output_type": "execute_result"
    }
   ],
   "source": [
    "pn_violation_assoc_df.PN_VIOLATION_ID.dropna().map(lambda x: len(x)).max()"
   ]
  },
  {
   "cell_type": "code",
   "execution_count": 38,
   "id": "dacfc298",
   "metadata": {
    "ExecuteTime": {
     "end_time": "2022-04-11T08:09:58.440481Z",
     "start_time": "2022-04-11T08:09:58.349504Z"
    }
   },
   "outputs": [
    {
     "data": {
      "text/html": [
       "<div>\n",
       "<style scoped>\n",
       "    .dataframe tbody tr th:only-of-type {\n",
       "        vertical-align: middle;\n",
       "    }\n",
       "\n",
       "    .dataframe tbody tr th {\n",
       "        vertical-align: top;\n",
       "    }\n",
       "\n",
       "    .dataframe thead th {\n",
       "        text-align: right;\n",
       "    }\n",
       "</style>\n",
       "<table border=\"1\" class=\"dataframe\">\n",
       "  <thead>\n",
       "    <tr style=\"text-align: right;\">\n",
       "      <th></th>\n",
       "      <th>COLUMN</th>\n",
       "      <th>DESCRIPTION</th>\n",
       "    </tr>\n",
       "  </thead>\n",
       "  <tbody>\n",
       "    <tr>\n",
       "      <th>0</th>\n",
       "      <td>CONTAMINANT_CODE</td>\n",
       "      <td>A code value that represents a contaminant for which a public water system has incurred a violation of a primary drinking water regulation. A full description of the codes can be accessed in the SDWA_REF_CODE_VALUES.csv.</td>\n",
       "    </tr>\n",
       "    <tr>\n",
       "      <th>1</th>\n",
       "      <td>COMPL_PER_END_DATE</td>\n",
       "      <td>End of the compliance period. Note that for open-ended compliance periods, the COMPL_PER_END_DATE is listed as blank (MM/DD/YYYY format).</td>\n",
       "    </tr>\n",
       "    <tr>\n",
       "      <th>2</th>\n",
       "      <td>FIRST_REPORTED_DATE</td>\n",
       "      <td>The first reported date for the milestone event. The date format is MM/DD/YYYY.</td>\n",
       "    </tr>\n",
       "    <tr>\n",
       "      <th>3</th>\n",
       "      <td>LAST_REPORTED_DATE</td>\n",
       "      <td>The last reported date for the milestone event. The date format is MM/DD/YYYY.</td>\n",
       "    </tr>\n",
       "    <tr>\n",
       "      <th>4</th>\n",
       "      <td>PN_VIOLATION_ID</td>\n",
       "      <td>Unique identifier identifying the public notification.</td>\n",
       "    </tr>\n",
       "    <tr>\n",
       "      <th>5</th>\n",
       "      <td>PWSID</td>\n",
       "      <td>A unique identifying code for a public water system in SDWIS. The PWSID consists of a two-letter state or region code, followed by seven digits.</td>\n",
       "    </tr>\n",
       "    <tr>\n",
       "      <th>6</th>\n",
       "      <td>SUBMISSIONYEARQUARTER</td>\n",
       "      <td>The fiscal year and quarter when the event took place.</td>\n",
       "    </tr>\n",
       "    <tr>\n",
       "      <th>7</th>\n",
       "      <td>VIOLATION_CODE</td>\n",
       "      <td>A full description of violation codes can be accessed in the SDWA_REF_CODE_VALUES (CSV) table.</td>\n",
       "    </tr>\n",
       "  </tbody>\n",
       "</table>\n",
       "</div>"
      ],
      "text/plain": [
       "                   COLUMN  \\\n",
       "0        CONTAMINANT_CODE   \n",
       "1      COMPL_PER_END_DATE   \n",
       "2     FIRST_REPORTED_DATE   \n",
       "3      LAST_REPORTED_DATE   \n",
       "4         PN_VIOLATION_ID   \n",
       "5                  PWSID    \n",
       "6  SUBMISSIONYEARQUARTER    \n",
       "7          VIOLATION_CODE   \n",
       "\n",
       "                                                                                                                                                                                                                     DESCRIPTION  \n",
       "0   A code value that represents a contaminant for which a public water system has incurred a violation of a primary drinking water regulation. A full description of the codes can be accessed in the SDWA_REF_CODE_VALUES.csv.  \n",
       "1                                                                                      End of the compliance period. Note that for open-ended compliance periods, the COMPL_PER_END_DATE is listed as blank (MM/DD/YYYY format).  \n",
       "2                                                                                                                                                The first reported date for the milestone event. The date format is MM/DD/YYYY.  \n",
       "3                                                                                                                                                 The last reported date for the milestone event. The date format is MM/DD/YYYY.  \n",
       "4                                                                                                                                                                         Unique identifier identifying the public notification.  \n",
       "5                                                                               A unique identifying code for a public water system in SDWIS. The PWSID consists of a two-letter state or region code, followed by seven digits.  \n",
       "6                                                                                                                                                                         The fiscal year and quarter when the event took place.  \n",
       "7                                                                                                                                 A full description of violation codes can be accessed in the SDWA_REF_CODE_VALUES (CSV) table.  "
      ]
     },
     "execution_count": 38,
     "metadata": {},
     "output_type": "execute_result"
    }
   ],
   "source": [
    "data_dictionary = {\n",
    "    p.find_all('strong')[0].getText().replace(u'\\xa0', u'') : p.getText().replace(u'\\xa0', u' ')\n",
    "    for p in html_soup.find_all(\"div\", {\"class\": 'field-item even'})[0].find_all('p') \n",
    "    if p.find_all('strong') and len(p.find_all('strong')) == 1 and p.find_all('strong')[0].getText().replace(u'\\xa0', u'') in list(pn_violation_assoc_df.columns)\n",
    "}\n",
    "pd.set_option('display.max_colwidth', None)\n",
    "col_desc = pd.DataFrame([data_dictionary[col] for col in data_dictionary], columns=['raw_desc'])\n",
    "\n",
    "col_desc[['COLUMN', 'DESCRIPTION']] = col_desc['raw_desc'].str.split('-', 1, expand=True)\n",
    "col_desc = col_desc[['COLUMN', 'DESCRIPTION']]\n",
    "col_desc"
   ]
  },
  {
   "cell_type": "markdown",
   "id": "8f06c319",
   "metadata": {},
   "source": [
    "### Generating create SQL statement to create 'pn_violation_assoc' table to store pn violation details"
   ]
  },
  {
   "cell_type": "code",
   "execution_count": 41,
   "id": "280aa664",
   "metadata": {
    "ExecuteTime": {
     "end_time": "2022-04-11T08:11:31.866051Z",
     "start_time": "2022-04-11T08:11:31.842060Z"
    }
   },
   "outputs": [
    {
     "name": "stdout",
     "output_type": "stream",
     "text": [
      "CREATE TABLE PN_VIOLATIONS_ASSOC (\n",
      "\tSUBMISSIONYEARQUARTER     VARCHAR(6),\n",
      "\tPWSID                     VARCHAR(9),\n",
      "\tPN_VIOLATION_ID           INT,\n",
      "\tRELATED_VIOLATION_ID      VARCHAR(40),\n",
      "\tCOMPL_PER_BEGIN_DATE      DATE,\n",
      "\tCOMPL_PER_END_DATE        DATE,\n",
      "\tVIOLATION_CODE            VARCHAR(2),\n",
      "\tCONTAMINANT_CODE          VARCHAR(4),\n",
      "\tFIRST_REPORTED_DATE       DATE,\n",
      "\tLAST_REPORTED_DATE        DATE\n",
      ") ENGINE = InnoDB;\n"
     ]
    }
   ],
   "source": [
    "temp_dict = {}\n",
    "\n",
    "def space(n):\n",
    "    return ' ' * (max([len(col) for col in pn_violation_assoc_df.columns]) + 5 - n)\n",
    "\n",
    "for ind in column_datatype.index:\n",
    "    col_name = column_datatype['Element'][ind]\n",
    "    data_type = column_datatype['Data Type'][ind]\n",
    "    length = column_datatype['Length'][ind]\n",
    "    data_type = 'VARCHAR' if data_type == 'Char' else 'DATE' if data_type == 'Date' else 'INT'\n",
    "    data_type = data_type + '('+ length +')' if length != '' and data_type == 'VARCHAR' else data_type + '(255)' if data_type == 'VARCHAR' else data_type\n",
    "    temp_dict[col_name] = data_type\n",
    "print('CREATE TABLE PN_VIOLATIONS_ASSOC (')\n",
    "for col in pn_violation_assoc_df.columns:\n",
    "    print(f'\\t{col}{space(len(col))}{temp_dict[col]}', end='')\n",
    "    if col != pn_violation_assoc_df.columns[-1]:\n",
    "        print(',')\n",
    "    else:\n",
    "        print()\n",
    "print(') ENGINE = InnoDB;')"
   ]
  },
  {
   "cell_type": "code",
   "execution_count": 46,
   "id": "d9715042",
   "metadata": {
    "ExecuteTime": {
     "end_time": "2022-04-11T08:18:02.377787Z",
     "start_time": "2022-04-11T08:17:47.948843Z"
    }
   },
   "outputs": [],
   "source": [
    "pn_violation_assoc_df.sort_values(['PWSID', 'PN_VIOLATION_ID'], ascending=[True, True]).to_csv('../data/processed_data/PN_VIOLATIONS_ASSOC.csv', index=False) # violations.groupby(['PWSID', 'VIOLATION_ID']).size()"
   ]
  },
  {
   "cell_type": "code",
   "execution_count": 45,
   "id": "35aae12e",
   "metadata": {
    "ExecuteTime": {
     "end_time": "2022-04-11T08:13:07.916335Z",
     "start_time": "2022-04-11T08:13:07.899359Z"
    }
   },
   "outputs": [
    {
     "name": "stdout",
     "output_type": "stream",
     "text": [
      "\n",
      "LOAD DATA INFILE 'C:/ProgramData/MySQL/MySQL Server 8.0/Uploads/PN_VIOLATIONS_ASSOC.csv'\n",
      "INTO TABLE PN_VIOLATIONS_ASSOC \n",
      "FIELDS TERMINATED BY ','\n",
      "ESCAPED BY ''\n",
      "OPTIONALLY ENCLOSED BY '\"'\n",
      "LINES TERMINATED BY '\\n'\n",
      "IGNORE 1 ROWS\n",
      "(@SUBMISSIONYEARQUARTER,@PWSID,@PN_VIOLATION_ID,@RELATED_VIOLATION_ID,@COMPL_PER_BEGIN_DATE,@COMPL_PER_END_DATE,@VIOLATION_CODE,@CONTAMINANT_CODE,@FIRST_REPORTED_DATE,@LAST_REPORTED_DATE)\n",
      "SET\n",
      "SUBMISSIONYEARQUARTER = IF(@SUBMISSIONYEARQUARTER = '', NULL, @SUBMISSIONYEARQUARTER),\n",
      "PWSID = IF(@PWSID = '', NULL, @PWSID),\n",
      "PN_VIOLATION_ID = IF(@PN_VIOLATION_ID = '', NULL, @PN_VIOLATION_ID),\n",
      "RELATED_VIOLATION_ID = IF(@RELATED_VIOLATION_ID = '', NULL, @RELATED_VIOLATION_ID),\n",
      "COMPL_PER_BEGIN_DATE = IF(@COMPL_PER_BEGIN_DATE = '', NULL, STR_TO_DATE(@COMPL_PER_BEGIN_DATE, '%Y-%m-%d')),\n",
      "COMPL_PER_END_DATE = IF(@COMPL_PER_END_DATE = '', NULL, STR_TO_DATE(@COMPL_PER_END_DATE, '%Y-%m-%d')),\n",
      "VIOLATION_CODE = IF(@VIOLATION_CODE = '', NULL, @VIOLATION_CODE),\n",
      "CONTAMINANT_CODE = IF(@CONTAMINANT_CODE = '', NULL, @CONTAMINANT_CODE),\n",
      "FIRST_REPORTED_DATE = IF(@FIRST_REPORTED_DATE = '', NULL, STR_TO_DATE(@FIRST_REPORTED_DATE, '%Y-%m-%d')),\n",
      "LAST_REPORTED_DATE = IF(@LAST_REPORTED_DATE = '', NULL, STR_TO_DATE(@LAST_REPORTED_DATE, '%Y-%m-%d')),\n"
     ]
    }
   ],
   "source": [
    "columns = pn_violation_assoc_df.columns.to_list()\n",
    "\n",
    "date_columns = ['COMPL_PER_BEGIN_DATE', 'COMPL_PER_END_DATE', 'FIRST_REPORTED_DATE', 'LAST_REPORTED_DATE']\n",
    "\n",
    "print('''\n",
    "LOAD DATA INFILE 'C:/ProgramData/MySQL/MySQL Server 8.0/Uploads/PN_VIOLATIONS_ASSOC.csv'\n",
    "INTO TABLE PN_VIOLATIONS_ASSOC \n",
    "FIELDS TERMINATED BY ','\n",
    "ESCAPED BY ''\n",
    "OPTIONALLY ENCLOSED BY '\"'\n",
    "LINES TERMINATED BY '\\\\n'\n",
    "IGNORE 1 ROWS\n",
    "''', end='')\n",
    "print('(', end='')\n",
    "for col in columns:\n",
    "    print(f'@{col}', end='')\n",
    "    if col != columns[-1]:\n",
    "        print(',', end='')\n",
    "print(')')\n",
    "print('SET')\n",
    "for col in columns:\n",
    "    if col in date_columns:\n",
    "        print(f'{col} = IF(@{col} = \\'\\', NULL, STR_TO_DATE(@{col}, \\'%Y-%m-%d\\')),')\n",
    "    else:\n",
    "        print(f'{col} = IF(@{col} = \\'\\', NULL, @{col}),')"
   ]
  },
  {
   "cell_type": "code",
   "execution_count": null,
   "id": "79084c69",
   "metadata": {},
   "outputs": [],
   "source": []
  }
 ],
 "metadata": {
  "kernelspec": {
   "display_name": "Python 3",
   "language": "python",
   "name": "python3"
  },
  "language_info": {
   "codemirror_mode": {
    "name": "ipython",
    "version": 3
   },
   "file_extension": ".py",
   "mimetype": "text/x-python",
   "name": "python",
   "nbconvert_exporter": "python",
   "pygments_lexer": "ipython3",
   "version": "3.8.8"
  }
 },
 "nbformat": 4,
 "nbformat_minor": 5
}
