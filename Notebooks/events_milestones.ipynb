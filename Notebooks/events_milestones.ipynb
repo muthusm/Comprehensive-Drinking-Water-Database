{
 "cells": [
  {
   "cell_type": "code",
   "execution_count": 2,
   "id": "f3e0e50a",
   "metadata": {
    "ExecuteTime": {
     "end_time": "2022-04-11T06:47:38.891044Z",
     "start_time": "2022-04-11T06:47:34.002521Z"
    }
   },
   "outputs": [],
   "source": [
    "import pandas as pd\n",
    "import requests\n",
    "from bs4 import BeautifulSoup"
   ]
  },
  {
   "cell_type": "code",
   "execution_count": 4,
   "id": "dcd6268c",
   "metadata": {
    "ExecuteTime": {
     "end_time": "2022-04-11T06:47:54.377513Z",
     "start_time": "2022-04-11T06:47:52.350823Z"
    }
   },
   "outputs": [],
   "source": [
    "events_milestones_df = pd.read_csv('../data/ECHO_data_csv/SDWA_EVENTS_MILESTONES.csv', dtype=str)"
   ]
  },
  {
   "cell_type": "code",
   "execution_count": 5,
   "id": "d7b2e493",
   "metadata": {
    "ExecuteTime": {
     "end_time": "2022-04-11T06:47:56.395474Z",
     "start_time": "2022-04-11T06:47:56.218456Z"
    }
   },
   "outputs": [
    {
     "data": {
      "text/html": [
       "<div>\n",
       "<style scoped>\n",
       "    .dataframe tbody tr th:only-of-type {\n",
       "        vertical-align: middle;\n",
       "    }\n",
       "\n",
       "    .dataframe tbody tr th {\n",
       "        vertical-align: top;\n",
       "    }\n",
       "\n",
       "    .dataframe thead th {\n",
       "        text-align: right;\n",
       "    }\n",
       "</style>\n",
       "<table border=\"1\" class=\"dataframe\">\n",
       "  <thead>\n",
       "    <tr style=\"text-align: right;\">\n",
       "      <th></th>\n",
       "      <th>SUBMISSIONYEARQUARTER</th>\n",
       "      <th>PWSID</th>\n",
       "      <th>EVENT_SCHEDULE_ID</th>\n",
       "      <th>EVENT_END_DATE</th>\n",
       "      <th>EVENT_ACTUAL_DATE</th>\n",
       "      <th>EVENT_COMMENTS_TEXT</th>\n",
       "      <th>EVENT_MILESTONE_CODE</th>\n",
       "      <th>EVENT_REASON_CODE</th>\n",
       "      <th>FIRST_REPORTED_DATE</th>\n",
       "      <th>LAST_REPORTED_DATE</th>\n",
       "    </tr>\n",
       "  </thead>\n",
       "  <tbody>\n",
       "    <tr>\n",
       "      <th>0</th>\n",
       "      <td>2021Q2</td>\n",
       "      <td>LA1033019</td>\n",
       "      <td>COR-LA160554879</td>\n",
       "      <td>09/11/2011</td>\n",
       "      <td>05/15/2012</td>\n",
       "      <td>GWR - APP CORRECTIVE ACTION PLAN (FED)SO30-SRC...</td>\n",
       "      <td>SDFF</td>\n",
       "      <td>GW</td>\n",
       "      <td>08/16/2012</td>\n",
       "      <td>06/01/2015</td>\n",
       "    </tr>\n",
       "    <tr>\n",
       "      <th>1</th>\n",
       "      <td>2021Q2</td>\n",
       "      <td>LA1033019</td>\n",
       "      <td>COR-LA160564880</td>\n",
       "      <td>09/11/2011</td>\n",
       "      <td>05/15/2012</td>\n",
       "      <td>GWR - APP CORRECTIVE ACTION PLAN (FED)SO33-SRC...</td>\n",
       "      <td>SDFF</td>\n",
       "      <td>GW</td>\n",
       "      <td>08/16/2012</td>\n",
       "      <td>06/01/2015</td>\n",
       "    </tr>\n",
       "    <tr>\n",
       "      <th>2</th>\n",
       "      <td>2021Q2</td>\n",
       "      <td>LA1033019</td>\n",
       "      <td>COR-LA160574881</td>\n",
       "      <td>09/11/2011</td>\n",
       "      <td>05/15/2012</td>\n",
       "      <td>GWR - APP CORRECTIVE ACTION PLAN (FED)SO30-SRC...</td>\n",
       "      <td>SDFF</td>\n",
       "      <td>GW</td>\n",
       "      <td>08/16/2012</td>\n",
       "      <td>06/01/2015</td>\n",
       "    </tr>\n",
       "    <tr>\n",
       "      <th>3</th>\n",
       "      <td>2021Q2</td>\n",
       "      <td>LA1033019</td>\n",
       "      <td>COR-LA160584882</td>\n",
       "      <td>09/11/2011</td>\n",
       "      <td>05/15/2012</td>\n",
       "      <td>GWR - APP CORRECTIVE ACTION PLAN (FED)SO30-SRC...</td>\n",
       "      <td>SDFF</td>\n",
       "      <td>GW</td>\n",
       "      <td>08/16/2012</td>\n",
       "      <td>06/01/2015</td>\n",
       "    </tr>\n",
       "    <tr>\n",
       "      <th>4</th>\n",
       "      <td>2021Q2</td>\n",
       "      <td>LA1033019</td>\n",
       "      <td>COR-LA160594883</td>\n",
       "      <td>09/11/2011</td>\n",
       "      <td>05/15/2012</td>\n",
       "      <td>GWR - APP CORRECTIVE ACTION PLAN (FED)SO30-SRC...</td>\n",
       "      <td>SDFF</td>\n",
       "      <td>GW</td>\n",
       "      <td>08/16/2012</td>\n",
       "      <td>06/01/2015</td>\n",
       "    </tr>\n",
       "  </tbody>\n",
       "</table>\n",
       "</div>"
      ],
      "text/plain": [
       "  SUBMISSIONYEARQUARTER      PWSID EVENT_SCHEDULE_ID EVENT_END_DATE  \\\n",
       "0                2021Q2  LA1033019   COR-LA160554879     09/11/2011   \n",
       "1                2021Q2  LA1033019   COR-LA160564880     09/11/2011   \n",
       "2                2021Q2  LA1033019   COR-LA160574881     09/11/2011   \n",
       "3                2021Q2  LA1033019   COR-LA160584882     09/11/2011   \n",
       "4                2021Q2  LA1033019   COR-LA160594883     09/11/2011   \n",
       "\n",
       "  EVENT_ACTUAL_DATE                                EVENT_COMMENTS_TEXT  \\\n",
       "0        05/15/2012  GWR - APP CORRECTIVE ACTION PLAN (FED)SO30-SRC...   \n",
       "1        05/15/2012  GWR - APP CORRECTIVE ACTION PLAN (FED)SO33-SRC...   \n",
       "2        05/15/2012  GWR - APP CORRECTIVE ACTION PLAN (FED)SO30-SRC...   \n",
       "3        05/15/2012  GWR - APP CORRECTIVE ACTION PLAN (FED)SO30-SRC...   \n",
       "4        05/15/2012  GWR - APP CORRECTIVE ACTION PLAN (FED)SO30-SRC...   \n",
       "\n",
       "  EVENT_MILESTONE_CODE EVENT_REASON_CODE FIRST_REPORTED_DATE  \\\n",
       "0                 SDFF                GW          08/16/2012   \n",
       "1                 SDFF                GW          08/16/2012   \n",
       "2                 SDFF                GW          08/16/2012   \n",
       "3                 SDFF                GW          08/16/2012   \n",
       "4                 SDFF                GW          08/16/2012   \n",
       "\n",
       "  LAST_REPORTED_DATE  \n",
       "0         06/01/2015  \n",
       "1         06/01/2015  \n",
       "2         06/01/2015  \n",
       "3         06/01/2015  \n",
       "4         06/01/2015  "
      ]
     },
     "execution_count": 5,
     "metadata": {},
     "output_type": "execute_result"
    }
   ],
   "source": [
    "events_milestones_df.head()"
   ]
  },
  {
   "cell_type": "code",
   "execution_count": 42,
   "id": "d9857c52",
   "metadata": {
    "ExecuteTime": {
     "end_time": "2022-04-11T07:45:41.904481Z",
     "start_time": "2022-04-11T07:45:41.897490Z"
    }
   },
   "outputs": [
    {
     "name": "stdout",
     "output_type": "stream",
     "text": [
      "Total number of records in events milestones table is 178726\n"
     ]
    }
   ],
   "source": [
    "print(f'Total number of records in events milestones table is {events_milestones_df.shape[0]}')"
   ]
  },
  {
   "cell_type": "code",
   "execution_count": 8,
   "id": "8867a035",
   "metadata": {
    "ExecuteTime": {
     "end_time": "2022-04-11T06:49:16.868373Z",
     "start_time": "2022-04-11T06:49:16.016378Z"
    }
   },
   "outputs": [
    {
     "data": {
      "text/plain": [
       "178726"
      ]
     },
     "execution_count": 8,
     "metadata": {},
     "output_type": "execute_result"
    }
   ],
   "source": [
    "sum(events_milestones_df.groupby(['PWSID', 'EVENT_SCHEDULE_ID']).size().tolist())"
   ]
  },
  {
   "cell_type": "markdown",
   "id": "ce623cde",
   "metadata": {},
   "source": [
    "The column set {PWSID, EVENT_SCHEDULE_ID} uniquely identifies each record"
   ]
  },
  {
   "cell_type": "code",
   "execution_count": 9,
   "id": "78432f0d",
   "metadata": {
    "ExecuteTime": {
     "end_time": "2022-04-11T06:49:30.549309Z",
     "start_time": "2022-04-11T06:49:30.243267Z"
    }
   },
   "outputs": [
    {
     "data": {
      "text/plain": [
       "SUBMISSIONYEARQUARTER        0\n",
       "PWSID                        0\n",
       "EVENT_SCHEDULE_ID            0\n",
       "EVENT_END_DATE           87922\n",
       "EVENT_ACTUAL_DATE            0\n",
       "EVENT_COMMENTS_TEXT      85244\n",
       "EVENT_MILESTONE_CODE         0\n",
       "EVENT_REASON_CODE        14508\n",
       "FIRST_REPORTED_DATE          0\n",
       "LAST_REPORTED_DATE        7904\n",
       "dtype: int64"
      ]
     },
     "execution_count": 9,
     "metadata": {},
     "output_type": "execute_result"
    }
   ],
   "source": [
    "events_milestones_df.isnull().sum()"
   ]
  },
  {
   "cell_type": "code",
   "execution_count": 11,
   "id": "2a4b7255",
   "metadata": {
    "ExecuteTime": {
     "end_time": "2022-04-11T06:50:09.777659Z",
     "start_time": "2022-04-11T06:50:09.731684Z"
    }
   },
   "outputs": [
    {
     "data": {
      "text/html": [
       "<div>\n",
       "<style scoped>\n",
       "    .dataframe tbody tr th:only-of-type {\n",
       "        vertical-align: middle;\n",
       "    }\n",
       "\n",
       "    .dataframe tbody tr th {\n",
       "        vertical-align: top;\n",
       "    }\n",
       "\n",
       "    .dataframe thead th {\n",
       "        text-align: right;\n",
       "    }\n",
       "</style>\n",
       "<table border=\"1\" class=\"dataframe\">\n",
       "  <thead>\n",
       "    <tr style=\"text-align: right;\">\n",
       "      <th></th>\n",
       "      <th>EVENT_END_DATE</th>\n",
       "      <th>EVENT_ACTUAL_DATE</th>\n",
       "      <th>FIRST_REPORTED_DATE</th>\n",
       "      <th>LAST_REPORTED_DATE</th>\n",
       "    </tr>\n",
       "  </thead>\n",
       "  <tbody>\n",
       "    <tr>\n",
       "      <th>0</th>\n",
       "      <td>09/11/2011</td>\n",
       "      <td>05/15/2012</td>\n",
       "      <td>08/16/2012</td>\n",
       "      <td>06/01/2015</td>\n",
       "    </tr>\n",
       "    <tr>\n",
       "      <th>1</th>\n",
       "      <td>09/11/2011</td>\n",
       "      <td>05/15/2012</td>\n",
       "      <td>08/16/2012</td>\n",
       "      <td>06/01/2015</td>\n",
       "    </tr>\n",
       "    <tr>\n",
       "      <th>2</th>\n",
       "      <td>09/11/2011</td>\n",
       "      <td>05/15/2012</td>\n",
       "      <td>08/16/2012</td>\n",
       "      <td>06/01/2015</td>\n",
       "    </tr>\n",
       "    <tr>\n",
       "      <th>3</th>\n",
       "      <td>09/11/2011</td>\n",
       "      <td>05/15/2012</td>\n",
       "      <td>08/16/2012</td>\n",
       "      <td>06/01/2015</td>\n",
       "    </tr>\n",
       "    <tr>\n",
       "      <th>4</th>\n",
       "      <td>09/11/2011</td>\n",
       "      <td>05/15/2012</td>\n",
       "      <td>08/16/2012</td>\n",
       "      <td>06/01/2015</td>\n",
       "    </tr>\n",
       "  </tbody>\n",
       "</table>\n",
       "</div>"
      ],
      "text/plain": [
       "  EVENT_END_DATE EVENT_ACTUAL_DATE FIRST_REPORTED_DATE LAST_REPORTED_DATE\n",
       "0     09/11/2011        05/15/2012          08/16/2012         06/01/2015\n",
       "1     09/11/2011        05/15/2012          08/16/2012         06/01/2015\n",
       "2     09/11/2011        05/15/2012          08/16/2012         06/01/2015\n",
       "3     09/11/2011        05/15/2012          08/16/2012         06/01/2015\n",
       "4     09/11/2011        05/15/2012          08/16/2012         06/01/2015"
      ]
     },
     "execution_count": 11,
     "metadata": {},
     "output_type": "execute_result"
    }
   ],
   "source": [
    "## Seeing date formats\n",
    "date_columns = ['EVENT_END_DATE', 'EVENT_ACTUAL_DATE', 'FIRST_REPORTED_DATE', 'LAST_REPORTED_DATE']\n",
    "events_milestones_df[date_columns].head()"
   ]
  },
  {
   "cell_type": "code",
   "execution_count": 12,
   "id": "4d19ad9b",
   "metadata": {
    "ExecuteTime": {
     "end_time": "2022-04-11T06:50:18.166393Z",
     "start_time": "2022-04-11T06:50:17.620324Z"
    }
   },
   "outputs": [],
   "source": [
    "for datecol in date_columns:\n",
    "    events_milestones_df[datecol] = pd.to_datetime(events_milestones_df[datecol], format='%m/%d/%Y')"
   ]
  },
  {
   "cell_type": "code",
   "execution_count": 13,
   "id": "ceeb74bd",
   "metadata": {
    "ExecuteTime": {
     "end_time": "2022-04-11T06:50:20.853887Z",
     "start_time": "2022-04-11T06:50:20.784869Z"
    }
   },
   "outputs": [
    {
     "data": {
      "text/html": [
       "<div>\n",
       "<style scoped>\n",
       "    .dataframe tbody tr th:only-of-type {\n",
       "        vertical-align: middle;\n",
       "    }\n",
       "\n",
       "    .dataframe tbody tr th {\n",
       "        vertical-align: top;\n",
       "    }\n",
       "\n",
       "    .dataframe thead th {\n",
       "        text-align: right;\n",
       "    }\n",
       "</style>\n",
       "<table border=\"1\" class=\"dataframe\">\n",
       "  <thead>\n",
       "    <tr style=\"text-align: right;\">\n",
       "      <th></th>\n",
       "      <th>EVENT_END_DATE</th>\n",
       "      <th>EVENT_ACTUAL_DATE</th>\n",
       "      <th>FIRST_REPORTED_DATE</th>\n",
       "      <th>LAST_REPORTED_DATE</th>\n",
       "    </tr>\n",
       "  </thead>\n",
       "  <tbody>\n",
       "    <tr>\n",
       "      <th>0</th>\n",
       "      <td>2011-09-11</td>\n",
       "      <td>2012-05-15</td>\n",
       "      <td>2012-08-16</td>\n",
       "      <td>2015-06-01</td>\n",
       "    </tr>\n",
       "    <tr>\n",
       "      <th>1</th>\n",
       "      <td>2011-09-11</td>\n",
       "      <td>2012-05-15</td>\n",
       "      <td>2012-08-16</td>\n",
       "      <td>2015-06-01</td>\n",
       "    </tr>\n",
       "    <tr>\n",
       "      <th>2</th>\n",
       "      <td>2011-09-11</td>\n",
       "      <td>2012-05-15</td>\n",
       "      <td>2012-08-16</td>\n",
       "      <td>2015-06-01</td>\n",
       "    </tr>\n",
       "    <tr>\n",
       "      <th>3</th>\n",
       "      <td>2011-09-11</td>\n",
       "      <td>2012-05-15</td>\n",
       "      <td>2012-08-16</td>\n",
       "      <td>2015-06-01</td>\n",
       "    </tr>\n",
       "    <tr>\n",
       "      <th>4</th>\n",
       "      <td>2011-09-11</td>\n",
       "      <td>2012-05-15</td>\n",
       "      <td>2012-08-16</td>\n",
       "      <td>2015-06-01</td>\n",
       "    </tr>\n",
       "  </tbody>\n",
       "</table>\n",
       "</div>"
      ],
      "text/plain": [
       "  EVENT_END_DATE EVENT_ACTUAL_DATE FIRST_REPORTED_DATE LAST_REPORTED_DATE\n",
       "0     2011-09-11        2012-05-15          2012-08-16         2015-06-01\n",
       "1     2011-09-11        2012-05-15          2012-08-16         2015-06-01\n",
       "2     2011-09-11        2012-05-15          2012-08-16         2015-06-01\n",
       "3     2011-09-11        2012-05-15          2012-08-16         2015-06-01\n",
       "4     2011-09-11        2012-05-15          2012-08-16         2015-06-01"
      ]
     },
     "execution_count": 13,
     "metadata": {},
     "output_type": "execute_result"
    }
   ],
   "source": [
    "events_milestones_df[date_columns].head()"
   ]
  },
  {
   "cell_type": "code",
   "execution_count": 14,
   "id": "d2ce93e8",
   "metadata": {
    "ExecuteTime": {
     "end_time": "2022-04-11T06:50:26.059717Z",
     "start_time": "2022-04-11T06:50:26.008735Z"
    }
   },
   "outputs": [
    {
     "name": "stdout",
     "output_type": "stream",
     "text": [
      "Range of EVENT_END_DATE is between 1993-09-27 00:00:00 and 2022-06-30 00:00:00\n",
      "Range of EVENT_ACTUAL_DATE is between 1991-07-01 00:00:00 and 2099-06-30 00:00:00\n",
      "Range of FIRST_REPORTED_DATE is between 2000-12-08 00:00:00 and 2021-07-01 00:00:00\n",
      "Range of LAST_REPORTED_DATE is between 2000-12-08 00:00:00 and 2021-07-01 00:00:00\n"
     ]
    }
   ],
   "source": [
    "for datacol in date_columns:\n",
    "    print('Range of {} is between {} and {}'.format(datacol, events_milestones_df[datacol].min(), events_milestones_df[datacol].max()))"
   ]
  },
  {
   "cell_type": "code",
   "execution_count": 15,
   "id": "b35fc2a1",
   "metadata": {
    "ExecuteTime": {
     "end_time": "2022-04-11T06:50:29.621127Z",
     "start_time": "2022-04-11T06:50:29.599136Z"
    }
   },
   "outputs": [
    {
     "data": {
      "text/plain": [
       "10"
      ]
     },
     "execution_count": 15,
     "metadata": {},
     "output_type": "execute_result"
    }
   ],
   "source": [
    "len(events_milestones_df.columns)"
   ]
  },
  {
   "cell_type": "markdown",
   "id": "fa32a057",
   "metadata": {},
   "source": [
    "### Web Scraping Column description and data type"
   ]
  },
  {
   "cell_type": "code",
   "execution_count": 16,
   "id": "d813261a",
   "metadata": {
    "ExecuteTime": {
     "end_time": "2022-04-11T06:50:34.277080Z",
     "start_time": "2022-04-11T06:50:32.050794Z"
    }
   },
   "outputs": [],
   "source": [
    "def get_html():\n",
    "    URL = \"https://echo.epa.gov/tools/data-downloads/sdwa-download-summary\"\n",
    "    r = requests.get(URL)  \n",
    "    html_soup = BeautifulSoup(r.content, 'html.parser') \n",
    "    return html_soup\n",
    "html_soup = get_html()"
   ]
  },
  {
   "cell_type": "code",
   "execution_count": 26,
   "id": "080ee37d",
   "metadata": {
    "ExecuteTime": {
     "end_time": "2022-04-11T06:53:34.728965Z",
     "start_time": "2022-04-11T06:53:34.516947Z"
    }
   },
   "outputs": [
    {
     "data": {
      "text/html": [
       "<div>\n",
       "<style scoped>\n",
       "    .dataframe tbody tr th:only-of-type {\n",
       "        vertical-align: middle;\n",
       "    }\n",
       "\n",
       "    .dataframe tbody tr th {\n",
       "        vertical-align: top;\n",
       "    }\n",
       "\n",
       "    .dataframe thead th {\n",
       "        text-align: right;\n",
       "    }\n",
       "</style>\n",
       "<table border=\"1\" class=\"dataframe\">\n",
       "  <thead>\n",
       "    <tr style=\"text-align: right;\">\n",
       "      <th></th>\n",
       "      <th>Element</th>\n",
       "      <th>Data Type</th>\n",
       "      <th>Length</th>\n",
       "    </tr>\n",
       "  </thead>\n",
       "  <tbody>\n",
       "    <tr>\n",
       "      <th>0</th>\n",
       "      <td>PWSID</td>\n",
       "      <td>Char</td>\n",
       "      <td>9</td>\n",
       "    </tr>\n",
       "    <tr>\n",
       "      <th>1</th>\n",
       "      <td>SUBMISSIONYEARQUARTER</td>\n",
       "      <td>Char</td>\n",
       "      <td>6</td>\n",
       "    </tr>\n",
       "    <tr>\n",
       "      <th>2</th>\n",
       "      <td>EVENT_SCHEDULE_ID</td>\n",
       "      <td>Char</td>\n",
       "      <td></td>\n",
       "    </tr>\n",
       "    <tr>\n",
       "      <th>3</th>\n",
       "      <td>EVENT_END_DATE</td>\n",
       "      <td>Date</td>\n",
       "      <td></td>\n",
       "    </tr>\n",
       "    <tr>\n",
       "      <th>4</th>\n",
       "      <td>EVENT_ACTUAL_DATE</td>\n",
       "      <td>Date</td>\n",
       "      <td></td>\n",
       "    </tr>\n",
       "    <tr>\n",
       "      <th>5</th>\n",
       "      <td>EVENT_COMMENTS_TEXT</td>\n",
       "      <td>Char</td>\n",
       "      <td></td>\n",
       "    </tr>\n",
       "    <tr>\n",
       "      <th>6</th>\n",
       "      <td>EVENT_MILESTONE_CODE</td>\n",
       "      <td>Char</td>\n",
       "      <td>4</td>\n",
       "    </tr>\n",
       "    <tr>\n",
       "      <th>7</th>\n",
       "      <td>EVENT_REASON_CODE</td>\n",
       "      <td>Char</td>\n",
       "      <td>4</td>\n",
       "    </tr>\n",
       "    <tr>\n",
       "      <th>8</th>\n",
       "      <td>FIRST_REPORTED_DATE</td>\n",
       "      <td>Date</td>\n",
       "      <td></td>\n",
       "    </tr>\n",
       "    <tr>\n",
       "      <th>9</th>\n",
       "      <td>LAST_REPORTED_DATE</td>\n",
       "      <td>Date</td>\n",
       "      <td></td>\n",
       "    </tr>\n",
       "  </tbody>\n",
       "</table>\n",
       "</div>"
      ],
      "text/plain": [
       "                 Element Data Type Length\n",
       "0                  PWSID      Char      9\n",
       "1  SUBMISSIONYEARQUARTER      Char      6\n",
       "2      EVENT_SCHEDULE_ID      Char       \n",
       "3         EVENT_END_DATE      Date       \n",
       "4      EVENT_ACTUAL_DATE      Date       \n",
       "5    EVENT_COMMENTS_TEXT      Char       \n",
       "6   EVENT_MILESTONE_CODE      Char      4\n",
       "7      EVENT_REASON_CODE      Char      4\n",
       "8    FIRST_REPORTED_DATE      Date       \n",
       "9     LAST_REPORTED_DATE      Date       "
      ]
     },
     "execution_count": 26,
     "metadata": {},
     "output_type": "execute_result"
    }
   ],
   "source": [
    "cols = []\n",
    "filename = 'SDWA_EVENTS_MILESTONES.csv'\n",
    "idx = [i for i, item in enumerate(list(html_soup.find_all(\"div\", {\"class\": 'field-item even'})[0].find_all('h3'))) if filename in item.getText()][0]\n",
    "for th in html_soup.find_all(\"div\", {\"class\": 'field-item even'})[0].find_all('h3')[idx].find_next_sibling('table').find(\"thead\").find_all(\"th\"):\n",
    "    cols.append(th.get_text().replace(u'\\xa0', u''))\n",
    "rows = []\n",
    "for row in html_soup.find_all(\"div\", {\"class\": 'field-item even'})[0].find_all('h3')[idx].find_next_sibling('table').find(\"tbody\").find_all(\"tr\"):\n",
    "    r = []\n",
    "    for td in row.find_all('td'):\n",
    "        r.append(td.get_text().replace(u'\\xa0', u''))\n",
    "    rows.append(r)\n",
    "column_datatype = pd.DataFrame(rows, columns=cols)\n",
    "column_datatype = column_datatype[column_datatype.Element.isin(events_milestones_df.columns)]\n",
    "column_datatype"
   ]
  },
  {
   "cell_type": "code",
   "execution_count": 27,
   "id": "dacfc298",
   "metadata": {
    "ExecuteTime": {
     "end_time": "2022-04-11T06:53:44.113234Z",
     "start_time": "2022-04-11T06:53:44.011242Z"
    }
   },
   "outputs": [
    {
     "data": {
      "text/html": [
       "<div>\n",
       "<style scoped>\n",
       "    .dataframe tbody tr th:only-of-type {\n",
       "        vertical-align: middle;\n",
       "    }\n",
       "\n",
       "    .dataframe tbody tr th {\n",
       "        vertical-align: top;\n",
       "    }\n",
       "\n",
       "    .dataframe thead th {\n",
       "        text-align: right;\n",
       "    }\n",
       "</style>\n",
       "<table border=\"1\" class=\"dataframe\">\n",
       "  <thead>\n",
       "    <tr style=\"text-align: right;\">\n",
       "      <th></th>\n",
       "      <th>COLUMN</th>\n",
       "      <th>DESCRIPTION</th>\n",
       "    </tr>\n",
       "  </thead>\n",
       "  <tbody>\n",
       "    <tr>\n",
       "      <th>0</th>\n",
       "      <td>EVENT_ACTUAL_DATE</td>\n",
       "      <td>The date on which the milestone was conducted or achieved. Date format is MM/DD/YYY.</td>\n",
       "    </tr>\n",
       "    <tr>\n",
       "      <th>1</th>\n",
       "      <td>EVENT_COMMENTS_TEXT</td>\n",
       "      <td>Description of the milestone event.</td>\n",
       "    </tr>\n",
       "    <tr>\n",
       "      <th>2</th>\n",
       "      <td>EVENT_END_DATE</td>\n",
       "      <td>The date on which the milestone event ended. Date format is MM/DD/YYYY.</td>\n",
       "    </tr>\n",
       "    <tr>\n",
       "      <th>3</th>\n",
       "      <td>EVENT_MILESTONE_CODE</td>\n",
       "      <td>A four-character code identifying the event milestone.</td>\n",
       "    </tr>\n",
       "    <tr>\n",
       "      <th>4</th>\n",
       "      <td>EVENT_REASON_CODE</td>\n",
       "      <td>Code identifying the reason for the milestone event.</td>\n",
       "    </tr>\n",
       "    <tr>\n",
       "      <th>5</th>\n",
       "      <td>EVENT_SCHEDULE_ID</td>\n",
       "      <td>Identifier used to identify milestone events.</td>\n",
       "    </tr>\n",
       "    <tr>\n",
       "      <th>6</th>\n",
       "      <td>FIRST_REPORTED_DATE</td>\n",
       "      <td>The first reported date for the milestone event. The date format is MM/DD/YYYY.</td>\n",
       "    </tr>\n",
       "    <tr>\n",
       "      <th>7</th>\n",
       "      <td>LAST_REPORTED_DATE</td>\n",
       "      <td>The last reported date for the milestone event. The date format is MM/DD/YYYY.</td>\n",
       "    </tr>\n",
       "    <tr>\n",
       "      <th>8</th>\n",
       "      <td>PWSID</td>\n",
       "      <td>A unique identifying code for a public water system in SDWIS. The PWSID consists of a two-letter state or region code, followed by seven digits.</td>\n",
       "    </tr>\n",
       "    <tr>\n",
       "      <th>9</th>\n",
       "      <td>SUBMISSIONYEARQUARTER</td>\n",
       "      <td>The fiscal year and quarter when the event took place.</td>\n",
       "    </tr>\n",
       "  </tbody>\n",
       "</table>\n",
       "</div>"
      ],
      "text/plain": [
       "                   COLUMN  \\\n",
       "0      EVENT_ACTUAL_DATE    \n",
       "1    EVENT_COMMENTS_TEXT    \n",
       "2         EVENT_END_DATE    \n",
       "3   EVENT_MILESTONE_CODE    \n",
       "4      EVENT_REASON_CODE    \n",
       "5      EVENT_SCHEDULE_ID    \n",
       "6     FIRST_REPORTED_DATE   \n",
       "7      LAST_REPORTED_DATE   \n",
       "8                  PWSID    \n",
       "9  SUBMISSIONYEARQUARTER    \n",
       "\n",
       "                                                                                                                                         DESCRIPTION  \n",
       "0                                                               The date on which the milestone was conducted or achieved. Date format is MM/DD/YYY.  \n",
       "1                                                                                                                Description of the milestone event.  \n",
       "2                                                                            The date on which the milestone event ended. Date format is MM/DD/YYYY.  \n",
       "3                                                                                             A four-character code identifying the event milestone.  \n",
       "4                                                                                               Code identifying the reason for the milestone event.  \n",
       "5                                                                                                      Identifier used to identify milestone events.  \n",
       "6                                                                    The first reported date for the milestone event. The date format is MM/DD/YYYY.  \n",
       "7                                                                     The last reported date for the milestone event. The date format is MM/DD/YYYY.  \n",
       "8   A unique identifying code for a public water system in SDWIS. The PWSID consists of a two-letter state or region code, followed by seven digits.  \n",
       "9                                                                                             The fiscal year and quarter when the event took place.  "
      ]
     },
     "execution_count": 27,
     "metadata": {},
     "output_type": "execute_result"
    }
   ],
   "source": [
    "data_dictionary = {\n",
    "    p.find_all('strong')[0].getText().replace(u'\\xa0', u'') : p.getText().replace(u'\\xa0', u' ')\n",
    "    for p in html_soup.find_all(\"div\", {\"class\": 'field-item even'})[0].find_all('p') \n",
    "    if p.find_all('strong') and len(p.find_all('strong')) == 1 and p.find_all('strong')[0].getText().replace(u'\\xa0', u'') in list(events_milestones_df.columns)\n",
    "}\n",
    "pd.set_option('display.max_colwidth', None)\n",
    "col_desc = pd.DataFrame([data_dictionary[col] for col in data_dictionary], columns=['raw_desc'])\n",
    "\n",
    "col_desc[['COLUMN', 'DESCRIPTION']] = col_desc['raw_desc'].str.split('-', 1, expand=True)\n",
    "col_desc = col_desc[['COLUMN', 'DESCRIPTION']]\n",
    "col_desc"
   ]
  },
  {
   "cell_type": "code",
   "execution_count": 41,
   "id": "908db484",
   "metadata": {
    "ExecuteTime": {
     "end_time": "2022-04-11T07:03:54.115067Z",
     "start_time": "2022-04-11T07:03:53.934622Z"
    }
   },
   "outputs": [
    {
     "data": {
      "text/plain": [
       "1796"
      ]
     },
     "execution_count": 41,
     "metadata": {},
     "output_type": "execute_result"
    }
   ],
   "source": [
    "## Finding maximum length of events comments column\n",
    "events_milestones_df.EVENT_COMMENTS_TEXT.dropna().map(lambda x: len(x)).max()"
   ]
  },
  {
   "cell_type": "markdown",
   "id": "8f06c319",
   "metadata": {},
   "source": [
    "### Generating create SQL statement to create 'events_milestones' table to store events milestones details"
   ]
  },
  {
   "cell_type": "code",
   "execution_count": 29,
   "id": "280aa664",
   "metadata": {
    "ExecuteTime": {
     "end_time": "2022-04-11T06:54:32.208229Z",
     "start_time": "2022-04-11T06:54:32.187227Z"
    }
   },
   "outputs": [
    {
     "name": "stdout",
     "output_type": "stream",
     "text": [
      "CREATE TABLE EVENTS_MILESTONES (\n",
      "\tSUBMISSIONYEARQUARTER     VARCHAR(6),\n",
      "\tPWSID                     VARCHAR(9),\n",
      "\tEVENT_SCHEDULE_ID         VARCHAR(255),\n",
      "\tEVENT_END_DATE            DATE,\n",
      "\tEVENT_ACTUAL_DATE         DATE,\n",
      "\tEVENT_COMMENTS_TEXT       VARCHAR(255),\n",
      "\tEVENT_MILESTONE_CODE      VARCHAR(4),\n",
      "\tEVENT_REASON_CODE         VARCHAR(4),\n",
      "\tFIRST_REPORTED_DATE       DATE,\n",
      "\tLAST_REPORTED_DATE        DATE\n",
      ") ENGINE = InnoDB;\n"
     ]
    }
   ],
   "source": [
    "temp_dict = {}\n",
    "\n",
    "def space(n):\n",
    "    return ' ' * (max([len(col) for col in events_milestones_df.columns]) + 5 - n)\n",
    "\n",
    "for ind in column_datatype.index:\n",
    "    col_name = column_datatype['Element'][ind]\n",
    "    data_type = column_datatype['Data Type'][ind]\n",
    "    length = column_datatype['Length'][ind]\n",
    "    data_type = 'VARCHAR' if data_type == 'Char' else 'DATE' if data_type == 'Date' else 'INT'\n",
    "    data_type = data_type + '('+ length +')' if length != '' and data_type == 'VARCHAR' else data_type + '(255)' if data_type == 'VARCHAR' else data_type\n",
    "    temp_dict[col_name] = data_type\n",
    "print('CREATE TABLE EVENTS_MILESTONES (')\n",
    "for col in events_milestones_df.columns:\n",
    "    print(f'\\t{col}{space(len(col))}{temp_dict[col]}', end='')\n",
    "    if col != events_milestones_df.columns[-1]:\n",
    "        print(',')\n",
    "    else:\n",
    "        print()\n",
    "print(') ENGINE = InnoDB;')"
   ]
  },
  {
   "cell_type": "code",
   "execution_count": 35,
   "id": "d9715042",
   "metadata": {
    "ExecuteTime": {
     "end_time": "2022-04-11T06:59:35.755598Z",
     "start_time": "2022-04-11T06:59:16.582598Z"
    }
   },
   "outputs": [],
   "source": [
    "events_milestones_df.sort_values(['PWSID', 'EVENT_SCHEDULE_ID'], ascending=[True, True]).to_csv('../data/processed_data/EVENTS_MILESTONES.csv', index=False) # violations.groupby(['PWSID', 'VIOLATION_ID']).size()"
   ]
  },
  {
   "cell_type": "code",
   "execution_count": 34,
   "id": "35aae12e",
   "metadata": {
    "ExecuteTime": {
     "end_time": "2022-04-11T06:56:47.329163Z",
     "start_time": "2022-04-11T06:56:47.292196Z"
    }
   },
   "outputs": [
    {
     "name": "stdout",
     "output_type": "stream",
     "text": [
      "\n",
      "LOAD DATA INFILE 'C:/ProgramData/MySQL/MySQL Server 8.0/Uploads/EVENTS_MILESTONES.csv'\n",
      "INTO TABLE EVENTS_MILESTONES \n",
      "FIELDS TERMINATED BY ','\n",
      "ESCAPED BY ''\n",
      "OPTIONALLY ENCLOSED BY '\"'\n",
      "LINES TERMINATED BY '\\n'\n",
      "IGNORE 1 ROWS\n",
      "(@SUBMISSIONYEARQUARTER,@PWSID,@EVENT_SCHEDULE_ID,@EVENT_END_DATE,@EVENT_ACTUAL_DATE,@EVENT_COMMENTS_TEXT,@EVENT_MILESTONE_CODE,@EVENT_REASON_CODE,@FIRST_REPORTED_DATE,@LAST_REPORTED_DATE)\n",
      "SET\n",
      "SUBMISSIONYEARQUARTER = IF(@SUBMISSIONYEARQUARTER = '', NULL, @SUBMISSIONYEARQUARTER),\n",
      "PWSID = IF(@PWSID = '', NULL, @PWSID),\n",
      "EVENT_SCHEDULE_ID = IF(@EVENT_SCHEDULE_ID = '', NULL, @EVENT_SCHEDULE_ID),\n",
      "EVENT_END_DATE = IF(@EVENT_END_DATE = '', NULL, STR_TO_DATE(@EVENT_END_DATE, '%Y-%m-%d')),\n",
      "EVENT_ACTUAL_DATE = IF(@EVENT_ACTUAL_DATE = '', NULL, STR_TO_DATE(@EVENT_ACTUAL_DATE, '%Y-%m-%d')),\n",
      "EVENT_COMMENTS_TEXT = IF(@EVENT_COMMENTS_TEXT = '', NULL, @EVENT_COMMENTS_TEXT),\n",
      "EVENT_MILESTONE_CODE = IF(@EVENT_MILESTONE_CODE = '', NULL, @EVENT_MILESTONE_CODE),\n",
      "EVENT_REASON_CODE = IF(@EVENT_REASON_CODE = '', NULL, @EVENT_REASON_CODE),\n",
      "FIRST_REPORTED_DATE = IF(@FIRST_REPORTED_DATE = '', NULL, STR_TO_DATE(@FIRST_REPORTED_DATE, '%Y-%m-%d')),\n",
      "LAST_REPORTED_DATE = IF(@LAST_REPORTED_DATE = '', NULL, STR_TO_DATE(@LAST_REPORTED_DATE, '%Y-%m-%d')),\n"
     ]
    }
   ],
   "source": [
    "columns = events_milestones_df.columns.to_list()\n",
    "\n",
    "date_columns = ['EVENT_END_DATE', 'EVENT_ACTUAL_DATE', 'FIRST_REPORTED_DATE', 'LAST_REPORTED_DATE']\n",
    "\n",
    "print('''\n",
    "LOAD DATA INFILE 'C:/ProgramData/MySQL/MySQL Server 8.0/Uploads/EVENTS_MILESTONES.csv'\n",
    "INTO TABLE EVENTS_MILESTONES \n",
    "FIELDS TERMINATED BY ','\n",
    "ESCAPED BY ''\n",
    "OPTIONALLY ENCLOSED BY '\"'\n",
    "LINES TERMINATED BY '\\\\n'\n",
    "IGNORE 1 ROWS\n",
    "''', end='')\n",
    "print('(', end='')\n",
    "for col in columns:\n",
    "    print(f'@{col}', end='')\n",
    "    if col != columns[-1]:\n",
    "        print(',', end='')\n",
    "print(')')\n",
    "print('SET')\n",
    "for col in columns:\n",
    "    if col in date_columns:\n",
    "        print(f'{col} = IF(@{col} = \\'\\', NULL, STR_TO_DATE(@{col}, \\'%Y-%m-%d\\')),')\n",
    "    else:\n",
    "        print(f'{col} = IF(@{col} = \\'\\', NULL, @{col}),')"
   ]
  }
 ],
 "metadata": {
  "kernelspec": {
   "display_name": "Python 3",
   "language": "python",
   "name": "python3"
  },
  "language_info": {
   "codemirror_mode": {
    "name": "ipython",
    "version": 3
   },
   "file_extension": ".py",
   "mimetype": "text/x-python",
   "name": "python",
   "nbconvert_exporter": "python",
   "pygments_lexer": "ipython3",
   "version": "3.8.8"
  }
 },
 "nbformat": 4,
 "nbformat_minor": 5
}
