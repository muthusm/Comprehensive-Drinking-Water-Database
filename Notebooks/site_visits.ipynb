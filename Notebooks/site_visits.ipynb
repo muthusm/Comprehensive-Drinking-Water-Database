{
 "cells": [
  {
   "cell_type": "code",
   "execution_count": 1,
   "id": "efbc1ef6",
   "metadata": {
    "ExecuteTime": {
     "end_time": "2022-04-06T05:10:25.512244Z",
     "start_time": "2022-04-06T05:10:06.770670Z"
    }
   },
   "outputs": [],
   "source": [
    "import pandas as pd\n",
    "import requests\n",
    "from bs4 import BeautifulSoup"
   ]
  },
  {
   "cell_type": "code",
   "execution_count": 64,
   "id": "1d666d6b",
   "metadata": {
    "ExecuteTime": {
     "end_time": "2022-04-06T05:49:28.970040Z",
     "start_time": "2022-04-06T05:49:18.619989Z"
    }
   },
   "outputs": [],
   "source": [
    "site_visits_df = pd.read_csv('../data/ECHO_data_csv/SDWA_SITE_VISITS.csv', dtype=str)"
   ]
  },
  {
   "cell_type": "code",
   "execution_count": 65,
   "id": "7bf2af01",
   "metadata": {
    "ExecuteTime": {
     "end_time": "2022-04-06T05:49:29.002045Z",
     "start_time": "2022-04-06T05:49:28.973066Z"
    }
   },
   "outputs": [
    {
     "data": {
      "text/html": [
       "<div>\n",
       "<style scoped>\n",
       "    .dataframe tbody tr th:only-of-type {\n",
       "        vertical-align: middle;\n",
       "    }\n",
       "\n",
       "    .dataframe tbody tr th {\n",
       "        vertical-align: top;\n",
       "    }\n",
       "\n",
       "    .dataframe thead th {\n",
       "        text-align: right;\n",
       "    }\n",
       "</style>\n",
       "<table border=\"1\" class=\"dataframe\">\n",
       "  <thead>\n",
       "    <tr style=\"text-align: right;\">\n",
       "      <th></th>\n",
       "      <th>SUBMISSIONYEARQUARTER</th>\n",
       "      <th>PWSID</th>\n",
       "      <th>VISIT_ID</th>\n",
       "      <th>VISIT_DATE</th>\n",
       "      <th>AGENCY_TYPE_CODE</th>\n",
       "      <th>VISIT_REASON_CODE</th>\n",
       "      <th>MANAGEMENT_OPS_EVAL_CODE</th>\n",
       "      <th>SOURCE_WATER_EVAL_CODE</th>\n",
       "      <th>SECURITY_EVAL_CODE</th>\n",
       "      <th>PUMPS_EVAL_CODE</th>\n",
       "      <th>OTHER_EVAL_CODE</th>\n",
       "      <th>COMPLIANCE_EVAL_CODE</th>\n",
       "      <th>DATA_VERIFICATION_EVAL_CODE</th>\n",
       "      <th>TREATMENT_EVAL_CODE</th>\n",
       "      <th>FINISHED_WATER_STOR_EVAL_CODE</th>\n",
       "      <th>DISTRIBUTION_EVAL_CODE</th>\n",
       "      <th>FINANCIAL_EVAL_CODE</th>\n",
       "      <th>VISIT_COMMENTS</th>\n",
       "      <th>FIRST_REPORTED_DATE</th>\n",
       "      <th>LAST_REPORTED_DATE</th>\n",
       "    </tr>\n",
       "  </thead>\n",
       "  <tbody>\n",
       "    <tr>\n",
       "      <th>0</th>\n",
       "      <td>2021Q2</td>\n",
       "      <td>IL3125096</td>\n",
       "      <td>#2</td>\n",
       "      <td>08/05/1992</td>\n",
       "      <td>NaN</td>\n",
       "      <td>SNSV</td>\n",
       "      <td>NaN</td>\n",
       "      <td>NaN</td>\n",
       "      <td>NaN</td>\n",
       "      <td>NaN</td>\n",
       "      <td>NaN</td>\n",
       "      <td>NaN</td>\n",
       "      <td>NaN</td>\n",
       "      <td>NaN</td>\n",
       "      <td>NaN</td>\n",
       "      <td>NaN</td>\n",
       "      <td>NaN</td>\n",
       "      <td>NaN</td>\n",
       "      <td>07/22/1995</td>\n",
       "      <td>NaN</td>\n",
       "    </tr>\n",
       "    <tr>\n",
       "      <th>1</th>\n",
       "      <td>2021Q2</td>\n",
       "      <td>MN1500006</td>\n",
       "      <td>1038</td>\n",
       "      <td>02/04/2003</td>\n",
       "      <td>ST</td>\n",
       "      <td>SNSV</td>\n",
       "      <td>NaN</td>\n",
       "      <td>NaN</td>\n",
       "      <td>NaN</td>\n",
       "      <td>NaN</td>\n",
       "      <td>NaN</td>\n",
       "      <td>NaN</td>\n",
       "      <td>NaN</td>\n",
       "      <td>NaN</td>\n",
       "      <td>NaN</td>\n",
       "      <td>NaN</td>\n",
       "      <td>NaN</td>\n",
       "      <td>NaN</td>\n",
       "      <td>12/06/2005</td>\n",
       "      <td>06/27/2012</td>\n",
       "    </tr>\n",
       "    <tr>\n",
       "      <th>2</th>\n",
       "      <td>2021Q2</td>\n",
       "      <td>MN1500006</td>\n",
       "      <td>19079</td>\n",
       "      <td>09/09/2004</td>\n",
       "      <td>ST</td>\n",
       "      <td>SNSV</td>\n",
       "      <td>NaN</td>\n",
       "      <td>NaN</td>\n",
       "      <td>NaN</td>\n",
       "      <td>NaN</td>\n",
       "      <td>NaN</td>\n",
       "      <td>NaN</td>\n",
       "      <td>NaN</td>\n",
       "      <td>NaN</td>\n",
       "      <td>NaN</td>\n",
       "      <td>NaN</td>\n",
       "      <td>NaN</td>\n",
       "      <td>NaN</td>\n",
       "      <td>12/06/2005</td>\n",
       "      <td>06/27/2012</td>\n",
       "    </tr>\n",
       "    <tr>\n",
       "      <th>3</th>\n",
       "      <td>2021Q2</td>\n",
       "      <td>MN1500007</td>\n",
       "      <td>1040</td>\n",
       "      <td>01/27/2003</td>\n",
       "      <td>ST</td>\n",
       "      <td>SNSV</td>\n",
       "      <td>NaN</td>\n",
       "      <td>NaN</td>\n",
       "      <td>NaN</td>\n",
       "      <td>NaN</td>\n",
       "      <td>NaN</td>\n",
       "      <td>NaN</td>\n",
       "      <td>NaN</td>\n",
       "      <td>NaN</td>\n",
       "      <td>NaN</td>\n",
       "      <td>NaN</td>\n",
       "      <td>NaN</td>\n",
       "      <td>NaN</td>\n",
       "      <td>12/06/2005</td>\n",
       "      <td>06/27/2012</td>\n",
       "    </tr>\n",
       "    <tr>\n",
       "      <th>4</th>\n",
       "      <td>2021Q2</td>\n",
       "      <td>MN1500007</td>\n",
       "      <td>19080</td>\n",
       "      <td>09/29/2004</td>\n",
       "      <td>ST</td>\n",
       "      <td>SNSV</td>\n",
       "      <td>NaN</td>\n",
       "      <td>NaN</td>\n",
       "      <td>NaN</td>\n",
       "      <td>NaN</td>\n",
       "      <td>NaN</td>\n",
       "      <td>NaN</td>\n",
       "      <td>NaN</td>\n",
       "      <td>NaN</td>\n",
       "      <td>NaN</td>\n",
       "      <td>NaN</td>\n",
       "      <td>NaN</td>\n",
       "      <td>NaN</td>\n",
       "      <td>12/06/2005</td>\n",
       "      <td>06/27/2012</td>\n",
       "    </tr>\n",
       "  </tbody>\n",
       "</table>\n",
       "</div>"
      ],
      "text/plain": [
       "  SUBMISSIONYEARQUARTER      PWSID VISIT_ID  VISIT_DATE AGENCY_TYPE_CODE  \\\n",
       "0                2021Q2  IL3125096       #2  08/05/1992              NaN   \n",
       "1                2021Q2  MN1500006     1038  02/04/2003               ST   \n",
       "2                2021Q2  MN1500006    19079  09/09/2004               ST   \n",
       "3                2021Q2  MN1500007     1040  01/27/2003               ST   \n",
       "4                2021Q2  MN1500007    19080  09/29/2004               ST   \n",
       "\n",
       "  VISIT_REASON_CODE MANAGEMENT_OPS_EVAL_CODE SOURCE_WATER_EVAL_CODE  \\\n",
       "0              SNSV                      NaN                    NaN   \n",
       "1              SNSV                      NaN                    NaN   \n",
       "2              SNSV                      NaN                    NaN   \n",
       "3              SNSV                      NaN                    NaN   \n",
       "4              SNSV                      NaN                    NaN   \n",
       "\n",
       "  SECURITY_EVAL_CODE PUMPS_EVAL_CODE OTHER_EVAL_CODE COMPLIANCE_EVAL_CODE  \\\n",
       "0                NaN             NaN             NaN                  NaN   \n",
       "1                NaN             NaN             NaN                  NaN   \n",
       "2                NaN             NaN             NaN                  NaN   \n",
       "3                NaN             NaN             NaN                  NaN   \n",
       "4                NaN             NaN             NaN                  NaN   \n",
       "\n",
       "  DATA_VERIFICATION_EVAL_CODE TREATMENT_EVAL_CODE  \\\n",
       "0                         NaN                 NaN   \n",
       "1                         NaN                 NaN   \n",
       "2                         NaN                 NaN   \n",
       "3                         NaN                 NaN   \n",
       "4                         NaN                 NaN   \n",
       "\n",
       "  FINISHED_WATER_STOR_EVAL_CODE DISTRIBUTION_EVAL_CODE FINANCIAL_EVAL_CODE  \\\n",
       "0                           NaN                    NaN                 NaN   \n",
       "1                           NaN                    NaN                 NaN   \n",
       "2                           NaN                    NaN                 NaN   \n",
       "3                           NaN                    NaN                 NaN   \n",
       "4                           NaN                    NaN                 NaN   \n",
       "\n",
       "  VISIT_COMMENTS FIRST_REPORTED_DATE LAST_REPORTED_DATE  \n",
       "0            NaN          07/22/1995                NaN  \n",
       "1            NaN          12/06/2005         06/27/2012  \n",
       "2            NaN          12/06/2005         06/27/2012  \n",
       "3            NaN          12/06/2005         06/27/2012  \n",
       "4            NaN          12/06/2005         06/27/2012  "
      ]
     },
     "execution_count": 65,
     "metadata": {},
     "output_type": "execute_result"
    }
   ],
   "source": [
    "site_visits_df.head()"
   ]
  },
  {
   "cell_type": "code",
   "execution_count": 66,
   "id": "5ac9f18a",
   "metadata": {
    "ExecuteTime": {
     "end_time": "2022-04-06T05:49:29.161109Z",
     "start_time": "2022-04-06T05:49:29.007045Z"
    }
   },
   "outputs": [
    {
     "data": {
      "text/plain": [
       "(2154196, 20)"
      ]
     },
     "execution_count": 66,
     "metadata": {},
     "output_type": "execute_result"
    }
   ],
   "source": [
    "site_visits_df.shape"
   ]
  },
  {
   "cell_type": "code",
   "execution_count": 67,
   "id": "f32d89e5",
   "metadata": {
    "ExecuteTime": {
     "end_time": "2022-04-06T05:49:31.667068Z",
     "start_time": "2022-04-06T05:49:29.165044Z"
    }
   },
   "outputs": [
    {
     "data": {
      "text/plain": [
       "SUBMISSIONYEARQUARTER                  0\n",
       "PWSID                                  0\n",
       "VISIT_ID                               0\n",
       "VISIT_DATE                            15\n",
       "AGENCY_TYPE_CODE                  440842\n",
       "VISIT_REASON_CODE                      0\n",
       "MANAGEMENT_OPS_EVAL_CODE          761619\n",
       "SOURCE_WATER_EVAL_CODE            762129\n",
       "SECURITY_EVAL_CODE               1447682\n",
       "PUMPS_EVAL_CODE                   763791\n",
       "OTHER_EVAL_CODE                   998389\n",
       "COMPLIANCE_EVAL_CODE              762083\n",
       "DATA_VERIFICATION_EVAL_CODE       761908\n",
       "TREATMENT_EVAL_CODE               762783\n",
       "FINISHED_WATER_STOR_EVAL_CODE     762062\n",
       "DISTRIBUTION_EVAL_CODE            761853\n",
       "FINANCIAL_EVAL_CODE              1415258\n",
       "VISIT_COMMENTS                   1587661\n",
       "FIRST_REPORTED_DATE                    0\n",
       "LAST_REPORTED_DATE                477666\n",
       "dtype: int64"
      ]
     },
     "execution_count": 67,
     "metadata": {},
     "output_type": "execute_result"
    }
   ],
   "source": [
    "site_visits_df.isnull().sum()"
   ]
  },
  {
   "cell_type": "code",
   "execution_count": 80,
   "id": "3af5712e",
   "metadata": {
    "ExecuteTime": {
     "end_time": "2022-04-06T05:53:30.248541Z",
     "start_time": "2022-04-06T05:53:30.126517Z"
    }
   },
   "outputs": [
    {
     "data": {
      "text/html": [
       "<div>\n",
       "<style scoped>\n",
       "    .dataframe tbody tr th:only-of-type {\n",
       "        vertical-align: middle;\n",
       "    }\n",
       "\n",
       "    .dataframe tbody tr th {\n",
       "        vertical-align: top;\n",
       "    }\n",
       "\n",
       "    .dataframe thead th {\n",
       "        text-align: right;\n",
       "    }\n",
       "</style>\n",
       "<table border=\"1\" class=\"dataframe\">\n",
       "  <thead>\n",
       "    <tr style=\"text-align: right;\">\n",
       "      <th></th>\n",
       "      <th>VISIT_DATE</th>\n",
       "      <th>FIRST_REPORTED_DATE</th>\n",
       "      <th>LAST_REPORTED_DATE</th>\n",
       "    </tr>\n",
       "  </thead>\n",
       "  <tbody>\n",
       "    <tr>\n",
       "      <th>0</th>\n",
       "      <td>08/05/1992</td>\n",
       "      <td>1995-07-22</td>\n",
       "      <td>NaT</td>\n",
       "    </tr>\n",
       "    <tr>\n",
       "      <th>1</th>\n",
       "      <td>02/04/2003</td>\n",
       "      <td>2005-12-06</td>\n",
       "      <td>2012-06-27</td>\n",
       "    </tr>\n",
       "    <tr>\n",
       "      <th>2</th>\n",
       "      <td>09/09/2004</td>\n",
       "      <td>2005-12-06</td>\n",
       "      <td>2012-06-27</td>\n",
       "    </tr>\n",
       "    <tr>\n",
       "      <th>3</th>\n",
       "      <td>01/27/2003</td>\n",
       "      <td>2005-12-06</td>\n",
       "      <td>2012-06-27</td>\n",
       "    </tr>\n",
       "    <tr>\n",
       "      <th>4</th>\n",
       "      <td>09/29/2004</td>\n",
       "      <td>2005-12-06</td>\n",
       "      <td>2012-06-27</td>\n",
       "    </tr>\n",
       "  </tbody>\n",
       "</table>\n",
       "</div>"
      ],
      "text/plain": [
       "   VISIT_DATE FIRST_REPORTED_DATE LAST_REPORTED_DATE\n",
       "0  08/05/1992          1995-07-22                NaT\n",
       "1  02/04/2003          2005-12-06         2012-06-27\n",
       "2  09/09/2004          2005-12-06         2012-06-27\n",
       "3  01/27/2003          2005-12-06         2012-06-27\n",
       "4  09/29/2004          2005-12-06         2012-06-27"
      ]
     },
     "execution_count": 80,
     "metadata": {},
     "output_type": "execute_result"
    }
   ],
   "source": [
    "## Seeing date formats\n",
    "date_columns = ['VISIT_DATE', 'FIRST_REPORTED_DATE', 'LAST_REPORTED_DATE']\n",
    "site_visits_df[date_columns].head()"
   ]
  },
  {
   "cell_type": "code",
   "execution_count": 81,
   "id": "3be58464",
   "metadata": {
    "ExecuteTime": {
     "end_time": "2022-04-06T05:53:43.010644Z",
     "start_time": "2022-04-06T05:53:34.597433Z"
    }
   },
   "outputs": [],
   "source": [
    "for datecol in date_columns:\n",
    "    site_visits_df[datecol] = pd.to_datetime(site_visits_df[datecol], format='%m/%d/%Y')"
   ]
  },
  {
   "cell_type": "code",
   "execution_count": 82,
   "id": "8f97665d",
   "metadata": {
    "ExecuteTime": {
     "end_time": "2022-04-06T05:53:43.215161Z",
     "start_time": "2022-04-06T05:53:43.013184Z"
    }
   },
   "outputs": [
    {
     "data": {
      "text/html": [
       "<div>\n",
       "<style scoped>\n",
       "    .dataframe tbody tr th:only-of-type {\n",
       "        vertical-align: middle;\n",
       "    }\n",
       "\n",
       "    .dataframe tbody tr th {\n",
       "        vertical-align: top;\n",
       "    }\n",
       "\n",
       "    .dataframe thead th {\n",
       "        text-align: right;\n",
       "    }\n",
       "</style>\n",
       "<table border=\"1\" class=\"dataframe\">\n",
       "  <thead>\n",
       "    <tr style=\"text-align: right;\">\n",
       "      <th></th>\n",
       "      <th>VISIT_DATE</th>\n",
       "      <th>FIRST_REPORTED_DATE</th>\n",
       "      <th>LAST_REPORTED_DATE</th>\n",
       "    </tr>\n",
       "  </thead>\n",
       "  <tbody>\n",
       "    <tr>\n",
       "      <th>0</th>\n",
       "      <td>1992-08-05</td>\n",
       "      <td>1995-07-22</td>\n",
       "      <td>NaT</td>\n",
       "    </tr>\n",
       "    <tr>\n",
       "      <th>1</th>\n",
       "      <td>2003-02-04</td>\n",
       "      <td>2005-12-06</td>\n",
       "      <td>2012-06-27</td>\n",
       "    </tr>\n",
       "    <tr>\n",
       "      <th>2</th>\n",
       "      <td>2004-09-09</td>\n",
       "      <td>2005-12-06</td>\n",
       "      <td>2012-06-27</td>\n",
       "    </tr>\n",
       "    <tr>\n",
       "      <th>3</th>\n",
       "      <td>2003-01-27</td>\n",
       "      <td>2005-12-06</td>\n",
       "      <td>2012-06-27</td>\n",
       "    </tr>\n",
       "    <tr>\n",
       "      <th>4</th>\n",
       "      <td>2004-09-29</td>\n",
       "      <td>2005-12-06</td>\n",
       "      <td>2012-06-27</td>\n",
       "    </tr>\n",
       "  </tbody>\n",
       "</table>\n",
       "</div>"
      ],
      "text/plain": [
       "  VISIT_DATE FIRST_REPORTED_DATE LAST_REPORTED_DATE\n",
       "0 1992-08-05          1995-07-22                NaT\n",
       "1 2003-02-04          2005-12-06         2012-06-27\n",
       "2 2004-09-09          2005-12-06         2012-06-27\n",
       "3 2003-01-27          2005-12-06         2012-06-27\n",
       "4 2004-09-29          2005-12-06         2012-06-27"
      ]
     },
     "execution_count": 82,
     "metadata": {},
     "output_type": "execute_result"
    }
   ],
   "source": [
    "site_visits_df[date_columns].head()"
   ]
  },
  {
   "cell_type": "code",
   "execution_count": 83,
   "id": "12c0402f",
   "metadata": {
    "ExecuteTime": {
     "end_time": "2022-04-06T05:53:43.455159Z",
     "start_time": "2022-04-06T05:53:43.219160Z"
    }
   },
   "outputs": [
    {
     "name": "stdout",
     "output_type": "stream",
     "text": [
      "Range of VISIT_DATE is between 1900-01-01 00:00:00 and 2021-06-29 00:00:00\n",
      "Range of FIRST_REPORTED_DATE is between 1995-07-22 00:00:00 and 2021-07-01 00:00:00\n",
      "Range of LAST_REPORTED_DATE is between 2005-11-15 00:00:00 and 2021-07-01 00:00:00\n"
     ]
    }
   ],
   "source": [
    "for datacol in date_columns:\n",
    "    print('Range of {} is between {} and {}'.format(datacol, site_visits_df[datacol].min(), site_visits_df[datacol].max()))"
   ]
  },
  {
   "cell_type": "code",
   "execution_count": 38,
   "id": "e92be1eb",
   "metadata": {
    "ExecuteTime": {
     "end_time": "2022-04-06T05:38:16.716839Z",
     "start_time": "2022-04-06T05:38:16.712843Z"
    }
   },
   "outputs": [],
   "source": [
    "# site_visits_df.VISIT_ID.str.replace('#', '')"
   ]
  },
  {
   "cell_type": "code",
   "execution_count": 72,
   "id": "e1fae879",
   "metadata": {
    "ExecuteTime": {
     "end_time": "2022-04-06T05:49:33.680044Z",
     "start_time": "2022-04-06T05:49:33.666042Z"
    }
   },
   "outputs": [
    {
     "data": {
      "text/plain": [
       "20"
      ]
     },
     "execution_count": 72,
     "metadata": {},
     "output_type": "execute_result"
    }
   ],
   "source": [
    "len(site_visits_df.columns)"
   ]
  },
  {
   "cell_type": "markdown",
   "id": "363fe1de",
   "metadata": {},
   "source": [
    "### Web Scraping Column description and data type"
   ]
  },
  {
   "cell_type": "code",
   "execution_count": 73,
   "id": "11b67723",
   "metadata": {
    "ExecuteTime": {
     "end_time": "2022-04-06T05:49:42.369360Z",
     "start_time": "2022-04-06T05:49:38.846957Z"
    }
   },
   "outputs": [],
   "source": [
    "def get_html():\n",
    "    URL = \"https://echo.epa.gov/tools/data-downloads/sdwa-download-summary\"\n",
    "    r = requests.get(URL)  \n",
    "    html_soup = BeautifulSoup(r.content, 'html.parser') \n",
    "    return html_soup\n",
    "html_soup = get_html()"
   ]
  },
  {
   "cell_type": "code",
   "execution_count": 74,
   "id": "24244aca",
   "metadata": {
    "ExecuteTime": {
     "end_time": "2022-04-06T05:49:42.433318Z",
     "start_time": "2022-04-06T05:49:42.372293Z"
    }
   },
   "outputs": [
    {
     "data": {
      "text/html": [
       "<div>\n",
       "<style scoped>\n",
       "    .dataframe tbody tr th:only-of-type {\n",
       "        vertical-align: middle;\n",
       "    }\n",
       "\n",
       "    .dataframe tbody tr th {\n",
       "        vertical-align: top;\n",
       "    }\n",
       "\n",
       "    .dataframe thead th {\n",
       "        text-align: right;\n",
       "    }\n",
       "</style>\n",
       "<table border=\"1\" class=\"dataframe\">\n",
       "  <thead>\n",
       "    <tr style=\"text-align: right;\">\n",
       "      <th></th>\n",
       "      <th>Element</th>\n",
       "      <th>Data Type</th>\n",
       "      <th>Length</th>\n",
       "    </tr>\n",
       "  </thead>\n",
       "  <tbody>\n",
       "    <tr>\n",
       "      <th>0</th>\n",
       "      <td>PWSID</td>\n",
       "      <td>Char</td>\n",
       "      <td>9</td>\n",
       "    </tr>\n",
       "    <tr>\n",
       "      <th>1</th>\n",
       "      <td>SUBMISSIONYEARQUARTER</td>\n",
       "      <td>Char</td>\n",
       "      <td>6</td>\n",
       "    </tr>\n",
       "    <tr>\n",
       "      <th>2</th>\n",
       "      <td>VISIT_ID</td>\n",
       "      <td>Char</td>\n",
       "      <td></td>\n",
       "    </tr>\n",
       "    <tr>\n",
       "      <th>3</th>\n",
       "      <td>VISIT_DATE</td>\n",
       "      <td>Date</td>\n",
       "      <td></td>\n",
       "    </tr>\n",
       "    <tr>\n",
       "      <th>4</th>\n",
       "      <td>AGENCY_TYPE_CODE</td>\n",
       "      <td>Char</td>\n",
       "      <td>4</td>\n",
       "    </tr>\n",
       "    <tr>\n",
       "      <th>5</th>\n",
       "      <td>VISIT_REASON_CODE</td>\n",
       "      <td>Char</td>\n",
       "      <td>4</td>\n",
       "    </tr>\n",
       "    <tr>\n",
       "      <th>6</th>\n",
       "      <td>MANAGEMENT_OPS_EVAL_CODE</td>\n",
       "      <td>Char</td>\n",
       "      <td>1</td>\n",
       "    </tr>\n",
       "    <tr>\n",
       "      <th>7</th>\n",
       "      <td>SOURCE_WATER_EVAL_CODE</td>\n",
       "      <td>Char</td>\n",
       "      <td>1</td>\n",
       "    </tr>\n",
       "    <tr>\n",
       "      <th>8</th>\n",
       "      <td>SECURITY_EVAL_CODE</td>\n",
       "      <td>Char</td>\n",
       "      <td>1</td>\n",
       "    </tr>\n",
       "    <tr>\n",
       "      <th>9</th>\n",
       "      <td>PUMPS_EVAL_CODE</td>\n",
       "      <td>Char</td>\n",
       "      <td>1</td>\n",
       "    </tr>\n",
       "    <tr>\n",
       "      <th>10</th>\n",
       "      <td>OTHER_EVAL_CODE</td>\n",
       "      <td>Char</td>\n",
       "      <td>1</td>\n",
       "    </tr>\n",
       "    <tr>\n",
       "      <th>11</th>\n",
       "      <td>COMPLIANCE_EVAL_CODE</td>\n",
       "      <td>Char</td>\n",
       "      <td>1</td>\n",
       "    </tr>\n",
       "    <tr>\n",
       "      <th>12</th>\n",
       "      <td>DATA_VERIFICATION_EVAL_CODE</td>\n",
       "      <td>Char</td>\n",
       "      <td>1</td>\n",
       "    </tr>\n",
       "    <tr>\n",
       "      <th>13</th>\n",
       "      <td>TREATMENT_EVAL_CODE</td>\n",
       "      <td>Char</td>\n",
       "      <td>1</td>\n",
       "    </tr>\n",
       "    <tr>\n",
       "      <th>14</th>\n",
       "      <td>FINISHED_WATER_STOR_EVAL_CODE</td>\n",
       "      <td>Char</td>\n",
       "      <td>1</td>\n",
       "    </tr>\n",
       "    <tr>\n",
       "      <th>15</th>\n",
       "      <td>DISTRIBUTION_EVAL_CODE</td>\n",
       "      <td>Char</td>\n",
       "      <td>1</td>\n",
       "    </tr>\n",
       "    <tr>\n",
       "      <th>16</th>\n",
       "      <td>FINANCIAL_EVAL_CODE</td>\n",
       "      <td>Char</td>\n",
       "      <td>1</td>\n",
       "    </tr>\n",
       "    <tr>\n",
       "      <th>17</th>\n",
       "      <td>VISIT_COMMENTS</td>\n",
       "      <td>Char</td>\n",
       "      <td></td>\n",
       "    </tr>\n",
       "    <tr>\n",
       "      <th>18</th>\n",
       "      <td>FIRST_REPORTED_DATE</td>\n",
       "      <td>Date</td>\n",
       "      <td></td>\n",
       "    </tr>\n",
       "    <tr>\n",
       "      <th>19</th>\n",
       "      <td>LAST_REPORTED_DATE</td>\n",
       "      <td>Date</td>\n",
       "      <td></td>\n",
       "    </tr>\n",
       "  </tbody>\n",
       "</table>\n",
       "</div>"
      ],
      "text/plain": [
       "                          Element Data Type Length\n",
       "0                           PWSID      Char      9\n",
       "1           SUBMISSIONYEARQUARTER      Char      6\n",
       "2                        VISIT_ID      Char       \n",
       "3                      VISIT_DATE      Date       \n",
       "4                AGENCY_TYPE_CODE      Char      4\n",
       "5               VISIT_REASON_CODE      Char      4\n",
       "6        MANAGEMENT_OPS_EVAL_CODE      Char      1\n",
       "7          SOURCE_WATER_EVAL_CODE      Char      1\n",
       "8              SECURITY_EVAL_CODE      Char      1\n",
       "9                 PUMPS_EVAL_CODE      Char      1\n",
       "10                OTHER_EVAL_CODE      Char      1\n",
       "11           COMPLIANCE_EVAL_CODE      Char      1\n",
       "12    DATA_VERIFICATION_EVAL_CODE      Char      1\n",
       "13            TREATMENT_EVAL_CODE      Char      1\n",
       "14  FINISHED_WATER_STOR_EVAL_CODE      Char      1\n",
       "15         DISTRIBUTION_EVAL_CODE      Char      1\n",
       "16            FINANCIAL_EVAL_CODE      Char      1\n",
       "17                 VISIT_COMMENTS      Char       \n",
       "18            FIRST_REPORTED_DATE      Date       \n",
       "19             LAST_REPORTED_DATE      Date       "
      ]
     },
     "execution_count": 74,
     "metadata": {},
     "output_type": "execute_result"
    }
   ],
   "source": [
    "cols = []\n",
    "for th in html_soup.find_all(\"div\", {\"class\": 'field-item even'})[0].find_all('h3')[-2].find_next_sibling('table').find(\"thead\").find_all(\"th\"):\n",
    "    cols.append(th.get_text().replace(u'\\xa0', u''))\n",
    "rows = []\n",
    "for row in html_soup.find_all(\"div\", {\"class\": 'field-item even'})[0].find_all('h3')[-2].find_next_sibling('table').find(\"tbody\").find_all(\"tr\"):\n",
    "    r = []\n",
    "    for td in row.find_all('td'):\n",
    "        r.append(td.get_text().replace(u'\\xa0', u''))\n",
    "    rows.append(r)\n",
    "column_datatype = pd.DataFrame(rows, columns=cols)\n",
    "column_datatype = column_datatype[column_datatype.Element.isin(site_visits_df.columns)]\n",
    "column_datatype"
   ]
  },
  {
   "cell_type": "code",
   "execution_count": 75,
   "id": "64d59ede",
   "metadata": {
    "ExecuteTime": {
     "end_time": "2022-04-06T05:49:42.732420Z",
     "start_time": "2022-04-06T05:49:42.664422Z"
    }
   },
   "outputs": [
    {
     "data": {
      "text/html": [
       "<div>\n",
       "<style scoped>\n",
       "    .dataframe tbody tr th:only-of-type {\n",
       "        vertical-align: middle;\n",
       "    }\n",
       "\n",
       "    .dataframe tbody tr th {\n",
       "        vertical-align: top;\n",
       "    }\n",
       "\n",
       "    .dataframe thead th {\n",
       "        text-align: right;\n",
       "    }\n",
       "</style>\n",
       "<table border=\"1\" class=\"dataframe\">\n",
       "  <thead>\n",
       "    <tr style=\"text-align: right;\">\n",
       "      <th></th>\n",
       "      <th>COLUMN</th>\n",
       "      <th>DESCRIPTION</th>\n",
       "    </tr>\n",
       "  </thead>\n",
       "  <tbody>\n",
       "    <tr>\n",
       "      <th>0</th>\n",
       "      <td>AGENCY_TYPE_CODE</td>\n",
       "      <td>The agency type that conducted the site visit.</td>\n",
       "    </tr>\n",
       "    <tr>\n",
       "      <th>1</th>\n",
       "      <td>COMPLIANCE_EVAL_CODE</td>\n",
       "      <td>Compliance evaluation results from site visit.</td>\n",
       "    </tr>\n",
       "    <tr>\n",
       "      <th>2</th>\n",
       "      <td>DATA_VERIFICATION_EVAL_CODE</td>\n",
       "      <td>Data verification evaluation results from site visit.</td>\n",
       "    </tr>\n",
       "    <tr>\n",
       "      <th>3</th>\n",
       "      <td>DISTRIBUTION_EVAL_CODE</td>\n",
       "      <td>Distribution system evaluation results from site visit.</td>\n",
       "    </tr>\n",
       "    <tr>\n",
       "      <th>4</th>\n",
       "      <td>FINANCIAL_EVAL_CODE</td>\n",
       "      <td>Financial evaluation results from site visit.</td>\n",
       "    </tr>\n",
       "    <tr>\n",
       "      <th>5</th>\n",
       "      <td>FINISHED_WATER_STOR_EVAL_CODE</td>\n",
       "      <td>Water storage evaluation from site visit.</td>\n",
       "    </tr>\n",
       "    <tr>\n",
       "      <th>6</th>\n",
       "      <td>FIRST_REPORTED_DATE</td>\n",
       "      <td>The first reported date for the milestone event. The date format is MM/DD/YYYY.</td>\n",
       "    </tr>\n",
       "    <tr>\n",
       "      <th>7</th>\n",
       "      <td>LAST_REPORTED_DATE</td>\n",
       "      <td>The last reported date for the milestone event. The date format is MM/DD/YYYY.</td>\n",
       "    </tr>\n",
       "    <tr>\n",
       "      <th>8</th>\n",
       "      <td>MANAGEMENT_OPS_EVAL_CODE</td>\n",
       "      <td>Management operations evaluation results from site visit.</td>\n",
       "    </tr>\n",
       "    <tr>\n",
       "      <th>9</th>\n",
       "      <td>OTHER_EVAL_CODE</td>\n",
       "      <td>Other facility equipment/management evaluation results from site visit.</td>\n",
       "    </tr>\n",
       "    <tr>\n",
       "      <th>10</th>\n",
       "      <td>PUMPS_EVAL_CODE</td>\n",
       "      <td>Pumps evaluation results from site visit.</td>\n",
       "    </tr>\n",
       "    <tr>\n",
       "      <th>11</th>\n",
       "      <td>PWSID</td>\n",
       "      <td>A unique identifying code for a public water system in SDWIS. The PWSID consists of a two-letter state or region code, followed by seven digits.</td>\n",
       "    </tr>\n",
       "    <tr>\n",
       "      <th>12</th>\n",
       "      <td>SECURITY_EVAL_CODE</td>\n",
       "      <td>Security evaluation results from site visit.</td>\n",
       "    </tr>\n",
       "    <tr>\n",
       "      <th>13</th>\n",
       "      <td>SOURCE_WATER_EVAL_CODE</td>\n",
       "      <td>Source water evaluation results from site visit.</td>\n",
       "    </tr>\n",
       "    <tr>\n",
       "      <th>14</th>\n",
       "      <td>SUBMISSIONYEARQUARTER</td>\n",
       "      <td>The fiscal year and quarter when the event took place.</td>\n",
       "    </tr>\n",
       "    <tr>\n",
       "      <th>15</th>\n",
       "      <td>TREATMENT_EVAL_CODE</td>\n",
       "      <td>Treatment evaluation results from site visit.</td>\n",
       "    </tr>\n",
       "    <tr>\n",
       "      <th>16</th>\n",
       "      <td>VISIT_COMMENTS</td>\n",
       "      <td>Comments of site visit by the visitor.</td>\n",
       "    </tr>\n",
       "    <tr>\n",
       "      <th>17</th>\n",
       "      <td>VISIT_DATE</td>\n",
       "      <td>The date of the site visit.</td>\n",
       "    </tr>\n",
       "    <tr>\n",
       "      <th>18</th>\n",
       "      <td>VISIT_ID</td>\n",
       "      <td>The identification number for each visit.</td>\n",
       "    </tr>\n",
       "    <tr>\n",
       "      <th>19</th>\n",
       "      <td>VISIT_REASON_CODE</td>\n",
       "      <td>Code to indicate the reason for the site visit. For a full list of visit codes and their descriptions see SDWA_REF_CODE_VALUES.csv under VALUE_TYPE = VISIT_REASON_CODE.</td>\n",
       "    </tr>\n",
       "  </tbody>\n",
       "</table>\n",
       "</div>"
      ],
      "text/plain": [
       "                           COLUMN  \\\n",
       "0                AGENCY_TYPE_CODE   \n",
       "1            COMPLIANCE_EVAL_CODE   \n",
       "2     DATA_VERIFICATION_EVAL_CODE   \n",
       "3          DISTRIBUTION_EVAL_CODE   \n",
       "4             FINANCIAL_EVAL_CODE   \n",
       "5   FINISHED_WATER_STOR_EVAL_CODE   \n",
       "6             FIRST_REPORTED_DATE   \n",
       "7              LAST_REPORTED_DATE   \n",
       "8        MANAGEMENT_OPS_EVAL_CODE   \n",
       "9                 OTHER_EVAL_CODE   \n",
       "10                PUMPS_EVAL_CODE   \n",
       "11                         PWSID    \n",
       "12             SECURITY_EVAL_CODE   \n",
       "13         SOURCE_WATER_EVAL_CODE   \n",
       "14         SUBMISSIONYEARQUARTER    \n",
       "15            TREATMENT_EVAL_CODE   \n",
       "16                 VISIT_COMMENTS   \n",
       "17                     VISIT_DATE   \n",
       "18                       VISIT_ID   \n",
       "19              VISIT_REASON_CODE   \n",
       "\n",
       "                                                                                                                                                                  DESCRIPTION  \n",
       "0                                                                                                                              The agency type that conducted the site visit.  \n",
       "1                                                                                                                              Compliance evaluation results from site visit.  \n",
       "2                                                                                                                       Data verification evaluation results from site visit.  \n",
       "3                                                                                                                     Distribution system evaluation results from site visit.  \n",
       "4                                                                                                                               Financial evaluation results from site visit.  \n",
       "5                                                                                                                                   Water storage evaluation from site visit.  \n",
       "6                                                                                             The first reported date for the milestone event. The date format is MM/DD/YYYY.  \n",
       "7                                                                                              The last reported date for the milestone event. The date format is MM/DD/YYYY.  \n",
       "8                                                                                                                   Management operations evaluation results from site visit.  \n",
       "9                                                                                                     Other facility equipment/management evaluation results from site visit.  \n",
       "10                                                                                                                                  Pumps evaluation results from site visit.  \n",
       "11                           A unique identifying code for a public water system in SDWIS. The PWSID consists of a two-letter state or region code, followed by seven digits.  \n",
       "12                                                                                                                               Security evaluation results from site visit.  \n",
       "13                                                                                                                           Source water evaluation results from site visit.  \n",
       "14                                                                                                                     The fiscal year and quarter when the event took place.  \n",
       "15                                                                                                                              Treatment evaluation results from site visit.  \n",
       "16                                                                                                                                     Comments of site visit by the visitor.  \n",
       "17                                                                                                                                                The date of the site visit.  \n",
       "18                                                                                                                                  The identification number for each visit.  \n",
       "19   Code to indicate the reason for the site visit. For a full list of visit codes and their descriptions see SDWA_REF_CODE_VALUES.csv under VALUE_TYPE = VISIT_REASON_CODE.  "
      ]
     },
     "execution_count": 75,
     "metadata": {},
     "output_type": "execute_result"
    }
   ],
   "source": [
    "data_dictionary = {\n",
    "    p.find_all('strong')[0].getText().replace(u'\\xa0', u'').replace('VISIT_DATE (aka SITE_VISIT_DATE)', 'VISIT_DATE') : p.getText().replace(u'\\xa0', u' ').replace('VISIT_DATE (aka SITE_VISIT_DATE)', 'VISIT_DATE') \n",
    "    for p in html_soup.find_all(\"div\", {\"class\": 'field-item even'})[0].find_all('p') \n",
    "    if p.find_all('strong') and len(p.find_all('strong')) == 1 and p.find_all('strong')[0].getText().replace(u'\\xa0', u'') in list(site_visits_df.columns) + ['VISIT_DATE (aka SITE_VISIT_DATE)']\n",
    "}\n",
    "pd.set_option('display.max_colwidth', None)\n",
    "col_desc = pd.DataFrame([data_dictionary[col] for col in data_dictionary], columns=['raw_desc'])\n",
    "\n",
    "col_desc[['COLUMN', 'DESCRIPTION']] = col_desc['raw_desc'].str.split('-', 1, expand=True)\n",
    "col_desc = col_desc[['COLUMN', 'DESCRIPTION']]\n",
    "col_desc"
   ]
  },
  {
   "cell_type": "markdown",
   "id": "19a73553",
   "metadata": {},
   "source": [
    "### Generating create SQL statement to create 'site_visit' table to store site visit details"
   ]
  },
  {
   "cell_type": "code",
   "execution_count": 76,
   "id": "53dcc29e",
   "metadata": {
    "ExecuteTime": {
     "end_time": "2022-04-06T05:49:46.512483Z",
     "start_time": "2022-04-06T05:49:46.494501Z"
    }
   },
   "outputs": [
    {
     "name": "stdout",
     "output_type": "stream",
     "text": [
      "CREATE TABLE SITE_VISIT (\n",
      "\tSUBMISSIONYEARQUARTER             VARCHAR(6),\n",
      "\tPWSID                             VARCHAR(9),\n",
      "\tVISIT_ID                          VARCHAR(255),\n",
      "\tVISIT_DATE                        DATE,\n",
      "\tAGENCY_TYPE_CODE                  VARCHAR(4),\n",
      "\tVISIT_REASON_CODE                 VARCHAR(4),\n",
      "\tMANAGEMENT_OPS_EVAL_CODE          VARCHAR(1),\n",
      "\tSOURCE_WATER_EVAL_CODE            VARCHAR(1),\n",
      "\tSECURITY_EVAL_CODE                VARCHAR(1),\n",
      "\tPUMPS_EVAL_CODE                   VARCHAR(1),\n",
      "\tOTHER_EVAL_CODE                   VARCHAR(1),\n",
      "\tCOMPLIANCE_EVAL_CODE              VARCHAR(1),\n",
      "\tDATA_VERIFICATION_EVAL_CODE       VARCHAR(1),\n",
      "\tTREATMENT_EVAL_CODE               VARCHAR(1),\n",
      "\tFINISHED_WATER_STOR_EVAL_CODE     VARCHAR(1),\n",
      "\tDISTRIBUTION_EVAL_CODE            VARCHAR(1),\n",
      "\tFINANCIAL_EVAL_CODE               VARCHAR(1),\n",
      "\tVISIT_COMMENTS                    VARCHAR(255),\n",
      "\tFIRST_REPORTED_DATE               DATE,\n",
      "\tLAST_REPORTED_DATE                DATE\n",
      ") ENGINE = InnoDB;\n"
     ]
    }
   ],
   "source": [
    "temp_dict = {}\n",
    "\n",
    "def space(n):\n",
    "    return ' ' * (max([len(col) for col in site_visits_df.columns]) + 5 - n)\n",
    "\n",
    "for ind in column_datatype.index:\n",
    "    col_name = column_datatype['Element'][ind]\n",
    "    data_type = column_datatype['Data Type'][ind]\n",
    "    length = column_datatype['Length'][ind]\n",
    "    data_type = 'VARCHAR' if data_type == 'Char' else 'DATE' if data_type == 'Date' else 'INT'\n",
    "    data_type = data_type + '('+ length +')' if length != '' and data_type == 'VARCHAR' else data_type + '(255)' if data_type == 'VARCHAR' else data_type\n",
    "    temp_dict[col_name] = data_type\n",
    "print('CREATE TABLE SITE_VISIT (')\n",
    "for col in site_visits_df.columns:\n",
    "    print(f'\\t{col}{space(len(col))}{temp_dict[col]}', end='')\n",
    "    if col != site_visits_df.columns[-1]:\n",
    "        print(',')\n",
    "    else:\n",
    "        print()\n",
    "print(') ENGINE = InnoDB;')"
   ]
  },
  {
   "cell_type": "code",
   "execution_count": 84,
   "id": "c67691e6",
   "metadata": {
    "ExecuteTime": {
     "end_time": "2022-04-06T05:53:53.641261Z",
     "start_time": "2022-04-06T05:53:53.622261Z"
    }
   },
   "outputs": [
    {
     "name": "stdout",
     "output_type": "stream",
     "text": [
      "\n",
      "LOAD DATA INFILE 'C:/ProgramData/MySQL/MySQL Server 8.0/Uploads/SDWA_SITE_VISITS.csv'\n",
      "INTO TABLE SITE_VISIT\n",
      "FIELDS TERMINATED BY ','\n",
      "ESCAPED BY ''\n",
      "OPTIONALLY ENCLOSED BY '\"'\n",
      "LINES TERMINATED BY '\\n'\n",
      "IGNORE 1 ROWS\n",
      "(@SUBMISSIONYEARQUARTER,@PWSID,@VISIT_ID,@VISIT_DATE,@AGENCY_TYPE_CODE,@VISIT_REASON_CODE,@MANAGEMENT_OPS_EVAL_CODE,@SOURCE_WATER_EVAL_CODE,@SECURITY_EVAL_CODE,@PUMPS_EVAL_CODE,@OTHER_EVAL_CODE,@COMPLIANCE_EVAL_CODE,@DATA_VERIFICATION_EVAL_CODE,@TREATMENT_EVAL_CODE,@FINISHED_WATER_STOR_EVAL_CODE,@DISTRIBUTION_EVAL_CODE,@FINANCIAL_EVAL_CODE,@VISIT_COMMENTS,@FIRST_REPORTED_DATE,@LAST_REPORTED_DATE)\n",
      "SET\n",
      "SUBMISSIONYEARQUARTER = IF(@SUBMISSIONYEARQUARTER = '', NULL, @SUBMISSIONYEARQUARTER),\n",
      "PWSID = IF(@PWSID = '', NULL, @PWSID),\n",
      "VISIT_ID = IF(@VISIT_ID = '', NULL, @VISIT_ID),\n",
      "VISIT_DATE = IF(@VISIT_DATE = '', NULL, STR_TO_DATE(@VISIT_DATE, '%m/%d/%Y')),\n",
      "AGENCY_TYPE_CODE = IF(@AGENCY_TYPE_CODE = '', NULL, @AGENCY_TYPE_CODE),\n",
      "VISIT_REASON_CODE = IF(@VISIT_REASON_CODE = '', NULL, @VISIT_REASON_CODE),\n",
      "MANAGEMENT_OPS_EVAL_CODE = IF(@MANAGEMENT_OPS_EVAL_CODE = '', NULL, @MANAGEMENT_OPS_EVAL_CODE),\n",
      "SOURCE_WATER_EVAL_CODE = IF(@SOURCE_WATER_EVAL_CODE = '', NULL, @SOURCE_WATER_EVAL_CODE),\n",
      "SECURITY_EVAL_CODE = IF(@SECURITY_EVAL_CODE = '', NULL, @SECURITY_EVAL_CODE),\n",
      "PUMPS_EVAL_CODE = IF(@PUMPS_EVAL_CODE = '', NULL, @PUMPS_EVAL_CODE),\n",
      "OTHER_EVAL_CODE = IF(@OTHER_EVAL_CODE = '', NULL, @OTHER_EVAL_CODE),\n",
      "COMPLIANCE_EVAL_CODE = IF(@COMPLIANCE_EVAL_CODE = '', NULL, @COMPLIANCE_EVAL_CODE),\n",
      "DATA_VERIFICATION_EVAL_CODE = IF(@DATA_VERIFICATION_EVAL_CODE = '', NULL, @DATA_VERIFICATION_EVAL_CODE),\n",
      "TREATMENT_EVAL_CODE = IF(@TREATMENT_EVAL_CODE = '', NULL, @TREATMENT_EVAL_CODE),\n",
      "FINISHED_WATER_STOR_EVAL_CODE = IF(@FINISHED_WATER_STOR_EVAL_CODE = '', NULL, @FINISHED_WATER_STOR_EVAL_CODE),\n",
      "DISTRIBUTION_EVAL_CODE = IF(@DISTRIBUTION_EVAL_CODE = '', NULL, @DISTRIBUTION_EVAL_CODE),\n",
      "FINANCIAL_EVAL_CODE = IF(@FINANCIAL_EVAL_CODE = '', NULL, @FINANCIAL_EVAL_CODE),\n",
      "VISIT_COMMENTS = IF(@VISIT_COMMENTS = '', NULL, @VISIT_COMMENTS),\n",
      "FIRST_REPORTED_DATE = IF(@FIRST_REPORTED_DATE = '', NULL, STR_TO_DATE(@FIRST_REPORTED_DATE, '%m/%d/%Y')),\n",
      "LAST_REPORTED_DATE = IF(@LAST_REPORTED_DATE = '', NULL, STR_TO_DATE(@LAST_REPORTED_DATE, '%m/%d/%Y')),\n"
     ]
    }
   ],
   "source": [
    "columns = site_visits_df.columns.to_list()\n",
    "\n",
    "date_columns = ['VISIT_DATE', 'FIRST_REPORTED_DATE', 'LAST_REPORTED_DATE']\n",
    "\n",
    "print('''\n",
    "LOAD DATA INFILE 'C:/ProgramData/MySQL/MySQL Server 8.0/Uploads/SDWA_SITE_VISITS.csv'\n",
    "INTO TABLE SITE_VISIT\n",
    "FIELDS TERMINATED BY ','\n",
    "ESCAPED BY ''\n",
    "OPTIONALLY ENCLOSED BY '\"'\n",
    "LINES TERMINATED BY '\\\\n'\n",
    "IGNORE 1 ROWS\n",
    "''', end='')\n",
    "print('(', end='')\n",
    "for col in columns:\n",
    "    print(f'@{col}', end='')\n",
    "    if col != columns[-1]:\n",
    "        print(',', end='')\n",
    "print(')')\n",
    "print('SET')\n",
    "for col in columns:\n",
    "    if col in date_columns:\n",
    "        print(f'{col} = IF(@{col} = \\'\\', NULL, STR_TO_DATE(@{col}, \\'%m/%d/%Y\\')),')\n",
    "    else:\n",
    "        print(f'{col} = IF(@{col} = \\'\\', NULL, @{col}),')"
   ]
  }
 ],
 "metadata": {
  "kernelspec": {
   "display_name": "Python 3",
   "language": "python",
   "name": "python3"
  },
  "language_info": {
   "codemirror_mode": {
    "name": "ipython",
    "version": 3
   },
   "file_extension": ".py",
   "mimetype": "text/x-python",
   "name": "python",
   "nbconvert_exporter": "python",
   "pygments_lexer": "ipython3",
   "version": "3.8.8"
  }
 },
 "nbformat": 4,
 "nbformat_minor": 5
}
