{
 "cells": [
  {
   "cell_type": "code",
   "execution_count": 2,
   "id": "f3e0e50a",
   "metadata": {
    "ExecuteTime": {
     "end_time": "2022-04-11T07:45:18.467997Z",
     "start_time": "2022-04-11T07:45:18.454981Z"
    }
   },
   "outputs": [],
   "source": [
    "import pandas as pd\n",
    "import requests\n",
    "from bs4 import BeautifulSoup"
   ]
  },
  {
   "cell_type": "code",
   "execution_count": 3,
   "id": "dcd6268c",
   "metadata": {
    "ExecuteTime": {
     "end_time": "2022-04-11T07:45:29.182464Z",
     "start_time": "2022-04-11T07:45:22.681546Z"
    }
   },
   "outputs": [],
   "source": [
    "lcr_samples_df = pd.read_csv('../data/ECHO_data_csv/SDWA_LCR_SAMPLES.csv', dtype=str)"
   ]
  },
  {
   "cell_type": "code",
   "execution_count": 5,
   "id": "d7b2e493",
   "metadata": {
    "ExecuteTime": {
     "end_time": "2022-04-11T07:45:48.717556Z",
     "start_time": "2022-04-11T07:45:48.658522Z"
    }
   },
   "outputs": [
    {
     "data": {
      "text/html": [
       "<div>\n",
       "<style scoped>\n",
       "    .dataframe tbody tr th:only-of-type {\n",
       "        vertical-align: middle;\n",
       "    }\n",
       "\n",
       "    .dataframe tbody tr th {\n",
       "        vertical-align: top;\n",
       "    }\n",
       "\n",
       "    .dataframe thead th {\n",
       "        text-align: right;\n",
       "    }\n",
       "</style>\n",
       "<table border=\"1\" class=\"dataframe\">\n",
       "  <thead>\n",
       "    <tr style=\"text-align: right;\">\n",
       "      <th></th>\n",
       "      <th>SUBMISSIONYEARQUARTER</th>\n",
       "      <th>PWSID</th>\n",
       "      <th>SAMPLE_ID</th>\n",
       "      <th>SAMPLING_END_DATE</th>\n",
       "      <th>SAMPLING_START_DATE</th>\n",
       "      <th>RECONCILIATION_ID</th>\n",
       "      <th>SAMPLE_FIRST_REPORTED_DATE</th>\n",
       "      <th>SAMPLE_LAST_REPORTED_DATE</th>\n",
       "      <th>SAR_ID</th>\n",
       "      <th>CONTAMINANT_CODE</th>\n",
       "      <th>RESULT_SIGN_CODE</th>\n",
       "      <th>SAMPLE_MEASURE</th>\n",
       "      <th>UNIT_OF_MEASURE</th>\n",
       "      <th>SAR_FIRST_REPORTED_DATE</th>\n",
       "      <th>SAR_LAST_REPORTED_DATE</th>\n",
       "    </tr>\n",
       "  </thead>\n",
       "  <tbody>\n",
       "    <tr>\n",
       "      <th>0</th>\n",
       "      <td>2021Q2</td>\n",
       "      <td>WI2650907</td>\n",
       "      <td>1</td>\n",
       "      <td>12/31/1993</td>\n",
       "      <td>07/01/1993</td>\n",
       "      <td>NaN</td>\n",
       "      <td>04/03/1997</td>\n",
       "      <td>04/03/1997</td>\n",
       "      <td>3249839</td>\n",
       "      <td>PB90</td>\n",
       "      <td>NaN</td>\n",
       "      <td>.013</td>\n",
       "      <td>mg/L</td>\n",
       "      <td>NaN</td>\n",
       "      <td>NaN</td>\n",
       "    </tr>\n",
       "    <tr>\n",
       "      <th>1</th>\n",
       "      <td>2021Q2</td>\n",
       "      <td>WI2650907</td>\n",
       "      <td>2</td>\n",
       "      <td>06/30/1994</td>\n",
       "      <td>01/01/1994</td>\n",
       "      <td>NaN</td>\n",
       "      <td>04/03/1997</td>\n",
       "      <td>04/03/1997</td>\n",
       "      <td>3249840</td>\n",
       "      <td>PB90</td>\n",
       "      <td>NaN</td>\n",
       "      <td>.007</td>\n",
       "      <td>mg/L</td>\n",
       "      <td>NaN</td>\n",
       "      <td>NaN</td>\n",
       "    </tr>\n",
       "    <tr>\n",
       "      <th>2</th>\n",
       "      <td>2021Q2</td>\n",
       "      <td>WI2650907</td>\n",
       "      <td>3</td>\n",
       "      <td>12/31/1996</td>\n",
       "      <td>07/01/1996</td>\n",
       "      <td>NaN</td>\n",
       "      <td>04/03/1997</td>\n",
       "      <td>04/03/1997</td>\n",
       "      <td>3249841</td>\n",
       "      <td>PB90</td>\n",
       "      <td>NaN</td>\n",
       "      <td>.00495</td>\n",
       "      <td>mg/L</td>\n",
       "      <td>NaN</td>\n",
       "      <td>NaN</td>\n",
       "    </tr>\n",
       "    <tr>\n",
       "      <th>3</th>\n",
       "      <td>2021Q2</td>\n",
       "      <td>WI2650907</td>\n",
       "      <td>5</td>\n",
       "      <td>12/31/1998</td>\n",
       "      <td>07/01/1998</td>\n",
       "      <td>NaN</td>\n",
       "      <td>02/27/1999</td>\n",
       "      <td>02/27/1999</td>\n",
       "      <td>3257671</td>\n",
       "      <td>PB90</td>\n",
       "      <td>NaN</td>\n",
       "      <td>.0022</td>\n",
       "      <td>mg/L</td>\n",
       "      <td>NaN</td>\n",
       "      <td>NaN</td>\n",
       "    </tr>\n",
       "    <tr>\n",
       "      <th>4</th>\n",
       "      <td>2021Q2</td>\n",
       "      <td>WI2650907</td>\n",
       "      <td>11</td>\n",
       "      <td>12/31/1995</td>\n",
       "      <td>07/01/1995</td>\n",
       "      <td>NaN</td>\n",
       "      <td>03/04/2000</td>\n",
       "      <td>03/04/2000</td>\n",
       "      <td>3609018</td>\n",
       "      <td>PB90</td>\n",
       "      <td>NaN</td>\n",
       "      <td>.00725</td>\n",
       "      <td>mg/L</td>\n",
       "      <td>NaN</td>\n",
       "      <td>NaN</td>\n",
       "    </tr>\n",
       "  </tbody>\n",
       "</table>\n",
       "</div>"
      ],
      "text/plain": [
       "  SUBMISSIONYEARQUARTER      PWSID SAMPLE_ID SAMPLING_END_DATE  \\\n",
       "0                2021Q2  WI2650907         1        12/31/1993   \n",
       "1                2021Q2  WI2650907         2        06/30/1994   \n",
       "2                2021Q2  WI2650907         3        12/31/1996   \n",
       "3                2021Q2  WI2650907         5        12/31/1998   \n",
       "4                2021Q2  WI2650907        11        12/31/1995   \n",
       "\n",
       "  SAMPLING_START_DATE RECONCILIATION_ID SAMPLE_FIRST_REPORTED_DATE  \\\n",
       "0          07/01/1993               NaN                 04/03/1997   \n",
       "1          01/01/1994               NaN                 04/03/1997   \n",
       "2          07/01/1996               NaN                 04/03/1997   \n",
       "3          07/01/1998               NaN                 02/27/1999   \n",
       "4          07/01/1995               NaN                 03/04/2000   \n",
       "\n",
       "  SAMPLE_LAST_REPORTED_DATE   SAR_ID CONTAMINANT_CODE RESULT_SIGN_CODE  \\\n",
       "0                04/03/1997  3249839             PB90              NaN   \n",
       "1                04/03/1997  3249840             PB90              NaN   \n",
       "2                04/03/1997  3249841             PB90              NaN   \n",
       "3                02/27/1999  3257671             PB90              NaN   \n",
       "4                03/04/2000  3609018             PB90              NaN   \n",
       "\n",
       "  SAMPLE_MEASURE UNIT_OF_MEASURE SAR_FIRST_REPORTED_DATE  \\\n",
       "0           .013            mg/L                     NaN   \n",
       "1           .007            mg/L                     NaN   \n",
       "2         .00495            mg/L                     NaN   \n",
       "3          .0022            mg/L                     NaN   \n",
       "4         .00725            mg/L                     NaN   \n",
       "\n",
       "  SAR_LAST_REPORTED_DATE  \n",
       "0                    NaN  \n",
       "1                    NaN  \n",
       "2                    NaN  \n",
       "3                    NaN  \n",
       "4                    NaN  "
      ]
     },
     "execution_count": 5,
     "metadata": {},
     "output_type": "execute_result"
    }
   ],
   "source": [
    "lcr_samples_df.head()"
   ]
  },
  {
   "cell_type": "code",
   "execution_count": 6,
   "id": "d9857c52",
   "metadata": {
    "ExecuteTime": {
     "end_time": "2022-04-11T07:45:58.135602Z",
     "start_time": "2022-04-11T07:45:58.122626Z"
    }
   },
   "outputs": [
    {
     "name": "stdout",
     "output_type": "stream",
     "text": [
      "Total number of records in lcr_samples table is 760988\n"
     ]
    }
   ],
   "source": [
    "print(f'Total number of records in lcr_samples table is {lcr_samples_df.shape[0]}')"
   ]
  },
  {
   "cell_type": "code",
   "execution_count": 7,
   "id": "6134fd34",
   "metadata": {
    "ExecuteTime": {
     "end_time": "2022-04-11T07:46:13.020552Z",
     "start_time": "2022-04-11T07:46:12.722522Z"
    }
   },
   "outputs": [
    {
     "data": {
      "text/plain": [
       "536061"
      ]
     },
     "execution_count": 7,
     "metadata": {},
     "output_type": "execute_result"
    }
   ],
   "source": [
    "lcr_samples_df.SAMPLE_ID.nunique()"
   ]
  },
  {
   "cell_type": "code",
   "execution_count": 8,
   "id": "8867a035",
   "metadata": {
    "ExecuteTime": {
     "end_time": "2022-04-11T07:46:20.927521Z",
     "start_time": "2022-04-11T07:46:19.425524Z"
    }
   },
   "outputs": [
    {
     "data": {
      "text/plain": [
       "760988"
      ]
     },
     "execution_count": 8,
     "metadata": {},
     "output_type": "execute_result"
    }
   ],
   "source": [
    "sum(lcr_samples_df.groupby(['PWSID', 'SAMPLE_ID']).size().tolist())"
   ]
  },
  {
   "cell_type": "markdown",
   "id": "ce623cde",
   "metadata": {},
   "source": [
    "The column set {PWSID, SAMPLE_ID} uniquely identifies each record"
   ]
  },
  {
   "cell_type": "code",
   "execution_count": 9,
   "id": "78432f0d",
   "metadata": {
    "ExecuteTime": {
     "end_time": "2022-04-11T07:46:48.100580Z",
     "start_time": "2022-04-11T07:46:47.553557Z"
    }
   },
   "outputs": [
    {
     "data": {
      "text/plain": [
       "SUBMISSIONYEARQUARTER              0\n",
       "PWSID                              0\n",
       "SAMPLE_ID                          0\n",
       "SAMPLING_END_DATE                  0\n",
       "SAMPLING_START_DATE                0\n",
       "RECONCILIATION_ID             760367\n",
       "SAMPLE_FIRST_REPORTED_DATE      2630\n",
       "SAMPLE_LAST_REPORTED_DATE      46012\n",
       "SAR_ID                             0\n",
       "CONTAMINANT_CODE                   0\n",
       "RESULT_SIGN_CODE              755270\n",
       "SAMPLE_MEASURE                     0\n",
       "UNIT_OF_MEASURE                    0\n",
       "SAR_FIRST_REPORTED_DATE       235229\n",
       "SAR_LAST_REPORTED_DATE        277264\n",
       "dtype: int64"
      ]
     },
     "execution_count": 9,
     "metadata": {},
     "output_type": "execute_result"
    }
   ],
   "source": [
    "lcr_samples_df.isnull().sum()"
   ]
  },
  {
   "cell_type": "code",
   "execution_count": 11,
   "id": "2a4b7255",
   "metadata": {
    "ExecuteTime": {
     "end_time": "2022-04-11T07:48:07.722634Z",
     "start_time": "2022-04-11T07:48:07.330602Z"
    }
   },
   "outputs": [
    {
     "data": {
      "text/html": [
       "<div>\n",
       "<style scoped>\n",
       "    .dataframe tbody tr th:only-of-type {\n",
       "        vertical-align: middle;\n",
       "    }\n",
       "\n",
       "    .dataframe tbody tr th {\n",
       "        vertical-align: top;\n",
       "    }\n",
       "\n",
       "    .dataframe thead th {\n",
       "        text-align: right;\n",
       "    }\n",
       "</style>\n",
       "<table border=\"1\" class=\"dataframe\">\n",
       "  <thead>\n",
       "    <tr style=\"text-align: right;\">\n",
       "      <th></th>\n",
       "      <th>SAMPLING_START_DATE</th>\n",
       "      <th>SAMPLING_END_DATE</th>\n",
       "      <th>SAMPLE_FIRST_REPORTED_DATE</th>\n",
       "      <th>SAMPLE_LAST_REPORTED_DATE</th>\n",
       "      <th>SAR_FIRST_REPORTED_DATE</th>\n",
       "      <th>SAR_LAST_REPORTED_DATE</th>\n",
       "    </tr>\n",
       "  </thead>\n",
       "  <tbody>\n",
       "    <tr>\n",
       "      <th>7</th>\n",
       "      <td>01/01/2006</td>\n",
       "      <td>12/31/2006</td>\n",
       "      <td>02/26/2007</td>\n",
       "      <td>11/13/2007</td>\n",
       "      <td>02/26/2007</td>\n",
       "      <td>11/13/2007</td>\n",
       "    </tr>\n",
       "    <tr>\n",
       "      <th>8</th>\n",
       "      <td>01/01/2003</td>\n",
       "      <td>12/31/2003</td>\n",
       "      <td>03/02/2006</td>\n",
       "      <td>11/21/2006</td>\n",
       "      <td>03/02/2006</td>\n",
       "      <td>11/21/2006</td>\n",
       "    </tr>\n",
       "    <tr>\n",
       "      <th>9</th>\n",
       "      <td>01/01/2009</td>\n",
       "      <td>12/31/2009</td>\n",
       "      <td>02/23/2010</td>\n",
       "      <td>11/16/2010</td>\n",
       "      <td>02/23/2010</td>\n",
       "      <td>11/16/2010</td>\n",
       "    </tr>\n",
       "    <tr>\n",
       "      <th>17</th>\n",
       "      <td>01/01/2004</td>\n",
       "      <td>06/30/2004</td>\n",
       "      <td>03/02/2006</td>\n",
       "      <td>02/26/2007</td>\n",
       "      <td>03/02/2006</td>\n",
       "      <td>02/26/2007</td>\n",
       "    </tr>\n",
       "    <tr>\n",
       "      <th>18</th>\n",
       "      <td>07/01/2004</td>\n",
       "      <td>12/31/2004</td>\n",
       "      <td>03/02/2006</td>\n",
       "      <td>02/26/2007</td>\n",
       "      <td>03/02/2006</td>\n",
       "      <td>02/26/2007</td>\n",
       "    </tr>\n",
       "  </tbody>\n",
       "</table>\n",
       "</div>"
      ],
      "text/plain": [
       "   SAMPLING_START_DATE SAMPLING_END_DATE SAMPLE_FIRST_REPORTED_DATE  \\\n",
       "7           01/01/2006        12/31/2006                 02/26/2007   \n",
       "8           01/01/2003        12/31/2003                 03/02/2006   \n",
       "9           01/01/2009        12/31/2009                 02/23/2010   \n",
       "17          01/01/2004        06/30/2004                 03/02/2006   \n",
       "18          07/01/2004        12/31/2004                 03/02/2006   \n",
       "\n",
       "   SAMPLE_LAST_REPORTED_DATE SAR_FIRST_REPORTED_DATE SAR_LAST_REPORTED_DATE  \n",
       "7                 11/13/2007              02/26/2007             11/13/2007  \n",
       "8                 11/21/2006              03/02/2006             11/21/2006  \n",
       "9                 11/16/2010              02/23/2010             11/16/2010  \n",
       "17                02/26/2007              03/02/2006             02/26/2007  \n",
       "18                02/26/2007              03/02/2006             02/26/2007  "
      ]
     },
     "execution_count": 11,
     "metadata": {},
     "output_type": "execute_result"
    }
   ],
   "source": [
    "## Seeing date formats\n",
    "date_columns = ['SAMPLING_START_DATE', 'SAMPLING_END_DATE', 'SAMPLE_FIRST_REPORTED_DATE', 'SAMPLE_LAST_REPORTED_DATE', 'SAR_FIRST_REPORTED_DATE', 'SAR_LAST_REPORTED_DATE']\n",
    "lcr_samples_df[~lcr_samples_df['SAR_FIRST_REPORTED_DATE'].isnull()][date_columns].head()"
   ]
  },
  {
   "cell_type": "code",
   "execution_count": 12,
   "id": "4d19ad9b",
   "metadata": {
    "ExecuteTime": {
     "end_time": "2022-04-11T07:48:20.825324Z",
     "start_time": "2022-04-11T07:48:19.169255Z"
    }
   },
   "outputs": [],
   "source": [
    "for datecol in date_columns:\n",
    "    lcr_samples_df[datecol] = pd.to_datetime(lcr_samples_df[datecol], format='%m/%d/%Y')"
   ]
  },
  {
   "cell_type": "code",
   "execution_count": 13,
   "id": "ceeb74bd",
   "metadata": {
    "ExecuteTime": {
     "end_time": "2022-04-11T07:48:26.063738Z",
     "start_time": "2022-04-11T07:48:25.753676Z"
    }
   },
   "outputs": [
    {
     "data": {
      "text/html": [
       "<div>\n",
       "<style scoped>\n",
       "    .dataframe tbody tr th:only-of-type {\n",
       "        vertical-align: middle;\n",
       "    }\n",
       "\n",
       "    .dataframe tbody tr th {\n",
       "        vertical-align: top;\n",
       "    }\n",
       "\n",
       "    .dataframe thead th {\n",
       "        text-align: right;\n",
       "    }\n",
       "</style>\n",
       "<table border=\"1\" class=\"dataframe\">\n",
       "  <thead>\n",
       "    <tr style=\"text-align: right;\">\n",
       "      <th></th>\n",
       "      <th>SAMPLING_START_DATE</th>\n",
       "      <th>SAMPLING_END_DATE</th>\n",
       "      <th>SAMPLE_FIRST_REPORTED_DATE</th>\n",
       "      <th>SAMPLE_LAST_REPORTED_DATE</th>\n",
       "      <th>SAR_FIRST_REPORTED_DATE</th>\n",
       "      <th>SAR_LAST_REPORTED_DATE</th>\n",
       "    </tr>\n",
       "  </thead>\n",
       "  <tbody>\n",
       "    <tr>\n",
       "      <th>7</th>\n",
       "      <td>2006-01-01</td>\n",
       "      <td>2006-12-31</td>\n",
       "      <td>2007-02-26</td>\n",
       "      <td>2007-11-13</td>\n",
       "      <td>2007-02-26</td>\n",
       "      <td>2007-11-13</td>\n",
       "    </tr>\n",
       "    <tr>\n",
       "      <th>8</th>\n",
       "      <td>2003-01-01</td>\n",
       "      <td>2003-12-31</td>\n",
       "      <td>2006-03-02</td>\n",
       "      <td>2006-11-21</td>\n",
       "      <td>2006-03-02</td>\n",
       "      <td>2006-11-21</td>\n",
       "    </tr>\n",
       "    <tr>\n",
       "      <th>9</th>\n",
       "      <td>2009-01-01</td>\n",
       "      <td>2009-12-31</td>\n",
       "      <td>2010-02-23</td>\n",
       "      <td>2010-11-16</td>\n",
       "      <td>2010-02-23</td>\n",
       "      <td>2010-11-16</td>\n",
       "    </tr>\n",
       "    <tr>\n",
       "      <th>17</th>\n",
       "      <td>2004-01-01</td>\n",
       "      <td>2004-06-30</td>\n",
       "      <td>2006-03-02</td>\n",
       "      <td>2007-02-26</td>\n",
       "      <td>2006-03-02</td>\n",
       "      <td>2007-02-26</td>\n",
       "    </tr>\n",
       "    <tr>\n",
       "      <th>18</th>\n",
       "      <td>2004-07-01</td>\n",
       "      <td>2004-12-31</td>\n",
       "      <td>2006-03-02</td>\n",
       "      <td>2007-02-26</td>\n",
       "      <td>2006-03-02</td>\n",
       "      <td>2007-02-26</td>\n",
       "    </tr>\n",
       "  </tbody>\n",
       "</table>\n",
       "</div>"
      ],
      "text/plain": [
       "   SAMPLING_START_DATE SAMPLING_END_DATE SAMPLE_FIRST_REPORTED_DATE  \\\n",
       "7           2006-01-01        2006-12-31                 2007-02-26   \n",
       "8           2003-01-01        2003-12-31                 2006-03-02   \n",
       "9           2009-01-01        2009-12-31                 2010-02-23   \n",
       "17          2004-01-01        2004-06-30                 2006-03-02   \n",
       "18          2004-07-01        2004-12-31                 2006-03-02   \n",
       "\n",
       "   SAMPLE_LAST_REPORTED_DATE SAR_FIRST_REPORTED_DATE SAR_LAST_REPORTED_DATE  \n",
       "7                 2007-11-13              2007-02-26             2007-11-13  \n",
       "8                 2006-11-21              2006-03-02             2006-11-21  \n",
       "9                 2010-11-16              2010-02-23             2010-11-16  \n",
       "17                2007-02-26              2006-03-02             2007-02-26  \n",
       "18                2007-02-26              2006-03-02             2007-02-26  "
      ]
     },
     "execution_count": 13,
     "metadata": {},
     "output_type": "execute_result"
    }
   ],
   "source": [
    "lcr_samples_df[~lcr_samples_df['SAR_FIRST_REPORTED_DATE'].isnull()][date_columns].head()"
   ]
  },
  {
   "cell_type": "code",
   "execution_count": 14,
   "id": "d2ce93e8",
   "metadata": {
    "ExecuteTime": {
     "end_time": "2022-04-11T07:48:35.958406Z",
     "start_time": "2022-04-11T07:48:35.794397Z"
    }
   },
   "outputs": [
    {
     "name": "stdout",
     "output_type": "stream",
     "text": [
      "Range of SAMPLING_START_DATE is between 1991-07-01 00:00:00 and 2021-01-01 00:00:00\n",
      "Range of SAMPLING_END_DATE is between 1992-01-01 00:00:00 and 2028-12-31 00:00:00\n",
      "Range of SAMPLE_FIRST_REPORTED_DATE is between 1992-08-22 00:00:00 and 2021-07-01 00:00:00\n",
      "Range of SAMPLE_LAST_REPORTED_DATE is between 1993-05-20 00:00:00 and 2021-07-01 00:00:00\n",
      "Range of SAR_FIRST_REPORTED_DATE is between 2006-02-28 00:00:00 and 2021-07-01 00:00:00\n",
      "Range of SAR_LAST_REPORTED_DATE is between 2006-02-28 00:00:00 and 2021-07-01 00:00:00\n"
     ]
    }
   ],
   "source": [
    "for datacol in date_columns:\n",
    "    print('Range of {} is between {} and {}'.format(datacol, lcr_samples_df[datacol].min(), lcr_samples_df[datacol].max()))"
   ]
  },
  {
   "cell_type": "code",
   "execution_count": 15,
   "id": "b35fc2a1",
   "metadata": {
    "ExecuteTime": {
     "end_time": "2022-04-11T07:48:39.587551Z",
     "start_time": "2022-04-11T07:48:39.569555Z"
    }
   },
   "outputs": [
    {
     "data": {
      "text/plain": [
       "15"
      ]
     },
     "execution_count": 15,
     "metadata": {},
     "output_type": "execute_result"
    }
   ],
   "source": [
    "len(lcr_samples_df.columns)"
   ]
  },
  {
   "cell_type": "markdown",
   "id": "fa32a057",
   "metadata": {},
   "source": [
    "### Web Scraping Column description and data type"
   ]
  },
  {
   "cell_type": "code",
   "execution_count": 16,
   "id": "d813261a",
   "metadata": {
    "ExecuteTime": {
     "end_time": "2022-04-11T07:48:44.268832Z",
     "start_time": "2022-04-11T07:48:42.179347Z"
    }
   },
   "outputs": [],
   "source": [
    "def get_html():\n",
    "    URL = \"https://echo.epa.gov/tools/data-downloads/sdwa-download-summary\"\n",
    "    r = requests.get(URL)  \n",
    "    html_soup = BeautifulSoup(r.content, 'html.parser') \n",
    "    return html_soup\n",
    "html_soup = get_html()"
   ]
  },
  {
   "cell_type": "code",
   "execution_count": 20,
   "id": "080ee37d",
   "metadata": {
    "ExecuteTime": {
     "end_time": "2022-04-11T07:49:30.007742Z",
     "start_time": "2022-04-11T07:49:29.905765Z"
    }
   },
   "outputs": [
    {
     "data": {
      "text/html": [
       "<div>\n",
       "<style scoped>\n",
       "    .dataframe tbody tr th:only-of-type {\n",
       "        vertical-align: middle;\n",
       "    }\n",
       "\n",
       "    .dataframe tbody tr th {\n",
       "        vertical-align: top;\n",
       "    }\n",
       "\n",
       "    .dataframe thead th {\n",
       "        text-align: right;\n",
       "    }\n",
       "</style>\n",
       "<table border=\"1\" class=\"dataframe\">\n",
       "  <thead>\n",
       "    <tr style=\"text-align: right;\">\n",
       "      <th></th>\n",
       "      <th>Element</th>\n",
       "      <th>Data Type</th>\n",
       "      <th>Length</th>\n",
       "    </tr>\n",
       "  </thead>\n",
       "  <tbody>\n",
       "    <tr>\n",
       "      <th>0</th>\n",
       "      <td>PWSID</td>\n",
       "      <td>Char</td>\n",
       "      <td>9</td>\n",
       "    </tr>\n",
       "    <tr>\n",
       "      <th>1</th>\n",
       "      <td>SUBMISSIONYEARQUARTER</td>\n",
       "      <td>Char</td>\n",
       "      <td>6</td>\n",
       "    </tr>\n",
       "    <tr>\n",
       "      <th>2</th>\n",
       "      <td>SAMPLE_ID</td>\n",
       "      <td>Char</td>\n",
       "      <td></td>\n",
       "    </tr>\n",
       "    <tr>\n",
       "      <th>3</th>\n",
       "      <td>SAMPLING_END_DATE</td>\n",
       "      <td>Date</td>\n",
       "      <td></td>\n",
       "    </tr>\n",
       "    <tr>\n",
       "      <th>4</th>\n",
       "      <td>SAMPLING_START_DATE</td>\n",
       "      <td>Date</td>\n",
       "      <td></td>\n",
       "    </tr>\n",
       "    <tr>\n",
       "      <th>5</th>\n",
       "      <td>RECONCILIATION_ID</td>\n",
       "      <td>Char</td>\n",
       "      <td>40</td>\n",
       "    </tr>\n",
       "    <tr>\n",
       "      <th>6</th>\n",
       "      <td>SAMPLE_FIRST_REPORTED_DATE</td>\n",
       "      <td>Date</td>\n",
       "      <td></td>\n",
       "    </tr>\n",
       "    <tr>\n",
       "      <th>7</th>\n",
       "      <td>SAMPLE_LAST_REPORTED_DATE</td>\n",
       "      <td>Date</td>\n",
       "      <td></td>\n",
       "    </tr>\n",
       "    <tr>\n",
       "      <th>8</th>\n",
       "      <td>SAR_ID</td>\n",
       "      <td>Num</td>\n",
       "      <td>9</td>\n",
       "    </tr>\n",
       "    <tr>\n",
       "      <th>9</th>\n",
       "      <td>CONTAMINANT_CODE</td>\n",
       "      <td>Char</td>\n",
       "      <td>4</td>\n",
       "    </tr>\n",
       "    <tr>\n",
       "      <th>10</th>\n",
       "      <td>RESULT_SIGN_CODE</td>\n",
       "      <td>Char</td>\n",
       "      <td>2</td>\n",
       "    </tr>\n",
       "    <tr>\n",
       "      <th>11</th>\n",
       "      <td>SAMPLE_MEASURE</td>\n",
       "      <td>Num</td>\n",
       "      <td></td>\n",
       "    </tr>\n",
       "    <tr>\n",
       "      <th>12</th>\n",
       "      <td>UNIT_OF_MEASURE</td>\n",
       "      <td>Char</td>\n",
       "      <td>4</td>\n",
       "    </tr>\n",
       "    <tr>\n",
       "      <th>13</th>\n",
       "      <td>SAR_FIRST_REPORTED_DATE</td>\n",
       "      <td>Date</td>\n",
       "      <td></td>\n",
       "    </tr>\n",
       "    <tr>\n",
       "      <th>14</th>\n",
       "      <td>SAR_LAST_REPORTED_DATE</td>\n",
       "      <td>Date</td>\n",
       "      <td></td>\n",
       "    </tr>\n",
       "  </tbody>\n",
       "</table>\n",
       "</div>"
      ],
      "text/plain": [
       "                       Element Data Type Length\n",
       "0                        PWSID      Char      9\n",
       "1        SUBMISSIONYEARQUARTER      Char      6\n",
       "2                    SAMPLE_ID      Char       \n",
       "3            SAMPLING_END_DATE      Date       \n",
       "4          SAMPLING_START_DATE      Date       \n",
       "5            RECONCILIATION_ID      Char     40\n",
       "6   SAMPLE_FIRST_REPORTED_DATE      Date       \n",
       "7    SAMPLE_LAST_REPORTED_DATE      Date       \n",
       "8                       SAR_ID       Num      9\n",
       "9             CONTAMINANT_CODE      Char      4\n",
       "10            RESULT_SIGN_CODE      Char      2\n",
       "11              SAMPLE_MEASURE       Num       \n",
       "12             UNIT_OF_MEASURE      Char      4\n",
       "13     SAR_FIRST_REPORTED_DATE      Date       \n",
       "14      SAR_LAST_REPORTED_DATE      Date       "
      ]
     },
     "execution_count": 20,
     "metadata": {},
     "output_type": "execute_result"
    }
   ],
   "source": [
    "cols = []\n",
    "filename = 'SDWA_LCR_Samples.csv'\n",
    "idx = [i for i, item in enumerate(list(html_soup.find_all(\"div\", {\"class\": 'field-item even'})[0].find_all('h3'))) if filename in item.getText()][0]\n",
    "for th in html_soup.find_all(\"div\", {\"class\": 'field-item even'})[0].find_all('h3')[idx].find_next_sibling('table').find(\"thead\").find_all(\"th\"):\n",
    "    cols.append(th.get_text().replace(u'\\xa0', u''))\n",
    "rows = []\n",
    "for row in html_soup.find_all(\"div\", {\"class\": 'field-item even'})[0].find_all('h3')[idx].find_next_sibling('table').find(\"tbody\").find_all(\"tr\"):\n",
    "    r = []\n",
    "    for td in row.find_all('td'):\n",
    "        r.append(td.get_text().replace(u'\\xa0', u''))\n",
    "    rows.append(r)\n",
    "column_datatype = pd.DataFrame(rows, columns=cols)\n",
    "column_datatype = column_datatype[column_datatype.Element.isin(lcr_samples_df.columns)]\n",
    "column_datatype"
   ]
  },
  {
   "cell_type": "code",
   "execution_count": 21,
   "id": "dacfc298",
   "metadata": {
    "ExecuteTime": {
     "end_time": "2022-04-11T07:50:14.692344Z",
     "start_time": "2022-04-11T07:50:14.625310Z"
    }
   },
   "outputs": [
    {
     "data": {
      "text/html": [
       "<div>\n",
       "<style scoped>\n",
       "    .dataframe tbody tr th:only-of-type {\n",
       "        vertical-align: middle;\n",
       "    }\n",
       "\n",
       "    .dataframe tbody tr th {\n",
       "        vertical-align: top;\n",
       "    }\n",
       "\n",
       "    .dataframe thead th {\n",
       "        text-align: right;\n",
       "    }\n",
       "</style>\n",
       "<table border=\"1\" class=\"dataframe\">\n",
       "  <thead>\n",
       "    <tr style=\"text-align: right;\">\n",
       "      <th></th>\n",
       "      <th>COLUMN</th>\n",
       "      <th>DESCRIPTION</th>\n",
       "    </tr>\n",
       "  </thead>\n",
       "  <tbody>\n",
       "    <tr>\n",
       "      <th>0</th>\n",
       "      <td>CONTAMINANT_CODE</td>\n",
       "      <td>A code value that represents a contaminant for which a public water system has incurred a violation of a primary drinking water regulation. A full description of the codes can be accessed in the SDWA_REF_CODE_VALUES.csv.</td>\n",
       "    </tr>\n",
       "    <tr>\n",
       "      <th>1</th>\n",
       "      <td>PWSID</td>\n",
       "      <td>A unique identifying code for a public water system in SDWIS. The PWSID consists of a two-letter state or region code, followed by seven digits.</td>\n",
       "    </tr>\n",
       "    <tr>\n",
       "      <th>2</th>\n",
       "      <td>RECONCILIATION_ID</td>\n",
       "      <td>An identifier used for reconciliation with the state data system or LAB assigned identifiers.</td>\n",
       "    </tr>\n",
       "    <tr>\n",
       "      <th>3</th>\n",
       "      <td>RESULT_SIGN_CODE</td>\n",
       "      <td>Indicates if the sample result was below the minimum detection limit or equal to the value reported.</td>\n",
       "    </tr>\n",
       "    <tr>\n",
       "      <th>4</th>\n",
       "      <td>SAMPLE_FIRST_REPORTED_DATE</td>\n",
       "      <td>Date that the sample was first reported. The date format is MM/DD/YYYY.</td>\n",
       "    </tr>\n",
       "    <tr>\n",
       "      <th>5</th>\n",
       "      <td>SAMPLE_ID</td>\n",
       "      <td>Identifier used to identify the sample.</td>\n",
       "    </tr>\n",
       "    <tr>\n",
       "      <th>6</th>\n",
       "      <td>SAMPLE_LAST_REPORTED_DATE</td>\n",
       "      <td>The most recent date of reporting. The date of format is MM/DD/YYYY.</td>\n",
       "    </tr>\n",
       "    <tr>\n",
       "      <th>7</th>\n",
       "      <td>SAMPLE_MEASURE</td>\n",
       "      <td>The measured value of the contaminant as reported from the sampling analysis.</td>\n",
       "    </tr>\n",
       "    <tr>\n",
       "      <th>8</th>\n",
       "      <td>SAMPLING_END_DATE</td>\n",
       "      <td>Date of the last day of the monitoring period in which 90th percentile data for lead or copper was acquired (MM/DD/YYYY format).</td>\n",
       "    </tr>\n",
       "    <tr>\n",
       "      <th>9</th>\n",
       "      <td>SAMPLING_START_DATE</td>\n",
       "      <td>Date of the first day of the monitoring period in which 90th percentile data for lead or copper was acquired (MM/DD/YYYY format).</td>\n",
       "    </tr>\n",
       "    <tr>\n",
       "      <th>10</th>\n",
       "      <td>SAR_FIRST_REPORTED_DATE</td>\n",
       "      <td>The date of the first reported sample analytical result (MM/DD/YYYY format).</td>\n",
       "    </tr>\n",
       "    <tr>\n",
       "      <th>11</th>\n",
       "      <td>SAR_ID</td>\n",
       "      <td>A system-generated number managed by the reporting jurisdiction that uniquely identifies each Sample Result record. As there are situations where there can be two sample results for a sample, the SAR_ID is used instead of the Contaminant code (as in ODS) in the primary key of this table.</td>\n",
       "    </tr>\n",
       "    <tr>\n",
       "      <th>12</th>\n",
       "      <td>SAR_LAST_REPORTED_DATE</td>\n",
       "      <td>The most recent reported sample analytical result (MM/DD/YYYY format).</td>\n",
       "    </tr>\n",
       "    <tr>\n",
       "      <th>13</th>\n",
       "      <td>SUBMISSIONYEARQUARTER</td>\n",
       "      <td>The fiscal year and quarter when the event took place.</td>\n",
       "    </tr>\n",
       "    <tr>\n",
       "      <th>14</th>\n",
       "      <td>UNIT_OF_MEASURE</td>\n",
       "      <td>Units for value in SAMPLE_MEASURE.</td>\n",
       "    </tr>\n",
       "  </tbody>\n",
       "</table>\n",
       "</div>"
      ],
      "text/plain": [
       "                        COLUMN  \\\n",
       "0             CONTAMINANT_CODE   \n",
       "1                       PWSID    \n",
       "2            RECONCILIATION_ID   \n",
       "3             RESULT_SIGN_CODE   \n",
       "4   SAMPLE_FIRST_REPORTED_DATE   \n",
       "5                    SAMPLE_ID   \n",
       "6    SAMPLE_LAST_REPORTED_DATE   \n",
       "7               SAMPLE_MEASURE   \n",
       "8            SAMPLING_END_DATE   \n",
       "9          SAMPLING_START_DATE   \n",
       "10     SAR_FIRST_REPORTED_DATE   \n",
       "11                      SAR_ID   \n",
       "12      SAR_LAST_REPORTED_DATE   \n",
       "13      SUBMISSIONYEARQUARTER    \n",
       "14             UNIT_OF_MEASURE   \n",
       "\n",
       "                                                                                                                                                                                                                                                                                          DESCRIPTION  \n",
       "0                                                                        A code value that represents a contaminant for which a public water system has incurred a violation of a primary drinking water regulation. A full description of the codes can be accessed in the SDWA_REF_CODE_VALUES.csv.  \n",
       "1                                                                                                                                                    A unique identifying code for a public water system in SDWIS. The PWSID consists of a two-letter state or region code, followed by seven digits.  \n",
       "2                                                                                                                                                                                                       An identifier used for reconciliation with the state data system or LAB assigned identifiers.  \n",
       "3                                                                                                                                                                                                Indicates if the sample result was below the minimum detection limit or equal to the value reported.  \n",
       "4                                                                                                                                                                                                                             Date that the sample was first reported. The date format is MM/DD/YYYY.  \n",
       "5                                                                                                                                                                                                                                                             Identifier used to identify the sample.  \n",
       "6                                                                                                                                                                                                                                The most recent date of reporting. The date of format is MM/DD/YYYY.  \n",
       "7                                                                                                                                                                                                                       The measured value of the contaminant as reported from the sampling analysis.  \n",
       "8                                                                                                                                                                    Date of the last day of the monitoring period in which 90th percentile data for lead or copper was acquired (MM/DD/YYYY format).  \n",
       "9                                                                                                                                                                   Date of the first day of the monitoring period in which 90th percentile data for lead or copper was acquired (MM/DD/YYYY format).  \n",
       "10                                                                                                                                                                                                                       The date of the first reported sample analytical result (MM/DD/YYYY format).  \n",
       "11   A system-generated number managed by the reporting jurisdiction that uniquely identifies each Sample Result record. As there are situations where there can be two sample results for a sample, the SAR_ID is used instead of the Contaminant code (as in ODS) in the primary key of this table.  \n",
       "12                                                                                                                                                                                                                             The most recent reported sample analytical result (MM/DD/YYYY format).  \n",
       "13                                                                                                                                                                                                                                             The fiscal year and quarter when the event took place.  \n",
       "14                                                                                                                                                                                                                                                                 Units for value in SAMPLE_MEASURE.  "
      ]
     },
     "execution_count": 21,
     "metadata": {},
     "output_type": "execute_result"
    }
   ],
   "source": [
    "data_dictionary = {\n",
    "    p.find_all('strong')[0].getText().replace(u'\\xa0', u'') : p.getText().replace(u'\\xa0', u' ')\n",
    "    for p in html_soup.find_all(\"div\", {\"class\": 'field-item even'})[0].find_all('p') \n",
    "    if p.find_all('strong') and len(p.find_all('strong')) == 1 and p.find_all('strong')[0].getText().replace(u'\\xa0', u'') in list(lcr_samples_df.columns)\n",
    "}\n",
    "pd.set_option('display.max_colwidth', None)\n",
    "col_desc = pd.DataFrame([data_dictionary[col] for col in data_dictionary], columns=['raw_desc'])\n",
    "\n",
    "col_desc[['COLUMN', 'DESCRIPTION']] = col_desc['raw_desc'].str.split('-', 1, expand=True)\n",
    "col_desc = col_desc[['COLUMN', 'DESCRIPTION']]\n",
    "col_desc"
   ]
  },
  {
   "cell_type": "markdown",
   "id": "8f06c319",
   "metadata": {},
   "source": [
    "### Generating create SQL statement to create 'lcr_samples' table to store lcr samples details"
   ]
  },
  {
   "cell_type": "code",
   "execution_count": 23,
   "id": "280aa664",
   "metadata": {
    "ExecuteTime": {
     "end_time": "2022-04-11T07:51:33.713882Z",
     "start_time": "2022-04-11T07:51:33.697910Z"
    }
   },
   "outputs": [
    {
     "name": "stdout",
     "output_type": "stream",
     "text": [
      "CREATE TABLE LCR_SAMPLES (\n",
      "\tSUBMISSIONYEARQUARTER          VARCHAR(6),\n",
      "\tPWSID                          VARCHAR(9),\n",
      "\tSAMPLE_ID                      VARCHAR(255),\n",
      "\tSAMPLING_END_DATE              DATE,\n",
      "\tSAMPLING_START_DATE            DATE,\n",
      "\tRECONCILIATION_ID              VARCHAR(40),\n",
      "\tSAMPLE_FIRST_REPORTED_DATE     DATE,\n",
      "\tSAMPLE_LAST_REPORTED_DATE      DATE,\n",
      "\tSAR_ID                         INT,\n",
      "\tCONTAMINANT_CODE               VARCHAR(4),\n",
      "\tRESULT_SIGN_CODE               VARCHAR(2),\n",
      "\tSAMPLE_MEASURE                 INT,\n",
      "\tUNIT_OF_MEASURE                VARCHAR(4),\n",
      "\tSAR_FIRST_REPORTED_DATE        DATE,\n",
      "\tSAR_LAST_REPORTED_DATE         DATE\n",
      ") ENGINE = InnoDB;\n"
     ]
    }
   ],
   "source": [
    "temp_dict = {}\n",
    "\n",
    "def space(n):\n",
    "    return ' ' * (max([len(col) for col in lcr_samples_df.columns]) + 5 - n)\n",
    "\n",
    "for ind in column_datatype.index:\n",
    "    col_name = column_datatype['Element'][ind]\n",
    "    data_type = column_datatype['Data Type'][ind]\n",
    "    length = column_datatype['Length'][ind]\n",
    "    data_type = 'VARCHAR' if data_type == 'Char' else 'DATE' if data_type == 'Date' else 'INT'\n",
    "    data_type = data_type + '('+ length +')' if length != '' and data_type == 'VARCHAR' else data_type + '(255)' if data_type == 'VARCHAR' else data_type\n",
    "    temp_dict[col_name] = data_type\n",
    "print('CREATE TABLE LCR_SAMPLES (')\n",
    "for col in lcr_samples_df.columns:\n",
    "    print(f'\\t{col}{space(len(col))}{temp_dict[col]}', end='')\n",
    "    if col != lcr_samples_df.columns[-1]:\n",
    "        print(',')\n",
    "    else:\n",
    "        print()\n",
    "print(') ENGINE = InnoDB;')"
   ]
  },
  {
   "cell_type": "code",
   "execution_count": 26,
   "id": "d9715042",
   "metadata": {
    "ExecuteTime": {
     "end_time": "2022-04-11T07:53:03.892045Z",
     "start_time": "2022-04-11T07:52:12.251475Z"
    }
   },
   "outputs": [],
   "source": [
    "lcr_samples_df.sort_values(['PWSID', 'SAMPLE_ID'], ascending=[True, True]).to_csv('../data/processed_data/LCR_SAMPLES.csv', index=False) # violations.groupby(['PWSID', 'VIOLATION_ID']).size()"
   ]
  },
  {
   "cell_type": "code",
   "execution_count": 27,
   "id": "35aae12e",
   "metadata": {
    "ExecuteTime": {
     "end_time": "2022-04-11T07:53:03.923056Z",
     "start_time": "2022-04-11T07:53:03.897060Z"
    }
   },
   "outputs": [
    {
     "name": "stdout",
     "output_type": "stream",
     "text": [
      "\n",
      "LOAD DATA INFILE 'C:/ProgramData/MySQL/MySQL Server 8.0/Uploads/LCR_SAMPLES.csv'\n",
      "INTO TABLE LCR_SAMPLES \n",
      "FIELDS TERMINATED BY ','\n",
      "ESCAPED BY ''\n",
      "OPTIONALLY ENCLOSED BY '\"'\n",
      "LINES TERMINATED BY '\\n'\n",
      "IGNORE 1 ROWS\n",
      "(@SUBMISSIONYEARQUARTER,@PWSID,@SAMPLE_ID,@SAMPLING_END_DATE,@SAMPLING_START_DATE,@RECONCILIATION_ID,@SAMPLE_FIRST_REPORTED_DATE,@SAMPLE_LAST_REPORTED_DATE,@SAR_ID,@CONTAMINANT_CODE,@RESULT_SIGN_CODE,@SAMPLE_MEASURE,@UNIT_OF_MEASURE,@SAR_FIRST_REPORTED_DATE,@SAR_LAST_REPORTED_DATE)\n",
      "SET\n",
      "SUBMISSIONYEARQUARTER = IF(@SUBMISSIONYEARQUARTER = '', NULL, @SUBMISSIONYEARQUARTER),\n",
      "PWSID = IF(@PWSID = '', NULL, @PWSID),\n",
      "SAMPLE_ID = IF(@SAMPLE_ID = '', NULL, @SAMPLE_ID),\n",
      "SAMPLING_END_DATE = IF(@SAMPLING_END_DATE = '', NULL, STR_TO_DATE(@SAMPLING_END_DATE, '%Y-%m-%d')),\n",
      "SAMPLING_START_DATE = IF(@SAMPLING_START_DATE = '', NULL, STR_TO_DATE(@SAMPLING_START_DATE, '%Y-%m-%d')),\n",
      "RECONCILIATION_ID = IF(@RECONCILIATION_ID = '', NULL, @RECONCILIATION_ID),\n",
      "SAMPLE_FIRST_REPORTED_DATE = IF(@SAMPLE_FIRST_REPORTED_DATE = '', NULL, STR_TO_DATE(@SAMPLE_FIRST_REPORTED_DATE, '%Y-%m-%d')),\n",
      "SAMPLE_LAST_REPORTED_DATE = IF(@SAMPLE_LAST_REPORTED_DATE = '', NULL, STR_TO_DATE(@SAMPLE_LAST_REPORTED_DATE, '%Y-%m-%d')),\n",
      "SAR_ID = IF(@SAR_ID = '', NULL, @SAR_ID),\n",
      "CONTAMINANT_CODE = IF(@CONTAMINANT_CODE = '', NULL, @CONTAMINANT_CODE),\n",
      "RESULT_SIGN_CODE = IF(@RESULT_SIGN_CODE = '', NULL, @RESULT_SIGN_CODE),\n",
      "SAMPLE_MEASURE = IF(@SAMPLE_MEASURE = '', NULL, @SAMPLE_MEASURE),\n",
      "UNIT_OF_MEASURE = IF(@UNIT_OF_MEASURE = '', NULL, @UNIT_OF_MEASURE),\n",
      "SAR_FIRST_REPORTED_DATE = IF(@SAR_FIRST_REPORTED_DATE = '', NULL, STR_TO_DATE(@SAR_FIRST_REPORTED_DATE, '%Y-%m-%d')),\n",
      "SAR_LAST_REPORTED_DATE = IF(@SAR_LAST_REPORTED_DATE = '', NULL, STR_TO_DATE(@SAR_LAST_REPORTED_DATE, '%Y-%m-%d')),\n"
     ]
    }
   ],
   "source": [
    "columns = lcr_samples_df.columns.to_list()\n",
    "\n",
    "date_columns = ['SAMPLING_START_DATE', 'SAMPLING_END_DATE', 'SAMPLE_FIRST_REPORTED_DATE', 'SAMPLE_LAST_REPORTED_DATE', 'SAR_FIRST_REPORTED_DATE', 'SAR_LAST_REPORTED_DATE']\n",
    "\n",
    "print('''\n",
    "LOAD DATA INFILE 'C:/ProgramData/MySQL/MySQL Server 8.0/Uploads/LCR_SAMPLES.csv'\n",
    "INTO TABLE LCR_SAMPLES \n",
    "FIELDS TERMINATED BY ','\n",
    "ESCAPED BY ''\n",
    "OPTIONALLY ENCLOSED BY '\"'\n",
    "LINES TERMINATED BY '\\\\n'\n",
    "IGNORE 1 ROWS\n",
    "''', end='')\n",
    "print('(', end='')\n",
    "for col in columns:\n",
    "    print(f'@{col}', end='')\n",
    "    if col != columns[-1]:\n",
    "        print(',', end='')\n",
    "print(')')\n",
    "print('SET')\n",
    "for col in columns:\n",
    "    if col in date_columns:\n",
    "        print(f'{col} = IF(@{col} = \\'\\', NULL, STR_TO_DATE(@{col}, \\'%Y-%m-%d\\')),')\n",
    "    else:\n",
    "        print(f'{col} = IF(@{col} = \\'\\', NULL, @{col}),')"
   ]
  }
 ],
 "metadata": {
  "kernelspec": {
   "display_name": "Python 3",
   "language": "python",
   "name": "python3"
  },
  "language_info": {
   "codemirror_mode": {
    "name": "ipython",
    "version": 3
   },
   "file_extension": ".py",
   "mimetype": "text/x-python",
   "name": "python",
   "nbconvert_exporter": "python",
   "pygments_lexer": "ipython3",
   "version": "3.8.8"
  }
 },
 "nbformat": 4,
 "nbformat_minor": 5
}
