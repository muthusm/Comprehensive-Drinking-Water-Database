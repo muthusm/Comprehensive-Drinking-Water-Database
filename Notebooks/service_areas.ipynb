{
 "cells": [
  {
   "cell_type": "code",
   "execution_count": 1,
   "id": "f3e0e50a",
   "metadata": {
    "ExecuteTime": {
     "end_time": "2022-04-11T08:43:35.674255Z",
     "start_time": "2022-04-11T08:43:34.446449Z"
    }
   },
   "outputs": [],
   "source": [
    "import pandas as pd\n",
    "import requests\n",
    "from bs4 import BeautifulSoup"
   ]
  },
  {
   "cell_type": "code",
   "execution_count": 2,
   "id": "dcd6268c",
   "metadata": {
    "ExecuteTime": {
     "end_time": "2022-04-11T08:43:50.540613Z",
     "start_time": "2022-04-11T08:43:49.575599Z"
    }
   },
   "outputs": [],
   "source": [
    "service_areas_df = pd.read_csv('../data/ECHO_data_csv/SDWA_SERVICE_AREAS.csv', dtype=str)"
   ]
  },
  {
   "cell_type": "code",
   "execution_count": 3,
   "id": "d7b2e493",
   "metadata": {
    "ExecuteTime": {
     "end_time": "2022-04-11T08:43:59.287043Z",
     "start_time": "2022-04-11T08:43:59.246043Z"
    }
   },
   "outputs": [
    {
     "data": {
      "text/html": [
       "<div>\n",
       "<style scoped>\n",
       "    .dataframe tbody tr th:only-of-type {\n",
       "        vertical-align: middle;\n",
       "    }\n",
       "\n",
       "    .dataframe tbody tr th {\n",
       "        vertical-align: top;\n",
       "    }\n",
       "\n",
       "    .dataframe thead th {\n",
       "        text-align: right;\n",
       "    }\n",
       "</style>\n",
       "<table border=\"1\" class=\"dataframe\">\n",
       "  <thead>\n",
       "    <tr style=\"text-align: right;\">\n",
       "      <th></th>\n",
       "      <th>SUBMISSIONYEARQUARTER</th>\n",
       "      <th>PWSID</th>\n",
       "      <th>SERVICE_AREA_TYPE_CODE</th>\n",
       "      <th>IS_PRIMARY_SERVICE_AREA_CODE</th>\n",
       "      <th>FIRST_REPORTED_DATE</th>\n",
       "      <th>LAST_REPORTED_DATE</th>\n",
       "    </tr>\n",
       "  </thead>\n",
       "  <tbody>\n",
       "    <tr>\n",
       "      <th>0</th>\n",
       "      <td>2021Q2</td>\n",
       "      <td>MI2038708</td>\n",
       "      <td>RS</td>\n",
       "      <td>Y</td>\n",
       "      <td>NaN</td>\n",
       "      <td>08/20/2005</td>\n",
       "    </tr>\n",
       "    <tr>\n",
       "      <th>1</th>\n",
       "      <td>2021Q2</td>\n",
       "      <td>MI2034214</td>\n",
       "      <td>OA</td>\n",
       "      <td>Y</td>\n",
       "      <td>NaN</td>\n",
       "      <td>06/17/2021</td>\n",
       "    </tr>\n",
       "    <tr>\n",
       "      <th>2</th>\n",
       "      <td>2021Q2</td>\n",
       "      <td>IL3145870</td>\n",
       "      <td>WH</td>\n",
       "      <td>Y</td>\n",
       "      <td>NaN</td>\n",
       "      <td>03/11/2010</td>\n",
       "    </tr>\n",
       "    <tr>\n",
       "      <th>3</th>\n",
       "      <td>2021Q2</td>\n",
       "      <td>IL3145888</td>\n",
       "      <td>WH</td>\n",
       "      <td>Y</td>\n",
       "      <td>NaN</td>\n",
       "      <td>11/20/2013</td>\n",
       "    </tr>\n",
       "    <tr>\n",
       "      <th>4</th>\n",
       "      <td>2021Q2</td>\n",
       "      <td>IL3145896</td>\n",
       "      <td>WH</td>\n",
       "      <td>Y</td>\n",
       "      <td>NaN</td>\n",
       "      <td>02/23/2012</td>\n",
       "    </tr>\n",
       "  </tbody>\n",
       "</table>\n",
       "</div>"
      ],
      "text/plain": [
       "  SUBMISSIONYEARQUARTER      PWSID SERVICE_AREA_TYPE_CODE  \\\n",
       "0                2021Q2  MI2038708                     RS   \n",
       "1                2021Q2  MI2034214                     OA   \n",
       "2                2021Q2  IL3145870                     WH   \n",
       "3                2021Q2  IL3145888                     WH   \n",
       "4                2021Q2  IL3145896                     WH   \n",
       "\n",
       "  IS_PRIMARY_SERVICE_AREA_CODE FIRST_REPORTED_DATE LAST_REPORTED_DATE  \n",
       "0                            Y                 NaN         08/20/2005  \n",
       "1                            Y                 NaN         06/17/2021  \n",
       "2                            Y                 NaN         03/11/2010  \n",
       "3                            Y                 NaN         11/20/2013  \n",
       "4                            Y                 NaN         02/23/2012  "
      ]
     },
     "execution_count": 3,
     "metadata": {},
     "output_type": "execute_result"
    }
   ],
   "source": [
    "service_areas_df.head()"
   ]
  },
  {
   "cell_type": "code",
   "execution_count": 4,
   "id": "d9857c52",
   "metadata": {
    "ExecuteTime": {
     "end_time": "2022-04-11T08:44:07.193867Z",
     "start_time": "2022-04-11T08:44:07.182866Z"
    }
   },
   "outputs": [
    {
     "name": "stdout",
     "output_type": "stream",
     "text": [
      "Total number of records in service areas table is 413562\n"
     ]
    }
   ],
   "source": [
    "print(f'Total number of records in service areas table is {service_areas_df.shape[0]}')"
   ]
  },
  {
   "cell_type": "code",
   "execution_count": 7,
   "id": "28356905",
   "metadata": {
    "ExecuteTime": {
     "end_time": "2022-04-11T08:46:27.805643Z",
     "start_time": "2022-04-11T08:46:27.597671Z"
    }
   },
   "outputs": [
    {
     "data": {
      "text/plain": [
       "370728"
      ]
     },
     "execution_count": 7,
     "metadata": {},
     "output_type": "execute_result"
    }
   ],
   "source": [
    "service_areas_df.PWSID.nunique()"
   ]
  },
  {
   "cell_type": "code",
   "execution_count": 8,
   "id": "8867a035",
   "metadata": {
    "ExecuteTime": {
     "end_time": "2022-04-11T08:47:08.949947Z",
     "start_time": "2022-04-11T08:47:08.086972Z"
    }
   },
   "outputs": [
    {
     "data": {
      "text/plain": [
       "413562"
      ]
     },
     "execution_count": 8,
     "metadata": {},
     "output_type": "execute_result"
    }
   ],
   "source": [
    "sum([size == 1 for size in service_areas_df.groupby(['PWSID', 'SERVICE_AREA_TYPE_CODE']).size().tolist()])"
   ]
  },
  {
   "cell_type": "markdown",
   "id": "ce623cde",
   "metadata": {},
   "source": [
    "The column set {PWSID, SERVICE_AREA_TYPE_CODE} uniquely identifies each record"
   ]
  },
  {
   "cell_type": "code",
   "execution_count": 10,
   "id": "78432f0d",
   "metadata": {
    "ExecuteTime": {
     "end_time": "2022-04-11T08:47:37.766702Z",
     "start_time": "2022-04-11T08:47:37.566705Z"
    }
   },
   "outputs": [
    {
     "data": {
      "text/plain": [
       "SUBMISSIONYEARQUARTER                0\n",
       "PWSID                                0\n",
       "SERVICE_AREA_TYPE_CODE               0\n",
       "IS_PRIMARY_SERVICE_AREA_CODE     98360\n",
       "FIRST_REPORTED_DATE             334707\n",
       "LAST_REPORTED_DATE                1106\n",
       "dtype: int64"
      ]
     },
     "execution_count": 10,
     "metadata": {},
     "output_type": "execute_result"
    }
   ],
   "source": [
    "service_areas_df.isnull().sum()"
   ]
  },
  {
   "cell_type": "code",
   "execution_count": 12,
   "id": "2a4b7255",
   "metadata": {
    "ExecuteTime": {
     "end_time": "2022-04-11T08:48:10.507601Z",
     "start_time": "2022-04-11T08:48:10.438568Z"
    }
   },
   "outputs": [
    {
     "data": {
      "text/html": [
       "<div>\n",
       "<style scoped>\n",
       "    .dataframe tbody tr th:only-of-type {\n",
       "        vertical-align: middle;\n",
       "    }\n",
       "\n",
       "    .dataframe tbody tr th {\n",
       "        vertical-align: top;\n",
       "    }\n",
       "\n",
       "    .dataframe thead th {\n",
       "        text-align: right;\n",
       "    }\n",
       "</style>\n",
       "<table border=\"1\" class=\"dataframe\">\n",
       "  <thead>\n",
       "    <tr style=\"text-align: right;\">\n",
       "      <th></th>\n",
       "      <th>FIRST_REPORTED_DATE</th>\n",
       "      <th>LAST_REPORTED_DATE</th>\n",
       "    </tr>\n",
       "  </thead>\n",
       "  <tbody>\n",
       "    <tr>\n",
       "      <th>14</th>\n",
       "      <td>07/30/2013</td>\n",
       "      <td>06/01/2021</td>\n",
       "    </tr>\n",
       "    <tr>\n",
       "      <th>31</th>\n",
       "      <td>07/30/2013</td>\n",
       "      <td>03/08/2017</td>\n",
       "    </tr>\n",
       "    <tr>\n",
       "      <th>32</th>\n",
       "      <td>11/17/2008</td>\n",
       "      <td>06/01/2021</td>\n",
       "    </tr>\n",
       "    <tr>\n",
       "      <th>38</th>\n",
       "      <td>11/17/2008</td>\n",
       "      <td>06/01/2021</td>\n",
       "    </tr>\n",
       "    <tr>\n",
       "      <th>40</th>\n",
       "      <td>11/17/2008</td>\n",
       "      <td>06/01/2021</td>\n",
       "    </tr>\n",
       "  </tbody>\n",
       "</table>\n",
       "</div>"
      ],
      "text/plain": [
       "   FIRST_REPORTED_DATE LAST_REPORTED_DATE\n",
       "14          07/30/2013         06/01/2021\n",
       "31          07/30/2013         03/08/2017\n",
       "32          11/17/2008         06/01/2021\n",
       "38          11/17/2008         06/01/2021\n",
       "40          11/17/2008         06/01/2021"
      ]
     },
     "execution_count": 12,
     "metadata": {},
     "output_type": "execute_result"
    }
   ],
   "source": [
    "## Seeing date formats\n",
    "date_columns = ['FIRST_REPORTED_DATE', 'LAST_REPORTED_DATE']\n",
    "service_areas_df[~service_areas_df.FIRST_REPORTED_DATE.isnull()][date_columns].head()"
   ]
  },
  {
   "cell_type": "code",
   "execution_count": 13,
   "id": "4d19ad9b",
   "metadata": {
    "ExecuteTime": {
     "end_time": "2022-04-11T08:48:18.698739Z",
     "start_time": "2022-04-11T08:48:18.446753Z"
    }
   },
   "outputs": [],
   "source": [
    "for datecol in date_columns:\n",
    "    service_areas_df[datecol] = pd.to_datetime(service_areas_df[datecol], format='%m/%d/%Y')"
   ]
  },
  {
   "cell_type": "code",
   "execution_count": 14,
   "id": "ceeb74bd",
   "metadata": {
    "ExecuteTime": {
     "end_time": "2022-04-11T08:48:27.463596Z",
     "start_time": "2022-04-11T08:48:27.414506Z"
    }
   },
   "outputs": [
    {
     "data": {
      "text/html": [
       "<div>\n",
       "<style scoped>\n",
       "    .dataframe tbody tr th:only-of-type {\n",
       "        vertical-align: middle;\n",
       "    }\n",
       "\n",
       "    .dataframe tbody tr th {\n",
       "        vertical-align: top;\n",
       "    }\n",
       "\n",
       "    .dataframe thead th {\n",
       "        text-align: right;\n",
       "    }\n",
       "</style>\n",
       "<table border=\"1\" class=\"dataframe\">\n",
       "  <thead>\n",
       "    <tr style=\"text-align: right;\">\n",
       "      <th></th>\n",
       "      <th>FIRST_REPORTED_DATE</th>\n",
       "      <th>LAST_REPORTED_DATE</th>\n",
       "    </tr>\n",
       "  </thead>\n",
       "  <tbody>\n",
       "    <tr>\n",
       "      <th>14</th>\n",
       "      <td>2013-07-30</td>\n",
       "      <td>2021-06-01</td>\n",
       "    </tr>\n",
       "    <tr>\n",
       "      <th>31</th>\n",
       "      <td>2013-07-30</td>\n",
       "      <td>2017-03-08</td>\n",
       "    </tr>\n",
       "    <tr>\n",
       "      <th>32</th>\n",
       "      <td>2008-11-17</td>\n",
       "      <td>2021-06-01</td>\n",
       "    </tr>\n",
       "    <tr>\n",
       "      <th>38</th>\n",
       "      <td>2008-11-17</td>\n",
       "      <td>2021-06-01</td>\n",
       "    </tr>\n",
       "    <tr>\n",
       "      <th>40</th>\n",
       "      <td>2008-11-17</td>\n",
       "      <td>2021-06-01</td>\n",
       "    </tr>\n",
       "  </tbody>\n",
       "</table>\n",
       "</div>"
      ],
      "text/plain": [
       "   FIRST_REPORTED_DATE LAST_REPORTED_DATE\n",
       "14          2013-07-30         2021-06-01\n",
       "31          2013-07-30         2017-03-08\n",
       "32          2008-11-17         2021-06-01\n",
       "38          2008-11-17         2021-06-01\n",
       "40          2008-11-17         2021-06-01"
      ]
     },
     "execution_count": 14,
     "metadata": {},
     "output_type": "execute_result"
    }
   ],
   "source": [
    "service_areas_df[~service_areas_df.FIRST_REPORTED_DATE.isnull()][date_columns].head()"
   ]
  },
  {
   "cell_type": "code",
   "execution_count": 15,
   "id": "d2ce93e8",
   "metadata": {
    "ExecuteTime": {
     "end_time": "2022-04-11T08:48:36.874726Z",
     "start_time": "2022-04-11T08:48:36.838731Z"
    }
   },
   "outputs": [
    {
     "name": "stdout",
     "output_type": "stream",
     "text": [
      "Range of FIRST_REPORTED_DATE is between 2005-10-27 00:00:00 and 2021-07-01 00:00:00\n",
      "Range of LAST_REPORTED_DATE is between 1995-07-22 00:00:00 and 2021-07-01 00:00:00\n"
     ]
    }
   ],
   "source": [
    "for datacol in date_columns:\n",
    "    print('Range of {} is between {} and {}'.format(datacol, service_areas_df[datacol].min(), service_areas_df[datacol].max()))"
   ]
  },
  {
   "cell_type": "code",
   "execution_count": 16,
   "id": "b35fc2a1",
   "metadata": {
    "ExecuteTime": {
     "end_time": "2022-04-11T08:48:40.568114Z",
     "start_time": "2022-04-11T08:48:40.558135Z"
    }
   },
   "outputs": [
    {
     "data": {
      "text/plain": [
       "6"
      ]
     },
     "execution_count": 16,
     "metadata": {},
     "output_type": "execute_result"
    }
   ],
   "source": [
    "len(service_areas_df.columns)"
   ]
  },
  {
   "cell_type": "markdown",
   "id": "fa32a057",
   "metadata": {},
   "source": [
    "### Web Scraping Column description and data type"
   ]
  },
  {
   "cell_type": "code",
   "execution_count": 17,
   "id": "d813261a",
   "metadata": {
    "ExecuteTime": {
     "end_time": "2022-04-11T08:48:44.879487Z",
     "start_time": "2022-04-11T08:48:42.950079Z"
    }
   },
   "outputs": [],
   "source": [
    "def get_html():\n",
    "    URL = \"https://echo.epa.gov/tools/data-downloads/sdwa-download-summary\"\n",
    "    r = requests.get(URL)  \n",
    "    html_soup = BeautifulSoup(r.content, 'html.parser') \n",
    "    return html_soup\n",
    "html_soup = get_html()"
   ]
  },
  {
   "cell_type": "code",
   "execution_count": 18,
   "id": "080ee37d",
   "metadata": {
    "ExecuteTime": {
     "end_time": "2022-04-11T08:49:02.664183Z",
     "start_time": "2022-04-11T08:49:02.574169Z"
    }
   },
   "outputs": [
    {
     "data": {
      "text/html": [
       "<div>\n",
       "<style scoped>\n",
       "    .dataframe tbody tr th:only-of-type {\n",
       "        vertical-align: middle;\n",
       "    }\n",
       "\n",
       "    .dataframe tbody tr th {\n",
       "        vertical-align: top;\n",
       "    }\n",
       "\n",
       "    .dataframe thead th {\n",
       "        text-align: right;\n",
       "    }\n",
       "</style>\n",
       "<table border=\"1\" class=\"dataframe\">\n",
       "  <thead>\n",
       "    <tr style=\"text-align: right;\">\n",
       "      <th></th>\n",
       "      <th>Element</th>\n",
       "      <th>Data Type</th>\n",
       "      <th>Length</th>\n",
       "    </tr>\n",
       "  </thead>\n",
       "  <tbody>\n",
       "    <tr>\n",
       "      <th>0</th>\n",
       "      <td>PWSID</td>\n",
       "      <td>Char</td>\n",
       "      <td>9</td>\n",
       "    </tr>\n",
       "    <tr>\n",
       "      <th>1</th>\n",
       "      <td>SUBMISSIONYEARQUARTER</td>\n",
       "      <td>Char</td>\n",
       "      <td>6</td>\n",
       "    </tr>\n",
       "    <tr>\n",
       "      <th>2</th>\n",
       "      <td>SERVICE_AREA_TYPE_CODE</td>\n",
       "      <td>Char</td>\n",
       "      <td>4</td>\n",
       "    </tr>\n",
       "    <tr>\n",
       "      <th>3</th>\n",
       "      <td>IS_PRIMARY_SERVICE_AREA_CODE</td>\n",
       "      <td>Char</td>\n",
       "      <td>1</td>\n",
       "    </tr>\n",
       "    <tr>\n",
       "      <th>4</th>\n",
       "      <td>FIRST_REPORTED_DATE</td>\n",
       "      <td>Date</td>\n",
       "      <td></td>\n",
       "    </tr>\n",
       "    <tr>\n",
       "      <th>5</th>\n",
       "      <td>LAST_REPORTED_DATE</td>\n",
       "      <td>Date</td>\n",
       "      <td></td>\n",
       "    </tr>\n",
       "  </tbody>\n",
       "</table>\n",
       "</div>"
      ],
      "text/plain": [
       "                        Element Data Type Length\n",
       "0                         PWSID      Char      9\n",
       "1         SUBMISSIONYEARQUARTER      Char      6\n",
       "2        SERVICE_AREA_TYPE_CODE      Char      4\n",
       "3  IS_PRIMARY_SERVICE_AREA_CODE      Char      1\n",
       "4           FIRST_REPORTED_DATE      Date       \n",
       "5            LAST_REPORTED_DATE      Date       "
      ]
     },
     "execution_count": 18,
     "metadata": {},
     "output_type": "execute_result"
    }
   ],
   "source": [
    "cols = []\n",
    "filename = 'SDWA_SERVICE_AREAS.csv'\n",
    "idx = [i for i, item in enumerate(list(html_soup.find_all(\"div\", {\"class\": 'field-item even'})[0].find_all('h3'))) if filename in item.getText()][0]\n",
    "for th in html_soup.find_all(\"div\", {\"class\": 'field-item even'})[0].find_all('h3')[idx].find_next_sibling('table').find(\"thead\").find_all(\"th\"):\n",
    "    cols.append(th.get_text().replace(u'\\xa0', u''))\n",
    "rows = []\n",
    "for row in html_soup.find_all(\"div\", {\"class\": 'field-item even'})[0].find_all('h3')[idx].find_next_sibling('table').find(\"tbody\").find_all(\"tr\"):\n",
    "    r = []\n",
    "    for td in row.find_all('td'):\n",
    "        r.append(td.get_text().replace(u'\\xa0', u''))\n",
    "    rows.append(r)\n",
    "column_datatype = pd.DataFrame(rows, columns=cols)\n",
    "column_datatype = column_datatype[column_datatype.Element.isin(service_areas_df.columns)]\n",
    "column_datatype"
   ]
  },
  {
   "cell_type": "code",
   "execution_count": 19,
   "id": "dacfc298",
   "metadata": {
    "ExecuteTime": {
     "end_time": "2022-04-11T08:49:09.761532Z",
     "start_time": "2022-04-11T08:49:09.641534Z"
    }
   },
   "outputs": [
    {
     "data": {
      "text/html": [
       "<div>\n",
       "<style scoped>\n",
       "    .dataframe tbody tr th:only-of-type {\n",
       "        vertical-align: middle;\n",
       "    }\n",
       "\n",
       "    .dataframe tbody tr th {\n",
       "        vertical-align: top;\n",
       "    }\n",
       "\n",
       "    .dataframe thead th {\n",
       "        text-align: right;\n",
       "    }\n",
       "</style>\n",
       "<table border=\"1\" class=\"dataframe\">\n",
       "  <thead>\n",
       "    <tr style=\"text-align: right;\">\n",
       "      <th></th>\n",
       "      <th>COLUMN</th>\n",
       "      <th>DESCRIPTION</th>\n",
       "    </tr>\n",
       "  </thead>\n",
       "  <tbody>\n",
       "    <tr>\n",
       "      <th>0</th>\n",
       "      <td>FIRST_REPORTED_DATE</td>\n",
       "      <td>The first reported date for the milestone event. The date format is MM/DD/YYYY.</td>\n",
       "    </tr>\n",
       "    <tr>\n",
       "      <th>1</th>\n",
       "      <td>IS_PRIMARY_SERVICE_AREA_CODE</td>\n",
       "      <td>Indicates whether the area is the primary service area served by the water system.</td>\n",
       "    </tr>\n",
       "    <tr>\n",
       "      <th>2</th>\n",
       "      <td>LAST_REPORTED_DATE</td>\n",
       "      <td>The last reported date for the milestone event. The date format is MM/DD/YYYY.</td>\n",
       "    </tr>\n",
       "    <tr>\n",
       "      <th>3</th>\n",
       "      <td>PWSID</td>\n",
       "      <td>A unique identifying code for a public water system in SDWIS. The PWSID consists of a two-letter state or region code, followed by seven digits.</td>\n",
       "    </tr>\n",
       "    <tr>\n",
       "      <th>4</th>\n",
       "      <td>SERVICE_AREA_TYPE_CODE</td>\n",
       "      <td>Service area type code. For a full list of visit codes and their descriptions see SDWA_REF_CODE_VALUES.csv under VALUE_TYPE=SERVICE_AREA_CODE.</td>\n",
       "    </tr>\n",
       "    <tr>\n",
       "      <th>5</th>\n",
       "      <td>SUBMISSIONYEARQUARTER</td>\n",
       "      <td>The fiscal year and quarter when the event took place.</td>\n",
       "    </tr>\n",
       "  </tbody>\n",
       "</table>\n",
       "</div>"
      ],
      "text/plain": [
       "                         COLUMN  \\\n",
       "0           FIRST_REPORTED_DATE   \n",
       "1  IS_PRIMARY_SERVICE_AREA_CODE   \n",
       "2            LAST_REPORTED_DATE   \n",
       "3                        PWSID    \n",
       "4        SERVICE_AREA_TYPE_CODE   \n",
       "5        SUBMISSIONYEARQUARTER    \n",
       "\n",
       "                                                                                                                                         DESCRIPTION  \n",
       "0                                                                    The first reported date for the milestone event. The date format is MM/DD/YYYY.  \n",
       "1                                                                 Indicates whether the area is the primary service area served by the water system.  \n",
       "2                                                                     The last reported date for the milestone event. The date format is MM/DD/YYYY.  \n",
       "3   A unique identifying code for a public water system in SDWIS. The PWSID consists of a two-letter state or region code, followed by seven digits.  \n",
       "4     Service area type code. For a full list of visit codes and their descriptions see SDWA_REF_CODE_VALUES.csv under VALUE_TYPE=SERVICE_AREA_CODE.  \n",
       "5                                                                                             The fiscal year and quarter when the event took place.  "
      ]
     },
     "execution_count": 19,
     "metadata": {},
     "output_type": "execute_result"
    }
   ],
   "source": [
    "data_dictionary = {\n",
    "    p.find_all('strong')[0].getText().replace(u'\\xa0', u'') : p.getText().replace(u'\\xa0', u' ')\n",
    "    for p in html_soup.find_all(\"div\", {\"class\": 'field-item even'})[0].find_all('p') \n",
    "    if p.find_all('strong') and len(p.find_all('strong')) == 1 and p.find_all('strong')[0].getText().replace(u'\\xa0', u'') in list(service_areas_df.columns)\n",
    "}\n",
    "pd.set_option('display.max_colwidth', None)\n",
    "col_desc = pd.DataFrame([data_dictionary[col] for col in data_dictionary], columns=['raw_desc'])\n",
    "\n",
    "col_desc[['COLUMN', 'DESCRIPTION']] = col_desc['raw_desc'].str.split('-', 1, expand=True)\n",
    "col_desc = col_desc[['COLUMN', 'DESCRIPTION']]\n",
    "col_desc"
   ]
  },
  {
   "cell_type": "markdown",
   "id": "8f06c319",
   "metadata": {},
   "source": [
    "### Generating create SQL statement to create 'service_areas' table to store service areas details"
   ]
  },
  {
   "cell_type": "code",
   "execution_count": 20,
   "id": "280aa664",
   "metadata": {
    "ExecuteTime": {
     "end_time": "2022-04-11T08:49:47.384862Z",
     "start_time": "2022-04-11T08:49:47.358856Z"
    }
   },
   "outputs": [
    {
     "name": "stdout",
     "output_type": "stream",
     "text": [
      "CREATE TABLE SERVICE_AREAS (\n",
      "\tSUBMISSIONYEARQUARTER            VARCHAR(6),\n",
      "\tPWSID                            VARCHAR(9),\n",
      "\tSERVICE_AREA_TYPE_CODE           VARCHAR(4),\n",
      "\tIS_PRIMARY_SERVICE_AREA_CODE     VARCHAR(1),\n",
      "\tFIRST_REPORTED_DATE              DATE,\n",
      "\tLAST_REPORTED_DATE               DATE\n",
      ") ENGINE = InnoDB;\n"
     ]
    }
   ],
   "source": [
    "temp_dict = {}\n",
    "\n",
    "def space(n):\n",
    "    return ' ' * (max([len(col) for col in service_areas_df.columns]) + 5 - n)\n",
    "\n",
    "for ind in column_datatype.index:\n",
    "    col_name = column_datatype['Element'][ind]\n",
    "    data_type = column_datatype['Data Type'][ind]\n",
    "    length = column_datatype['Length'][ind]\n",
    "    data_type = 'VARCHAR' if data_type == 'Char' else 'DATE' if data_type == 'Date' else 'INT'\n",
    "    data_type = data_type + '('+ length +')' if length != '' and data_type == 'VARCHAR' else data_type + '(255)' if data_type == 'VARCHAR' else data_type\n",
    "    temp_dict[col_name] = data_type\n",
    "print('CREATE TABLE SERVICE_AREAS (')\n",
    "for col in service_areas_df.columns:\n",
    "    print(f'\\t{col}{space(len(col))}{temp_dict[col]}', end='')\n",
    "    if col != service_areas_df.columns[-1]:\n",
    "        print(',')\n",
    "    else:\n",
    "        print()\n",
    "print(') ENGINE = InnoDB;')"
   ]
  },
  {
   "cell_type": "code",
   "execution_count": 22,
   "id": "d9715042",
   "metadata": {
    "ExecuteTime": {
     "end_time": "2022-04-11T08:52:06.902034Z",
     "start_time": "2022-04-11T08:51:57.846051Z"
    }
   },
   "outputs": [],
   "source": [
    "service_areas_df.sort_values(['PWSID', 'SERVICE_AREA_TYPE_CODE'], ascending=[True, True]).to_csv('../data/processed_data/SERVICE_AREAS.csv', index=False) # violations.groupby(['PWSID', 'VIOLATION_ID']).size()"
   ]
  },
  {
   "cell_type": "code",
   "execution_count": 23,
   "id": "35aae12e",
   "metadata": {
    "ExecuteTime": {
     "end_time": "2022-04-11T08:52:18.842279Z",
     "start_time": "2022-04-11T08:52:18.823304Z"
    }
   },
   "outputs": [
    {
     "name": "stdout",
     "output_type": "stream",
     "text": [
      "\n",
      "LOAD DATA INFILE 'C:/ProgramData/MySQL/MySQL Server 8.0/Uploads/SERVICE_AREAS.csv'\n",
      "INTO TABLE SERVICE_AREAS \n",
      "FIELDS TERMINATED BY ','\n",
      "ESCAPED BY ''\n",
      "OPTIONALLY ENCLOSED BY '\"'\n",
      "LINES TERMINATED BY '\\n'\n",
      "IGNORE 1 ROWS\n",
      "(@SUBMISSIONYEARQUARTER,@PWSID,@SERVICE_AREA_TYPE_CODE,@IS_PRIMARY_SERVICE_AREA_CODE,@FIRST_REPORTED_DATE,@LAST_REPORTED_DATE)\n",
      "SET\n",
      "SUBMISSIONYEARQUARTER = IF(@SUBMISSIONYEARQUARTER = '', NULL, @SUBMISSIONYEARQUARTER),\n",
      "PWSID = IF(@PWSID = '', NULL, @PWSID),\n",
      "SERVICE_AREA_TYPE_CODE = IF(@SERVICE_AREA_TYPE_CODE = '', NULL, @SERVICE_AREA_TYPE_CODE),\n",
      "IS_PRIMARY_SERVICE_AREA_CODE = IF(@IS_PRIMARY_SERVICE_AREA_CODE = '', NULL, @IS_PRIMARY_SERVICE_AREA_CODE),\n",
      "FIRST_REPORTED_DATE = IF(@FIRST_REPORTED_DATE = '', NULL, STR_TO_DATE(@FIRST_REPORTED_DATE, '%Y-%m-%d')),\n",
      "LAST_REPORTED_DATE = IF(@LAST_REPORTED_DATE = '', NULL, STR_TO_DATE(@LAST_REPORTED_DATE, '%Y-%m-%d')),\n"
     ]
    }
   ],
   "source": [
    "columns = service_areas_df.columns.to_list()\n",
    "\n",
    "date_columns = ['FIRST_REPORTED_DATE', 'LAST_REPORTED_DATE']\n",
    "\n",
    "print('''\n",
    "LOAD DATA INFILE 'C:/ProgramData/MySQL/MySQL Server 8.0/Uploads/SERVICE_AREAS.csv'\n",
    "INTO TABLE SERVICE_AREAS \n",
    "FIELDS TERMINATED BY ','\n",
    "ESCAPED BY ''\n",
    "OPTIONALLY ENCLOSED BY '\"'\n",
    "LINES TERMINATED BY '\\\\n'\n",
    "IGNORE 1 ROWS\n",
    "''', end='')\n",
    "print('(', end='')\n",
    "for col in columns:\n",
    "    print(f'@{col}', end='')\n",
    "    if col != columns[-1]:\n",
    "        print(',', end='')\n",
    "print(')')\n",
    "print('SET')\n",
    "for col in columns:\n",
    "    if col in date_columns:\n",
    "        print(f'{col} = IF(@{col} = \\'\\', NULL, STR_TO_DATE(@{col}, \\'%Y-%m-%d\\')),')\n",
    "    else:\n",
    "        print(f'{col} = IF(@{col} = \\'\\', NULL, @{col}),')"
   ]
  }
 ],
 "metadata": {
  "kernelspec": {
   "display_name": "Python 3",
   "language": "python",
   "name": "python3"
  },
  "language_info": {
   "codemirror_mode": {
    "name": "ipython",
    "version": 3
   },
   "file_extension": ".py",
   "mimetype": "text/x-python",
   "name": "python",
   "nbconvert_exporter": "python",
   "pygments_lexer": "ipython3",
   "version": "3.8.8"
  }
 },
 "nbformat": 4,
 "nbformat_minor": 5
}
