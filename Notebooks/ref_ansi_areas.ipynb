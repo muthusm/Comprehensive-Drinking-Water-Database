{
 "cells": [
  {
   "cell_type": "code",
   "execution_count": 1,
   "id": "f3e0e50a",
   "metadata": {
    "ExecuteTime": {
     "end_time": "2022-04-11T08:30:09.753792Z",
     "start_time": "2022-04-11T08:30:08.218483Z"
    }
   },
   "outputs": [],
   "source": [
    "import pandas as pd\n",
    "import requests\n",
    "from bs4 import BeautifulSoup"
   ]
  },
  {
   "cell_type": "markdown",
   "id": "89d7dcfe",
   "metadata": {},
   "source": [
    "https://www.ansi.org/about/introduction\n",
    "\n",
    "https://www.ansi.org/news/standards-news/all-news/2017/08/epa-approves-ansi-as-a-recognized-accreditation-body-under-the-formaldehyde-emission-standards-for-c-02\n",
    "\n",
    "https://www.epa.gov/data-standards/federal-national-and-international-data-standards\n",
    "\n",
    "https://sor.epa.gov/sor_internet/registry/substreg/searchandretrieve/searchbylist/search.do?search=&searchCriteria.substanceList=196&searchCriteria.substanceType=-1"
   ]
  },
  {
   "cell_type": "code",
   "execution_count": 2,
   "id": "dcd6268c",
   "metadata": {
    "ExecuteTime": {
     "end_time": "2022-04-11T08:30:11.127158Z",
     "start_time": "2022-04-11T08:30:10.827545Z"
    }
   },
   "outputs": [],
   "source": [
    "ansi_areas_df = pd.read_csv('../data/ECHO_data_csv/SDWA_REF_ANSI_AREAS.csv', dtype=str)"
   ]
  },
  {
   "cell_type": "code",
   "execution_count": 3,
   "id": "d7b2e493",
   "metadata": {
    "ExecuteTime": {
     "end_time": "2022-04-11T08:30:13.993936Z",
     "start_time": "2022-04-11T08:30:13.964933Z"
    }
   },
   "outputs": [
    {
     "data": {
      "text/html": [
       "<div>\n",
       "<style scoped>\n",
       "    .dataframe tbody tr th:only-of-type {\n",
       "        vertical-align: middle;\n",
       "    }\n",
       "\n",
       "    .dataframe tbody tr th {\n",
       "        vertical-align: top;\n",
       "    }\n",
       "\n",
       "    .dataframe thead th {\n",
       "        text-align: right;\n",
       "    }\n",
       "</style>\n",
       "<table border=\"1\" class=\"dataframe\">\n",
       "  <thead>\n",
       "    <tr style=\"text-align: right;\">\n",
       "      <th></th>\n",
       "      <th>ANSI_STATE_CODE</th>\n",
       "      <th>ANSI_ENTITY_CODE</th>\n",
       "      <th>ANSI_NAME</th>\n",
       "      <th>STATE_CODE</th>\n",
       "    </tr>\n",
       "  </thead>\n",
       "  <tbody>\n",
       "    <tr>\n",
       "      <th>0</th>\n",
       "      <td>06</td>\n",
       "      <td>095</td>\n",
       "      <td>Solano</td>\n",
       "      <td>CA</td>\n",
       "    </tr>\n",
       "    <tr>\n",
       "      <th>1</th>\n",
       "      <td>06</td>\n",
       "      <td>097</td>\n",
       "      <td>Sonoma</td>\n",
       "      <td>CA</td>\n",
       "    </tr>\n",
       "    <tr>\n",
       "      <th>2</th>\n",
       "      <td>06</td>\n",
       "      <td>099</td>\n",
       "      <td>Stanislaus</td>\n",
       "      <td>CA</td>\n",
       "    </tr>\n",
       "    <tr>\n",
       "      <th>3</th>\n",
       "      <td>06</td>\n",
       "      <td>101</td>\n",
       "      <td>Sutter</td>\n",
       "      <td>CA</td>\n",
       "    </tr>\n",
       "    <tr>\n",
       "      <th>4</th>\n",
       "      <td>06</td>\n",
       "      <td>103</td>\n",
       "      <td>Tehama</td>\n",
       "      <td>CA</td>\n",
       "    </tr>\n",
       "  </tbody>\n",
       "</table>\n",
       "</div>"
      ],
      "text/plain": [
       "  ANSI_STATE_CODE ANSI_ENTITY_CODE   ANSI_NAME STATE_CODE\n",
       "0              06              095      Solano         CA\n",
       "1              06              097      Sonoma         CA\n",
       "2              06              099  Stanislaus         CA\n",
       "3              06              101      Sutter         CA\n",
       "4              06              103      Tehama         CA"
      ]
     },
     "execution_count": 3,
     "metadata": {},
     "output_type": "execute_result"
    }
   ],
   "source": [
    "ansi_areas_df.head()"
   ]
  },
  {
   "cell_type": "code",
   "execution_count": 4,
   "id": "d9857c52",
   "metadata": {
    "ExecuteTime": {
     "end_time": "2022-04-11T08:30:24.507341Z",
     "start_time": "2022-04-11T08:30:24.487364Z"
    }
   },
   "outputs": [
    {
     "name": "stdout",
     "output_type": "stream",
     "text": [
      "Total number of records in ANSI AREAS table is 3235\n"
     ]
    }
   ],
   "source": [
    "print(f'Total number of records in ANSI AREAS table is {ansi_areas_df.shape[0]}')"
   ]
  },
  {
   "cell_type": "code",
   "execution_count": 6,
   "id": "2428d0cb",
   "metadata": {
    "ExecuteTime": {
     "end_time": "2022-04-11T08:30:43.088859Z",
     "start_time": "2022-04-11T08:30:43.067864Z"
    }
   },
   "outputs": [
    {
     "data": {
      "text/plain": [
       "330"
      ]
     },
     "execution_count": 6,
     "metadata": {},
     "output_type": "execute_result"
    }
   ],
   "source": [
    "ansi_areas_df.ANSI_ENTITY_CODE.nunique()"
   ]
  },
  {
   "cell_type": "code",
   "execution_count": 9,
   "id": "8867a035",
   "metadata": {
    "ExecuteTime": {
     "end_time": "2022-04-11T08:31:41.935637Z",
     "start_time": "2022-04-11T08:31:41.908657Z"
    }
   },
   "outputs": [
    {
     "data": {
      "text/plain": [
       "3235"
      ]
     },
     "execution_count": 9,
     "metadata": {},
     "output_type": "execute_result"
    }
   ],
   "source": [
    "sum([size==1 for size in ansi_areas_df.groupby(['ANSI_STATE_CODE', 'ANSI_ENTITY_CODE']).size().tolist()])"
   ]
  },
  {
   "cell_type": "markdown",
   "id": "ce623cde",
   "metadata": {},
   "source": [
    "The column set {ANSI_STATE_CODE, ANSI_ENTITY_CODE} uniquely identifies each record"
   ]
  },
  {
   "cell_type": "code",
   "execution_count": 10,
   "id": "78432f0d",
   "metadata": {
    "ExecuteTime": {
     "end_time": "2022-04-11T08:31:55.478660Z",
     "start_time": "2022-04-11T08:31:55.452679Z"
    }
   },
   "outputs": [
    {
     "data": {
      "text/plain": [
       "ANSI_STATE_CODE     0\n",
       "ANSI_ENTITY_CODE    0\n",
       "ANSI_NAME           0\n",
       "STATE_CODE          0\n",
       "dtype: int64"
      ]
     },
     "execution_count": 10,
     "metadata": {},
     "output_type": "execute_result"
    }
   ],
   "source": [
    "ansi_areas_df.isnull().sum()"
   ]
  },
  {
   "cell_type": "code",
   "execution_count": 11,
   "id": "b35fc2a1",
   "metadata": {
    "ExecuteTime": {
     "end_time": "2022-04-11T08:33:02.157725Z",
     "start_time": "2022-04-11T08:33:02.140729Z"
    }
   },
   "outputs": [
    {
     "data": {
      "text/plain": [
       "4"
      ]
     },
     "execution_count": 11,
     "metadata": {},
     "output_type": "execute_result"
    }
   ],
   "source": [
    "len(ansi_areas_df.columns)"
   ]
  },
  {
   "cell_type": "markdown",
   "id": "fa32a057",
   "metadata": {},
   "source": [
    "### Web Scraping Column description and data type"
   ]
  },
  {
   "cell_type": "code",
   "execution_count": 12,
   "id": "d813261a",
   "metadata": {
    "ExecuteTime": {
     "end_time": "2022-04-11T08:33:11.692040Z",
     "start_time": "2022-04-11T08:33:04.668730Z"
    }
   },
   "outputs": [],
   "source": [
    "def get_html():\n",
    "    URL = \"https://echo.epa.gov/tools/data-downloads/sdwa-download-summary\"\n",
    "    r = requests.get(URL)  \n",
    "    html_soup = BeautifulSoup(r.content, 'html.parser') \n",
    "    return html_soup\n",
    "html_soup = get_html()"
   ]
  },
  {
   "cell_type": "code",
   "execution_count": 13,
   "id": "080ee37d",
   "metadata": {
    "ExecuteTime": {
     "end_time": "2022-04-11T08:33:20.286764Z",
     "start_time": "2022-04-11T08:33:20.183757Z"
    }
   },
   "outputs": [
    {
     "data": {
      "text/html": [
       "<div>\n",
       "<style scoped>\n",
       "    .dataframe tbody tr th:only-of-type {\n",
       "        vertical-align: middle;\n",
       "    }\n",
       "\n",
       "    .dataframe tbody tr th {\n",
       "        vertical-align: top;\n",
       "    }\n",
       "\n",
       "    .dataframe thead th {\n",
       "        text-align: right;\n",
       "    }\n",
       "</style>\n",
       "<table border=\"1\" class=\"dataframe\">\n",
       "  <thead>\n",
       "    <tr style=\"text-align: right;\">\n",
       "      <th></th>\n",
       "      <th>Element</th>\n",
       "      <th>Data Type</th>\n",
       "      <th>Length</th>\n",
       "    </tr>\n",
       "  </thead>\n",
       "  <tbody>\n",
       "    <tr>\n",
       "      <th>0</th>\n",
       "      <td>ANSI_STATE_CODE</td>\n",
       "      <td>Num</td>\n",
       "      <td>2</td>\n",
       "    </tr>\n",
       "    <tr>\n",
       "      <th>1</th>\n",
       "      <td>ANSI_ENTITY_CODE</td>\n",
       "      <td>Num</td>\n",
       "      <td>3</td>\n",
       "    </tr>\n",
       "    <tr>\n",
       "      <th>2</th>\n",
       "      <td>ANSI_NAME</td>\n",
       "      <td>Char</td>\n",
       "      <td></td>\n",
       "    </tr>\n",
       "    <tr>\n",
       "      <th>3</th>\n",
       "      <td>STATE_CODE</td>\n",
       "      <td>Char</td>\n",
       "      <td>2</td>\n",
       "    </tr>\n",
       "  </tbody>\n",
       "</table>\n",
       "</div>"
      ],
      "text/plain": [
       "            Element Data Type Length\n",
       "0   ANSI_STATE_CODE       Num      2\n",
       "1  ANSI_ENTITY_CODE       Num      3\n",
       "2         ANSI_NAME      Char       \n",
       "3        STATE_CODE      Char      2"
      ]
     },
     "execution_count": 13,
     "metadata": {},
     "output_type": "execute_result"
    }
   ],
   "source": [
    "cols = []\n",
    "filename = 'SDWA_REF_ANSI_AREAS.csv'\n",
    "idx = [i for i, item in enumerate(list(html_soup.find_all(\"div\", {\"class\": 'field-item even'})[0].find_all('h3'))) if filename in item.getText()][0]\n",
    "for th in html_soup.find_all(\"div\", {\"class\": 'field-item even'})[0].find_all('h3')[idx].find_next_sibling('table').find(\"thead\").find_all(\"th\"):\n",
    "    cols.append(th.get_text().replace(u'\\xa0', u''))\n",
    "rows = []\n",
    "for row in html_soup.find_all(\"div\", {\"class\": 'field-item even'})[0].find_all('h3')[idx].find_next_sibling('table').find(\"tbody\").find_all(\"tr\"):\n",
    "    r = []\n",
    "    for td in row.find_all('td'):\n",
    "        r.append(td.get_text().replace(u'\\xa0', u''))\n",
    "    rows.append(r)\n",
    "column_datatype = pd.DataFrame(rows, columns=cols)\n",
    "column_datatype = column_datatype[column_datatype.Element.isin(ansi_areas_df.columns)]\n",
    "column_datatype"
   ]
  },
  {
   "cell_type": "code",
   "execution_count": 14,
   "id": "dacfc298",
   "metadata": {
    "ExecuteTime": {
     "end_time": "2022-04-11T08:33:26.743775Z",
     "start_time": "2022-04-11T08:33:26.686758Z"
    }
   },
   "outputs": [
    {
     "data": {
      "text/html": [
       "<div>\n",
       "<style scoped>\n",
       "    .dataframe tbody tr th:only-of-type {\n",
       "        vertical-align: middle;\n",
       "    }\n",
       "\n",
       "    .dataframe tbody tr th {\n",
       "        vertical-align: top;\n",
       "    }\n",
       "\n",
       "    .dataframe thead th {\n",
       "        text-align: right;\n",
       "    }\n",
       "</style>\n",
       "<table border=\"1\" class=\"dataframe\">\n",
       "  <thead>\n",
       "    <tr style=\"text-align: right;\">\n",
       "      <th></th>\n",
       "      <th>COLUMN</th>\n",
       "      <th>DESCRIPTION</th>\n",
       "    </tr>\n",
       "  </thead>\n",
       "  <tbody>\n",
       "    <tr>\n",
       "      <th>0</th>\n",
       "      <td>ANSI_ENTITY_CODE</td>\n",
       "      <td>American National Standards Institute (ANSI) code for the county, city, or legal statistical area. Taken with the ANSI state code, uniquely identifies a county (or other area) within the country. See the U.S. Census Bureau webpage Exit for more information about ANSI codes.</td>\n",
       "    </tr>\n",
       "    <tr>\n",
       "      <th>1</th>\n",
       "      <td>ANSI_NAME</td>\n",
       "      <td>Name of the area associated with the ANSI entity and state code.</td>\n",
       "    </tr>\n",
       "    <tr>\n",
       "      <th>2</th>\n",
       "      <td>ANSI_STATE_CODE</td>\n",
       "      <td>Standardized facility location code as issued by the American National Standards Institute (ANSI). A full description of the codes can be accessed in the SDWA_REF_ANSI_AREAS.csv. See the U.S. Census Bureau webpage Exit for more information about ANSI codes.</td>\n",
       "    </tr>\n",
       "    <tr>\n",
       "      <th>3</th>\n",
       "      <td>STATE_CODE</td>\n",
       "      <td>A coded value that represents the U.S. Postal Service (USPS) state abbreviation in which a legal entity is located. Must be one of the USPS Postal State Codes.</td>\n",
       "    </tr>\n",
       "  </tbody>\n",
       "</table>\n",
       "</div>"
      ],
      "text/plain": [
       "             COLUMN  \\\n",
       "0  ANSI_ENTITY_CODE   \n",
       "1         ANSI_NAME   \n",
       "2   ANSI_STATE_CODE   \n",
       "3        STATE_CODE   \n",
       "\n",
       "                                                                                                                                                                                                                                                                           DESCRIPTION  \n",
       "0   American National Standards Institute (ANSI) code for the county, city, or legal statistical area. Taken with the ANSI state code, uniquely identifies a county (or other area) within the country. See the U.S. Census Bureau webpage Exit for more information about ANSI codes.  \n",
       "1                                                                                                                                                                                                                     Name of the area associated with the ANSI entity and state code.  \n",
       "2                    Standardized facility location code as issued by the American National Standards Institute (ANSI). A full description of the codes can be accessed in the SDWA_REF_ANSI_AREAS.csv. See the U.S. Census Bureau webpage Exit for more information about ANSI codes.  \n",
       "3                                                                                                                      A coded value that represents the U.S. Postal Service (USPS) state abbreviation in which a legal entity is located. Must be one of the USPS Postal State Codes.  "
      ]
     },
     "execution_count": 14,
     "metadata": {},
     "output_type": "execute_result"
    }
   ],
   "source": [
    "data_dictionary = {\n",
    "    p.find_all('strong')[0].getText().replace(u'\\xa0', u'') : p.getText().replace(u'\\xa0', u' ')\n",
    "    for p in html_soup.find_all(\"div\", {\"class\": 'field-item even'})[0].find_all('p') \n",
    "    if p.find_all('strong') and len(p.find_all('strong')) == 1 and p.find_all('strong')[0].getText().replace(u'\\xa0', u'') in list(ansi_areas_df.columns)\n",
    "}\n",
    "pd.set_option('display.max_colwidth', None)\n",
    "col_desc = pd.DataFrame([data_dictionary[col] for col in data_dictionary], columns=['raw_desc'])\n",
    "\n",
    "col_desc[['COLUMN', 'DESCRIPTION']] = col_desc['raw_desc'].str.split('-', 1, expand=True)\n",
    "col_desc = col_desc[['COLUMN', 'DESCRIPTION']]\n",
    "col_desc"
   ]
  },
  {
   "cell_type": "markdown",
   "id": "8f06c319",
   "metadata": {},
   "source": [
    "### Generating create SQL statement to create 'ANSI_AREAS' table to store ANSI areas details"
   ]
  },
  {
   "cell_type": "code",
   "execution_count": 15,
   "id": "280aa664",
   "metadata": {
    "ExecuteTime": {
     "end_time": "2022-04-11T08:34:10.889800Z",
     "start_time": "2022-04-11T08:34:10.870811Z"
    }
   },
   "outputs": [
    {
     "name": "stdout",
     "output_type": "stream",
     "text": [
      "CREATE TABLE ANSI_AREAS (\n",
      "\tANSI_STATE_CODE      INT,\n",
      "\tANSI_ENTITY_CODE     INT,\n",
      "\tANSI_NAME            VARCHAR(255),\n",
      "\tSTATE_CODE           VARCHAR(2)\n",
      ") ENGINE = InnoDB;\n"
     ]
    }
   ],
   "source": [
    "temp_dict = {}\n",
    "\n",
    "def space(n):\n",
    "    return ' ' * (max([len(col) for col in ansi_areas_df.columns]) + 5 - n)\n",
    "\n",
    "for ind in column_datatype.index:\n",
    "    col_name = column_datatype['Element'][ind]\n",
    "    data_type = column_datatype['Data Type'][ind]\n",
    "    length = column_datatype['Length'][ind]\n",
    "    data_type = 'VARCHAR' if data_type == 'Char' else 'DATE' if data_type == 'Date' else 'INT'\n",
    "    data_type = data_type + '('+ length +')' if length != '' and data_type == 'VARCHAR' else data_type + '(255)' if data_type == 'VARCHAR' else data_type\n",
    "    temp_dict[col_name] = data_type\n",
    "print('CREATE TABLE ANSI_AREAS (')\n",
    "for col in ansi_areas_df.columns:\n",
    "    print(f'\\t{col}{space(len(col))}{temp_dict[col]}', end='')\n",
    "    if col != ansi_areas_df.columns[-1]:\n",
    "        print(',')\n",
    "    else:\n",
    "        print()\n",
    "print(') ENGINE = InnoDB;')"
   ]
  },
  {
   "cell_type": "code",
   "execution_count": null,
   "id": "d9715042",
   "metadata": {
    "ExecuteTime": {
     "end_time": "2022-04-11T08:40:10.323233Z",
     "start_time": "2022-04-11T08:40:10.301221Z"
    }
   },
   "outputs": [],
   "source": [
    "ansi_areas_df.sort_values(['ANSI_STATE_CODE', 'ANSI_ENTITY_CODE'], ascending=[True, True]).to_csv('../data/processed_data/ANSI_AREAS.csv', index=False) # violations.groupby(['PWSID', 'VIOLATION_ID']).size()"
   ]
  },
  {
   "cell_type": "code",
   "execution_count": 16,
   "id": "35aae12e",
   "metadata": {
    "ExecuteTime": {
     "end_time": "2022-04-11T08:35:29.120918Z",
     "start_time": "2022-04-11T08:35:29.100917Z"
    }
   },
   "outputs": [
    {
     "name": "stdout",
     "output_type": "stream",
     "text": [
      "\n",
      "LOAD DATA INFILE 'C:/ProgramData/MySQL/MySQL Server 8.0/Uploads/ANSI_AREAS.csv'\n",
      "INTO TABLE ANSI_AREAS \n",
      "FIELDS TERMINATED BY ','\n",
      "ESCAPED BY ''\n",
      "OPTIONALLY ENCLOSED BY '\"'\n",
      "LINES TERMINATED BY '\\n'\n",
      "IGNORE 1 ROWS\n",
      "(@ANSI_STATE_CODE,@ANSI_ENTITY_CODE,@ANSI_NAME,@STATE_CODE)\n",
      "SET\n",
      "ANSI_STATE_CODE = IF(@ANSI_STATE_CODE = '', NULL, @ANSI_STATE_CODE),\n",
      "ANSI_ENTITY_CODE = IF(@ANSI_ENTITY_CODE = '', NULL, @ANSI_ENTITY_CODE),\n",
      "ANSI_NAME = IF(@ANSI_NAME = '', NULL, @ANSI_NAME),\n",
      "STATE_CODE = IF(@STATE_CODE = '', NULL, @STATE_CODE),\n"
     ]
    }
   ],
   "source": [
    "columns = ansi_areas_df.columns.to_list()\n",
    "\n",
    "date_columns = []\n",
    "\n",
    "print('''\n",
    "LOAD DATA INFILE 'C:/ProgramData/MySQL/MySQL Server 8.0/Uploads/ANSI_AREAS.csv'\n",
    "INTO TABLE ANSI_AREAS \n",
    "FIELDS TERMINATED BY ','\n",
    "ESCAPED BY ''\n",
    "OPTIONALLY ENCLOSED BY '\"'\n",
    "LINES TERMINATED BY '\\\\n'\n",
    "IGNORE 1 ROWS\n",
    "''', end='')\n",
    "print('(', end='')\n",
    "for col in columns:\n",
    "    print(f'@{col}', end='')\n",
    "    if col != columns[-1]:\n",
    "        print(',', end='')\n",
    "print(')')\n",
    "print('SET')\n",
    "for col in columns:\n",
    "    if col in date_columns:\n",
    "        print(f'{col} = IF(@{col} = \\'\\', NULL, STR_TO_DATE(@{col}, \\'%Y-%m-%d\\')),')\n",
    "    else:\n",
    "        print(f'{col} = IF(@{col} = \\'\\', NULL, @{col}),')"
   ]
  }
 ],
 "metadata": {
  "kernelspec": {
   "display_name": "Python 3",
   "language": "python",
   "name": "python3"
  },
  "language_info": {
   "codemirror_mode": {
    "name": "ipython",
    "version": 3
   },
   "file_extension": ".py",
   "mimetype": "text/x-python",
   "name": "python",
   "nbconvert_exporter": "python",
   "pygments_lexer": "ipython3",
   "version": "3.8.8"
  }
 },
 "nbformat": 4,
 "nbformat_minor": 5
}
