{
 "cells": [
  {
   "cell_type": "code",
   "execution_count": 1,
   "id": "6f406545",
   "metadata": {
    "ExecuteTime": {
     "end_time": "2022-04-11T07:13:00.693603Z",
     "start_time": "2022-04-11T07:12:51.872492Z"
    }
   },
   "outputs": [],
   "source": [
    "import pandas as pd\n",
    "import requests\n",
    "from bs4 import BeautifulSoup"
   ]
  },
  {
   "cell_type": "code",
   "execution_count": 2,
   "id": "8ef3f241",
   "metadata": {
    "ExecuteTime": {
     "end_time": "2022-04-11T07:13:06.602130Z",
     "start_time": "2022-04-11T07:13:00.697560Z"
    }
   },
   "outputs": [],
   "source": [
    "facilities_df = pd.read_csv('../data/ECHO_data_csv/SDWA_FACILITIES.csv', dtype=str)"
   ]
  },
  {
   "cell_type": "code",
   "execution_count": 3,
   "id": "0a7c1a88",
   "metadata": {
    "ExecuteTime": {
     "end_time": "2022-04-11T07:13:06.665130Z",
     "start_time": "2022-04-11T07:13:06.606137Z"
    }
   },
   "outputs": [
    {
     "data": {
      "text/html": [
       "<div>\n",
       "<style scoped>\n",
       "    .dataframe tbody tr th:only-of-type {\n",
       "        vertical-align: middle;\n",
       "    }\n",
       "\n",
       "    .dataframe tbody tr th {\n",
       "        vertical-align: top;\n",
       "    }\n",
       "\n",
       "    .dataframe thead th {\n",
       "        text-align: right;\n",
       "    }\n",
       "</style>\n",
       "<table border=\"1\" class=\"dataframe\">\n",
       "  <thead>\n",
       "    <tr style=\"text-align: right;\">\n",
       "      <th></th>\n",
       "      <th>SUBMISSIONYEARQUARTER</th>\n",
       "      <th>PWSID</th>\n",
       "      <th>FACILITY_ID</th>\n",
       "      <th>FACILITY_NAME</th>\n",
       "      <th>STATE_FACILITY_ID</th>\n",
       "      <th>FACILITY_ACTIVITY_CODE</th>\n",
       "      <th>FACILITY_DEACTIVATION_DATE</th>\n",
       "      <th>FACILITY_TYPE_CODE</th>\n",
       "      <th>SUBMISSION_STATUS_CODE</th>\n",
       "      <th>IS_SOURCE_IND</th>\n",
       "      <th>WATER_TYPE_CODE</th>\n",
       "      <th>AVAILABILITY_CODE</th>\n",
       "      <th>SELLER_TREATMENT_CODE</th>\n",
       "      <th>SELLER_PWSID</th>\n",
       "      <th>SELLER_PWS_NAME</th>\n",
       "      <th>FILTRATION_STATUS_CODE</th>\n",
       "      <th>IS_SOURCE_TREATED_IND</th>\n",
       "      <th>FIRST_REPORTED_DATE</th>\n",
       "      <th>LAST_REPORTED_DATE</th>\n",
       "    </tr>\n",
       "  </thead>\n",
       "  <tbody>\n",
       "    <tr>\n",
       "      <th>0</th>\n",
       "      <td>2021Q2</td>\n",
       "      <td>MO4201034</td>\n",
       "      <td>104814</td>\n",
       "      <td>300 GAL HYDROPNEUMATIC TANK</td>\n",
       "      <td>ST 12540</td>\n",
       "      <td>A</td>\n",
       "      <td>NaN</td>\n",
       "      <td>ST</td>\n",
       "      <td>Y</td>\n",
       "      <td>N</td>\n",
       "      <td>NaN</td>\n",
       "      <td>NaN</td>\n",
       "      <td>NaN</td>\n",
       "      <td>NaN</td>\n",
       "      <td>NaN</td>\n",
       "      <td>NaN</td>\n",
       "      <td>NaN</td>\n",
       "      <td>05/24/2014</td>\n",
       "      <td>06/01/2021</td>\n",
       "    </tr>\n",
       "    <tr>\n",
       "      <th>1</th>\n",
       "      <td>2021Q2</td>\n",
       "      <td>MO3281046</td>\n",
       "      <td>105032</td>\n",
       "      <td>119 GAL BLADDER TANK</td>\n",
       "      <td>ST 64182</td>\n",
       "      <td>A</td>\n",
       "      <td>NaN</td>\n",
       "      <td>ST</td>\n",
       "      <td>Y</td>\n",
       "      <td>N</td>\n",
       "      <td>NaN</td>\n",
       "      <td>NaN</td>\n",
       "      <td>NaN</td>\n",
       "      <td>NaN</td>\n",
       "      <td>NaN</td>\n",
       "      <td>NaN</td>\n",
       "      <td>NaN</td>\n",
       "      <td>05/24/2014</td>\n",
       "      <td>03/26/2020</td>\n",
       "    </tr>\n",
       "    <tr>\n",
       "      <th>2</th>\n",
       "      <td>2021Q2</td>\n",
       "      <td>CA5000392</td>\n",
       "      <td>1</td>\n",
       "      <td>WELL</td>\n",
       "      <td>NaN</td>\n",
       "      <td>I</td>\n",
       "      <td>01/01/1990</td>\n",
       "      <td>WL</td>\n",
       "      <td>Y</td>\n",
       "      <td>Y</td>\n",
       "      <td>GW</td>\n",
       "      <td>P</td>\n",
       "      <td>NaN</td>\n",
       "      <td>NaN</td>\n",
       "      <td>NaN</td>\n",
       "      <td>NaN</td>\n",
       "      <td>U</td>\n",
       "      <td>NaN</td>\n",
       "      <td>02/13/2002</td>\n",
       "    </tr>\n",
       "    <tr>\n",
       "      <th>3</th>\n",
       "      <td>2021Q2</td>\n",
       "      <td>CA5000393</td>\n",
       "      <td>1</td>\n",
       "      <td>WELL</td>\n",
       "      <td>NaN</td>\n",
       "      <td>I</td>\n",
       "      <td>01/01/1996</td>\n",
       "      <td>WL</td>\n",
       "      <td>Y</td>\n",
       "      <td>Y</td>\n",
       "      <td>GW</td>\n",
       "      <td>P</td>\n",
       "      <td>NaN</td>\n",
       "      <td>NaN</td>\n",
       "      <td>NaN</td>\n",
       "      <td>NaN</td>\n",
       "      <td>U</td>\n",
       "      <td>NaN</td>\n",
       "      <td>02/13/2002</td>\n",
       "    </tr>\n",
       "    <tr>\n",
       "      <th>4</th>\n",
       "      <td>2021Q2</td>\n",
       "      <td>MO5048992</td>\n",
       "      <td>104963</td>\n",
       "      <td>TWO 5HP BOOSTER PUMPS</td>\n",
       "      <td>PF 91051</td>\n",
       "      <td>A</td>\n",
       "      <td>NaN</td>\n",
       "      <td>PF</td>\n",
       "      <td>Y</td>\n",
       "      <td>N</td>\n",
       "      <td>NaN</td>\n",
       "      <td>NaN</td>\n",
       "      <td>NaN</td>\n",
       "      <td>NaN</td>\n",
       "      <td>NaN</td>\n",
       "      <td>NaN</td>\n",
       "      <td>NaN</td>\n",
       "      <td>05/24/2014</td>\n",
       "      <td>06/01/2021</td>\n",
       "    </tr>\n",
       "  </tbody>\n",
       "</table>\n",
       "</div>"
      ],
      "text/plain": [
       "  SUBMISSIONYEARQUARTER      PWSID FACILITY_ID                FACILITY_NAME  \\\n",
       "0                2021Q2  MO4201034      104814  300 GAL HYDROPNEUMATIC TANK   \n",
       "1                2021Q2  MO3281046      105032         119 GAL BLADDER TANK   \n",
       "2                2021Q2  CA5000392           1                         WELL   \n",
       "3                2021Q2  CA5000393           1                         WELL   \n",
       "4                2021Q2  MO5048992      104963        TWO 5HP BOOSTER PUMPS   \n",
       "\n",
       "  STATE_FACILITY_ID FACILITY_ACTIVITY_CODE FACILITY_DEACTIVATION_DATE  \\\n",
       "0          ST 12540                      A                        NaN   \n",
       "1          ST 64182                      A                        NaN   \n",
       "2               NaN                      I                 01/01/1990   \n",
       "3               NaN                      I                 01/01/1996   \n",
       "4          PF 91051                      A                        NaN   \n",
       "\n",
       "  FACILITY_TYPE_CODE SUBMISSION_STATUS_CODE IS_SOURCE_IND WATER_TYPE_CODE  \\\n",
       "0                 ST                      Y             N             NaN   \n",
       "1                 ST                      Y             N             NaN   \n",
       "2                 WL                      Y             Y              GW   \n",
       "3                 WL                      Y             Y              GW   \n",
       "4                 PF                      Y             N             NaN   \n",
       "\n",
       "  AVAILABILITY_CODE SELLER_TREATMENT_CODE SELLER_PWSID SELLER_PWS_NAME  \\\n",
       "0               NaN                   NaN          NaN             NaN   \n",
       "1               NaN                   NaN          NaN             NaN   \n",
       "2                 P                   NaN          NaN             NaN   \n",
       "3                 P                   NaN          NaN             NaN   \n",
       "4               NaN                   NaN          NaN             NaN   \n",
       "\n",
       "  FILTRATION_STATUS_CODE IS_SOURCE_TREATED_IND FIRST_REPORTED_DATE  \\\n",
       "0                    NaN                   NaN          05/24/2014   \n",
       "1                    NaN                   NaN          05/24/2014   \n",
       "2                    NaN                     U                 NaN   \n",
       "3                    NaN                     U                 NaN   \n",
       "4                    NaN                   NaN          05/24/2014   \n",
       "\n",
       "  LAST_REPORTED_DATE  \n",
       "0         06/01/2021  \n",
       "1         03/26/2020  \n",
       "2         02/13/2002  \n",
       "3         02/13/2002  \n",
       "4         06/01/2021  "
      ]
     },
     "execution_count": 3,
     "metadata": {},
     "output_type": "execute_result"
    }
   ],
   "source": [
    "facilities_df.head()"
   ]
  },
  {
   "cell_type": "code",
   "execution_count": 4,
   "id": "cd89f5bf",
   "metadata": {
    "ExecuteTime": {
     "end_time": "2022-04-11T07:13:06.823214Z",
     "start_time": "2022-04-11T07:13:06.669138Z"
    }
   },
   "outputs": [
    {
     "name": "stdout",
     "output_type": "stream",
     "text": [
      "Total number of records in facilities table is 1449838\n"
     ]
    }
   ],
   "source": [
    "print(f'Total number of records in facilities table is {facilities_df.shape[0]}')"
   ]
  },
  {
   "cell_type": "code",
   "execution_count": 5,
   "id": "498e093b",
   "metadata": {
    "ExecuteTime": {
     "end_time": "2022-04-11T07:13:09.645152Z",
     "start_time": "2022-04-11T07:13:06.827138Z"
    }
   },
   "outputs": [
    {
     "data": {
      "text/plain": [
       "1449838"
      ]
     },
     "execution_count": 5,
     "metadata": {},
     "output_type": "execute_result"
    }
   ],
   "source": [
    "sum(facilities_df.groupby(['PWSID', 'FACILITY_ID']).size().tolist())"
   ]
  },
  {
   "cell_type": "markdown",
   "id": "9017f369",
   "metadata": {},
   "source": [
    "The column set {PWSID, FACILITY_ID} uniquely identifies each record"
   ]
  },
  {
   "cell_type": "code",
   "execution_count": 6,
   "id": "ae07b9fb",
   "metadata": {
    "ExecuteTime": {
     "end_time": "2022-04-11T07:13:10.995158Z",
     "start_time": "2022-04-11T07:13:09.648133Z"
    }
   },
   "outputs": [
    {
     "data": {
      "text/plain": [
       "SUBMISSIONYEARQUARTER               0\n",
       "PWSID                               0\n",
       "FACILITY_ID                         0\n",
       "FACILITY_NAME                   29333\n",
       "STATE_FACILITY_ID              470665\n",
       "FACILITY_ACTIVITY_CODE              0\n",
       "FACILITY_DEACTIVATION_DATE     912446\n",
       "FACILITY_TYPE_CODE                  0\n",
       "SUBMISSION_STATUS_CODE              0\n",
       "IS_SOURCE_IND                       0\n",
       "WATER_TYPE_CODE                756323\n",
       "AVAILABILITY_CODE              730788\n",
       "SELLER_TREATMENT_CODE         1403679\n",
       "SELLER_PWSID                  1405727\n",
       "SELLER_PWS_NAME               1405775\n",
       "FILTRATION_STATUS_CODE        1417823\n",
       "IS_SOURCE_TREATED_IND          953488\n",
       "FIRST_REPORTED_DATE            851633\n",
       "LAST_REPORTED_DATE               9926\n",
       "dtype: int64"
      ]
     },
     "execution_count": 6,
     "metadata": {},
     "output_type": "execute_result"
    }
   ],
   "source": [
    "facilities_df.isnull().sum()"
   ]
  },
  {
   "cell_type": "code",
   "execution_count": 7,
   "id": "8adc1264",
   "metadata": {
    "ExecuteTime": {
     "end_time": "2022-04-11T07:13:11.247139Z",
     "start_time": "2022-04-11T07:13:10.998138Z"
    }
   },
   "outputs": [
    {
     "data": {
      "text/html": [
       "<div>\n",
       "<style scoped>\n",
       "    .dataframe tbody tr th:only-of-type {\n",
       "        vertical-align: middle;\n",
       "    }\n",
       "\n",
       "    .dataframe tbody tr th {\n",
       "        vertical-align: top;\n",
       "    }\n",
       "\n",
       "    .dataframe thead th {\n",
       "        text-align: right;\n",
       "    }\n",
       "</style>\n",
       "<table border=\"1\" class=\"dataframe\">\n",
       "  <thead>\n",
       "    <tr style=\"text-align: right;\">\n",
       "      <th></th>\n",
       "      <th>FACILITY_DEACTIVATION_DATE</th>\n",
       "      <th>FIRST_REPORTED_DATE</th>\n",
       "      <th>LAST_REPORTED_DATE</th>\n",
       "    </tr>\n",
       "  </thead>\n",
       "  <tbody>\n",
       "    <tr>\n",
       "      <th>0</th>\n",
       "      <td>NaN</td>\n",
       "      <td>05/24/2014</td>\n",
       "      <td>06/01/2021</td>\n",
       "    </tr>\n",
       "    <tr>\n",
       "      <th>1</th>\n",
       "      <td>NaN</td>\n",
       "      <td>05/24/2014</td>\n",
       "      <td>03/26/2020</td>\n",
       "    </tr>\n",
       "    <tr>\n",
       "      <th>2</th>\n",
       "      <td>01/01/1990</td>\n",
       "      <td>NaN</td>\n",
       "      <td>02/13/2002</td>\n",
       "    </tr>\n",
       "    <tr>\n",
       "      <th>3</th>\n",
       "      <td>01/01/1996</td>\n",
       "      <td>NaN</td>\n",
       "      <td>02/13/2002</td>\n",
       "    </tr>\n",
       "    <tr>\n",
       "      <th>4</th>\n",
       "      <td>NaN</td>\n",
       "      <td>05/24/2014</td>\n",
       "      <td>06/01/2021</td>\n",
       "    </tr>\n",
       "  </tbody>\n",
       "</table>\n",
       "</div>"
      ],
      "text/plain": [
       "  FACILITY_DEACTIVATION_DATE FIRST_REPORTED_DATE LAST_REPORTED_DATE\n",
       "0                        NaN          05/24/2014         06/01/2021\n",
       "1                        NaN          05/24/2014         03/26/2020\n",
       "2                 01/01/1990                 NaN         02/13/2002\n",
       "3                 01/01/1996                 NaN         02/13/2002\n",
       "4                        NaN          05/24/2014         06/01/2021"
      ]
     },
     "execution_count": 7,
     "metadata": {},
     "output_type": "execute_result"
    }
   ],
   "source": [
    "## Seeing date formats\n",
    "date_columns = ['FACILITY_DEACTIVATION_DATE', 'FIRST_REPORTED_DATE', 'LAST_REPORTED_DATE']\n",
    "facilities_df[date_columns].head()"
   ]
  },
  {
   "cell_type": "code",
   "execution_count": 8,
   "id": "df3c7f2b",
   "metadata": {
    "ExecuteTime": {
     "end_time": "2022-04-11T07:13:12.963203Z",
     "start_time": "2022-04-11T07:13:11.254137Z"
    }
   },
   "outputs": [],
   "source": [
    "for datecol in date_columns:\n",
    "    facilities_df[datecol] = pd.to_datetime(facilities_df[datecol], format='%m/%d/%Y')"
   ]
  },
  {
   "cell_type": "code",
   "execution_count": 9,
   "id": "cf94b2ba",
   "metadata": {
    "ExecuteTime": {
     "end_time": "2022-04-11T07:13:13.058202Z",
     "start_time": "2022-04-11T07:13:12.966134Z"
    }
   },
   "outputs": [
    {
     "data": {
      "text/html": [
       "<div>\n",
       "<style scoped>\n",
       "    .dataframe tbody tr th:only-of-type {\n",
       "        vertical-align: middle;\n",
       "    }\n",
       "\n",
       "    .dataframe tbody tr th {\n",
       "        vertical-align: top;\n",
       "    }\n",
       "\n",
       "    .dataframe thead th {\n",
       "        text-align: right;\n",
       "    }\n",
       "</style>\n",
       "<table border=\"1\" class=\"dataframe\">\n",
       "  <thead>\n",
       "    <tr style=\"text-align: right;\">\n",
       "      <th></th>\n",
       "      <th>FACILITY_DEACTIVATION_DATE</th>\n",
       "      <th>FIRST_REPORTED_DATE</th>\n",
       "      <th>LAST_REPORTED_DATE</th>\n",
       "    </tr>\n",
       "  </thead>\n",
       "  <tbody>\n",
       "    <tr>\n",
       "      <th>0</th>\n",
       "      <td>NaT</td>\n",
       "      <td>2014-05-24</td>\n",
       "      <td>2021-06-01</td>\n",
       "    </tr>\n",
       "    <tr>\n",
       "      <th>1</th>\n",
       "      <td>NaT</td>\n",
       "      <td>2014-05-24</td>\n",
       "      <td>2020-03-26</td>\n",
       "    </tr>\n",
       "    <tr>\n",
       "      <th>2</th>\n",
       "      <td>1990-01-01</td>\n",
       "      <td>NaT</td>\n",
       "      <td>2002-02-13</td>\n",
       "    </tr>\n",
       "    <tr>\n",
       "      <th>3</th>\n",
       "      <td>1996-01-01</td>\n",
       "      <td>NaT</td>\n",
       "      <td>2002-02-13</td>\n",
       "    </tr>\n",
       "    <tr>\n",
       "      <th>4</th>\n",
       "      <td>NaT</td>\n",
       "      <td>2014-05-24</td>\n",
       "      <td>2021-06-01</td>\n",
       "    </tr>\n",
       "  </tbody>\n",
       "</table>\n",
       "</div>"
      ],
      "text/plain": [
       "  FACILITY_DEACTIVATION_DATE FIRST_REPORTED_DATE LAST_REPORTED_DATE\n",
       "0                        NaT          2014-05-24         2021-06-01\n",
       "1                        NaT          2014-05-24         2020-03-26\n",
       "2                 1990-01-01                 NaT         2002-02-13\n",
       "3                 1996-01-01                 NaT         2002-02-13\n",
       "4                        NaT          2014-05-24         2021-06-01"
      ]
     },
     "execution_count": 9,
     "metadata": {},
     "output_type": "execute_result"
    }
   ],
   "source": [
    "facilities_df[date_columns].head()"
   ]
  },
  {
   "cell_type": "code",
   "execution_count": 10,
   "id": "927e45e8",
   "metadata": {
    "ExecuteTime": {
     "end_time": "2022-04-11T07:13:13.312178Z",
     "start_time": "2022-04-11T07:13:13.061134Z"
    }
   },
   "outputs": [
    {
     "name": "stdout",
     "output_type": "stream",
     "text": [
      "Range of FACILITY_DEACTIVATION_DATE is between 1900-02-01 00:00:00 and 2022-10-31 00:00:00\n",
      "Range of FIRST_REPORTED_DATE is between 2005-10-27 00:00:00 and 2021-07-01 00:00:00\n",
      "Range of LAST_REPORTED_DATE is between 1995-07-22 00:00:00 and 2021-07-01 00:00:00\n"
     ]
    }
   ],
   "source": [
    "for datacol in date_columns:\n",
    "    print('Range of {} is between {} and {}'.format(datacol, facilities_df[datacol].min(), facilities_df[datacol].max()))"
   ]
  },
  {
   "cell_type": "code",
   "execution_count": 11,
   "id": "2a0c22d2",
   "metadata": {
    "ExecuteTime": {
     "end_time": "2022-04-11T07:13:13.328138Z",
     "start_time": "2022-04-11T07:13:13.315136Z"
    }
   },
   "outputs": [
    {
     "data": {
      "text/plain": [
       "19"
      ]
     },
     "execution_count": 11,
     "metadata": {},
     "output_type": "execute_result"
    }
   ],
   "source": [
    "len(facilities_df.columns)"
   ]
  },
  {
   "cell_type": "markdown",
   "id": "0756645a",
   "metadata": {},
   "source": [
    "### Web Scraping Column description and data type"
   ]
  },
  {
   "cell_type": "code",
   "execution_count": 12,
   "id": "f0e8b9e2",
   "metadata": {
    "ExecuteTime": {
     "end_time": "2022-04-11T07:13:15.188351Z",
     "start_time": "2022-04-11T07:13:13.331134Z"
    }
   },
   "outputs": [],
   "source": [
    "def get_html():\n",
    "    URL = \"https://echo.epa.gov/tools/data-downloads/sdwa-download-summary\"\n",
    "    r = requests.get(URL)  \n",
    "    html_soup = BeautifulSoup(r.content, 'html.parser') \n",
    "    return html_soup\n",
    "html_soup = get_html()"
   ]
  },
  {
   "cell_type": "code",
   "execution_count": 13,
   "id": "f6a77734",
   "metadata": {
    "ExecuteTime": {
     "end_time": "2022-04-11T07:13:18.118002Z",
     "start_time": "2022-04-11T07:13:18.039987Z"
    }
   },
   "outputs": [
    {
     "data": {
      "text/html": [
       "<div>\n",
       "<style scoped>\n",
       "    .dataframe tbody tr th:only-of-type {\n",
       "        vertical-align: middle;\n",
       "    }\n",
       "\n",
       "    .dataframe tbody tr th {\n",
       "        vertical-align: top;\n",
       "    }\n",
       "\n",
       "    .dataframe thead th {\n",
       "        text-align: right;\n",
       "    }\n",
       "</style>\n",
       "<table border=\"1\" class=\"dataframe\">\n",
       "  <thead>\n",
       "    <tr style=\"text-align: right;\">\n",
       "      <th></th>\n",
       "      <th>Element</th>\n",
       "      <th>Data Type</th>\n",
       "      <th>Length</th>\n",
       "    </tr>\n",
       "  </thead>\n",
       "  <tbody>\n",
       "    <tr>\n",
       "      <th>0</th>\n",
       "      <td>PWSID</td>\n",
       "      <td>Char</td>\n",
       "      <td>9</td>\n",
       "    </tr>\n",
       "    <tr>\n",
       "      <th>1</th>\n",
       "      <td>SUBMISSIONYEARQUARTER</td>\n",
       "      <td>Char</td>\n",
       "      <td>6</td>\n",
       "    </tr>\n",
       "    <tr>\n",
       "      <th>2</th>\n",
       "      <td>FACILITY_ID</td>\n",
       "      <td>Char</td>\n",
       "      <td>12</td>\n",
       "    </tr>\n",
       "    <tr>\n",
       "      <th>3</th>\n",
       "      <td>FACILITY_NAME</td>\n",
       "      <td>Char</td>\n",
       "      <td>100</td>\n",
       "    </tr>\n",
       "    <tr>\n",
       "      <th>4</th>\n",
       "      <td>STATE_FACILITY_ID</td>\n",
       "      <td>Char</td>\n",
       "      <td>40</td>\n",
       "    </tr>\n",
       "    <tr>\n",
       "      <th>5</th>\n",
       "      <td>FACILITY_ACTIVITY_CODE</td>\n",
       "      <td>Char</td>\n",
       "      <td>1</td>\n",
       "    </tr>\n",
       "    <tr>\n",
       "      <th>6</th>\n",
       "      <td>FACILITY_DEACTIVATION_DATE</td>\n",
       "      <td>Date</td>\n",
       "      <td></td>\n",
       "    </tr>\n",
       "    <tr>\n",
       "      <th>7</th>\n",
       "      <td>FACILITY_TYPE_CODE</td>\n",
       "      <td>Char</td>\n",
       "      <td>2</td>\n",
       "    </tr>\n",
       "    <tr>\n",
       "      <th>8</th>\n",
       "      <td>SUBMISSION_STATUS_CODE</td>\n",
       "      <td>Char</td>\n",
       "      <td>4</td>\n",
       "    </tr>\n",
       "    <tr>\n",
       "      <th>9</th>\n",
       "      <td>IS_SOURCE_IND</td>\n",
       "      <td>Char</td>\n",
       "      <td>1</td>\n",
       "    </tr>\n",
       "    <tr>\n",
       "      <th>10</th>\n",
       "      <td>WATER_TYPE_CODE</td>\n",
       "      <td>Char</td>\n",
       "      <td>2</td>\n",
       "    </tr>\n",
       "    <tr>\n",
       "      <th>11</th>\n",
       "      <td>AVAILABILITY_CODE</td>\n",
       "      <td>Char</td>\n",
       "      <td>1</td>\n",
       "    </tr>\n",
       "    <tr>\n",
       "      <th>12</th>\n",
       "      <td>SELLER_TREATMENT_CODE</td>\n",
       "      <td>Char</td>\n",
       "      <td>4</td>\n",
       "    </tr>\n",
       "    <tr>\n",
       "      <th>13</th>\n",
       "      <td>SELLER_PWSID</td>\n",
       "      <td>Char</td>\n",
       "      <td>9</td>\n",
       "    </tr>\n",
       "    <tr>\n",
       "      <th>14</th>\n",
       "      <td>SELLER_PWS_NAME</td>\n",
       "      <td>Char</td>\n",
       "      <td>100</td>\n",
       "    </tr>\n",
       "    <tr>\n",
       "      <th>15</th>\n",
       "      <td>FILTRATION_STATUS_CODE</td>\n",
       "      <td>Char</td>\n",
       "      <td>4</td>\n",
       "    </tr>\n",
       "    <tr>\n",
       "      <th>16</th>\n",
       "      <td>IS_SOURCE_TREATED_IND</td>\n",
       "      <td>Char</td>\n",
       "      <td>1</td>\n",
       "    </tr>\n",
       "    <tr>\n",
       "      <th>17</th>\n",
       "      <td>FIRST_REPORTED_DATE</td>\n",
       "      <td>Date</td>\n",
       "      <td></td>\n",
       "    </tr>\n",
       "    <tr>\n",
       "      <th>18</th>\n",
       "      <td>LAST_REPORTED_DATE</td>\n",
       "      <td>Date</td>\n",
       "      <td></td>\n",
       "    </tr>\n",
       "  </tbody>\n",
       "</table>\n",
       "</div>"
      ],
      "text/plain": [
       "                       Element Data Type Length\n",
       "0                        PWSID      Char      9\n",
       "1        SUBMISSIONYEARQUARTER      Char      6\n",
       "2                  FACILITY_ID      Char     12\n",
       "3                FACILITY_NAME      Char    100\n",
       "4            STATE_FACILITY_ID      Char     40\n",
       "5       FACILITY_ACTIVITY_CODE      Char      1\n",
       "6   FACILITY_DEACTIVATION_DATE      Date       \n",
       "7           FACILITY_TYPE_CODE      Char      2\n",
       "8       SUBMISSION_STATUS_CODE      Char      4\n",
       "9                IS_SOURCE_IND      Char      1\n",
       "10             WATER_TYPE_CODE      Char      2\n",
       "11           AVAILABILITY_CODE      Char      1\n",
       "12       SELLER_TREATMENT_CODE      Char      4\n",
       "13                SELLER_PWSID      Char      9\n",
       "14             SELLER_PWS_NAME      Char    100\n",
       "15      FILTRATION_STATUS_CODE      Char      4\n",
       "16       IS_SOURCE_TREATED_IND      Char      1\n",
       "17         FIRST_REPORTED_DATE      Date       \n",
       "18          LAST_REPORTED_DATE      Date       "
      ]
     },
     "execution_count": 13,
     "metadata": {},
     "output_type": "execute_result"
    }
   ],
   "source": [
    "cols = []\n",
    "filename = 'SDWA_FACILITIES.csv'\n",
    "idx = [i for i, item in enumerate(list(html_soup.find_all(\"div\", {\"class\": 'field-item even'})[0].find_all('h3'))) if filename in item.getText()][0]\n",
    "for th in html_soup.find_all(\"div\", {\"class\": 'field-item even'})[0].find_all('h3')[idx].find_next_sibling('table').find(\"thead\").find_all(\"th\"):\n",
    "    cols.append(th.get_text().replace(u'\\xa0', u''))\n",
    "rows = []\n",
    "for row in html_soup.find_all(\"div\", {\"class\": 'field-item even'})[0].find_all('h3')[idx].find_next_sibling('table').find(\"tbody\").find_all(\"tr\"):\n",
    "    r = []\n",
    "    for td in row.find_all('td'):\n",
    "        r.append(td.get_text().replace(u'\\xa0', u''))\n",
    "    rows.append(r)\n",
    "column_datatype = pd.DataFrame(rows, columns=cols)\n",
    "column_datatype = column_datatype[column_datatype.Element.isin(facilities_df.columns)]\n",
    "column_datatype"
   ]
  },
  {
   "cell_type": "code",
   "execution_count": 28,
   "id": "800e6eb4",
   "metadata": {
    "ExecuteTime": {
     "end_time": "2022-04-11T06:21:34.048561Z",
     "start_time": "2022-04-11T06:21:33.957505Z"
    }
   },
   "outputs": [
    {
     "data": {
      "text/html": [
       "<div>\n",
       "<style scoped>\n",
       "    .dataframe tbody tr th:only-of-type {\n",
       "        vertical-align: middle;\n",
       "    }\n",
       "\n",
       "    .dataframe tbody tr th {\n",
       "        vertical-align: top;\n",
       "    }\n",
       "\n",
       "    .dataframe thead th {\n",
       "        text-align: right;\n",
       "    }\n",
       "</style>\n",
       "<table border=\"1\" class=\"dataframe\">\n",
       "  <thead>\n",
       "    <tr style=\"text-align: right;\">\n",
       "      <th></th>\n",
       "      <th>COLUMN</th>\n",
       "      <th>DESCRIPTION</th>\n",
       "    </tr>\n",
       "  </thead>\n",
       "  <tbody>\n",
       "    <tr>\n",
       "      <th>0</th>\n",
       "      <td>AVAILABILITY_CODE</td>\n",
       "      <td>A single-character code for how the water source is utilized by a water system.</td>\n",
       "    </tr>\n",
       "    <tr>\n",
       "      <th>1</th>\n",
       "      <td>FACILITY_ACTIVITY_CODE</td>\n",
       "      <td>A single-character code identifying the current status of the facility.</td>\n",
       "    </tr>\n",
       "    <tr>\n",
       "      <th>2</th>\n",
       "      <td>FACILITY_DEACTIVATION_DATE</td>\n",
       "      <td>The date the facility was deactivated (no longer actively serving water) or removed from federal oversight because it no longer met SDWA criteria as a public water system (MM/DD/YYYY format).</td>\n",
       "    </tr>\n",
       "    <tr>\n",
       "      <th>3</th>\n",
       "      <td>FACILITY_ID</td>\n",
       "      <td>Facility ID that, when used with the PWSID, uniquely identifies a water system facility.</td>\n",
       "    </tr>\n",
       "    <tr>\n",
       "      <th>4</th>\n",
       "      <td>FACILITY_NAME</td>\n",
       "      <td>The name of the water system facility.</td>\n",
       "    </tr>\n",
       "    <tr>\n",
       "      <th>5</th>\n",
       "      <td>FACILITY_TYPE_CODE</td>\n",
       "      <td>Code identifying the type of facility.</td>\n",
       "    </tr>\n",
       "    <tr>\n",
       "      <th>6</th>\n",
       "      <td>FILTRATION_STATUS_CODE</td>\n",
       "      <td>A code reported by the state to indicate whether a non-emergency surface water source or a non-emergency ground water under the influence of surface water source is required to install filtration by a certain date or is successfully avoiding filtration.</td>\n",
       "    </tr>\n",
       "    <tr>\n",
       "      <th>7</th>\n",
       "      <td>FIRST_REPORTED_DATE</td>\n",
       "      <td>The first reported date for the milestone event. The date format is MM/DD/YYYY.</td>\n",
       "    </tr>\n",
       "    <tr>\n",
       "      <th>8</th>\n",
       "      <td>IS_SOURCE_IND</td>\n",
       "      <td>Indicates whether the water system facility is designated a source (either a Consecutive Connection (CC), Infiltration Gallery (IG), Intake (IN), Non-piped (NP), Roof Catchment (RC), Reservoir (RS), Spring (SP), Well (WL), or Non-piped non-purchased (NN)).</td>\n",
       "    </tr>\n",
       "    <tr>\n",
       "      <th>9</th>\n",
       "      <td>IS_SOURCE_TREATED_IND</td>\n",
       "      <td>Indicates whether the water system source water is being treated or not.</td>\n",
       "    </tr>\n",
       "    <tr>\n",
       "      <th>10</th>\n",
       "      <td>LAST_REPORTED_DATE</td>\n",
       "      <td>The last reported date for the milestone event. The date format is MM/DD/YYYY.</td>\n",
       "    </tr>\n",
       "    <tr>\n",
       "      <th>11</th>\n",
       "      <td>PWSID</td>\n",
       "      <td>A unique identifying code for a public water system in SDWIS. The PWSID consists of a two-letter state or region code, followed by seven digits.</td>\n",
       "    </tr>\n",
       "    <tr>\n",
       "      <th>12</th>\n",
       "      <td>SELLER_PWSID</td>\n",
       "      <td>PWSID of the water system that is selling water to this system through this interconnection. Is also the \"upstream\" water system to the parent of this facility.</td>\n",
       "    </tr>\n",
       "    <tr>\n",
       "      <th>13</th>\n",
       "      <td>SELLER_PWS_NAME</td>\n",
       "      <td>Name of the water system that is selling water to this system through this interconnection. Is also the \"upstream\" water system to the parent of this facility.</td>\n",
       "    </tr>\n",
       "    <tr>\n",
       "      <th>14</th>\n",
       "      <td>SELLER_TREATMENT_CODE</td>\n",
       "      <td>Code that indicates the treatment status of the water. Applies only to source facilities</td>\n",
       "    </tr>\n",
       "    <tr>\n",
       "      <th>15</th>\n",
       "      <td>STATE_FACILITY_ID</td>\n",
       "      <td>The ID that a state uses to identify in their own state system database.</td>\n",
       "    </tr>\n",
       "    <tr>\n",
       "      <th>16</th>\n",
       "      <td>SUBMISSION_STATUS_CODE</td>\n",
       "      <td>Code that indicates whether an active water system was reported, rejected, or not reported during the recent inventory submission. This field is not applicable to inactive water systems. Generated by ODS.</td>\n",
       "    </tr>\n",
       "    <tr>\n",
       "      <th>17</th>\n",
       "      <td>SUBMISSIONYEARQUARTER</td>\n",
       "      <td>The fiscal year and quarter when the event took place.</td>\n",
       "    </tr>\n",
       "    <tr>\n",
       "      <th>18</th>\n",
       "      <td>WATER_TYPE_CODE</td>\n",
       "      <td>Character code identifying the type of water source. Ground water (GW), Surface water (SW), Ground water under the influence of surface water (GU). See the Water Topics page on the EPA website for full definitions of these terms and more.</td>\n",
       "    </tr>\n",
       "  </tbody>\n",
       "</table>\n",
       "</div>"
      ],
      "text/plain": [
       "                         COLUMN  \\\n",
       "0             AVAILABILITY_CODE   \n",
       "1       FACILITY_ACTIVITY_CODE    \n",
       "2   FACILITY_DEACTIVATION_DATE    \n",
       "3                   FACILITY_ID   \n",
       "4                 FACILITY_NAME   \n",
       "5           FACILITY_TYPE_CODE    \n",
       "6        FILTRATION_STATUS_CODE   \n",
       "7           FIRST_REPORTED_DATE   \n",
       "8                IS_SOURCE_IND    \n",
       "9         IS_SOURCE_TREATED_IND   \n",
       "10           LAST_REPORTED_DATE   \n",
       "11                       PWSID    \n",
       "12                 SELLER_PWSID   \n",
       "13              SELLER_PWS_NAME   \n",
       "14        SELLER_TREATMENT_CODE   \n",
       "15           STATE_FACILITY_ID    \n",
       "16      SUBMISSION_STATUS_CODE    \n",
       "17       SUBMISSIONYEARQUARTER    \n",
       "18             WATER_TYPE_CODE    \n",
       "\n",
       "                                                                                                                                                                                                                                                          DESCRIPTION  \n",
       "0                                                                                                                                                                                     A single-character code for how the water source is utilized by a water system.  \n",
       "1                                                                                                                                                                                             A single-character code identifying the current status of the facility.  \n",
       "2                                                                     The date the facility was deactivated (no longer actively serving water) or removed from federal oversight because it no longer met SDWA criteria as a public water system (MM/DD/YYYY format).  \n",
       "3                                                                                                                                                                            Facility ID that, when used with the PWSID, uniquely identifies a water system facility.  \n",
       "4                                                                                                                                                                                                                              The name of the water system facility.  \n",
       "5                                                                                                                                                                                                                              Code identifying the type of facility.  \n",
       "6       A code reported by the state to indicate whether a non-emergency surface water source or a non-emergency ground water under the influence of surface water source is required to install filtration by a certain date or is successfully avoiding filtration.  \n",
       "7                                                                                                                                                                                     The first reported date for the milestone event. The date format is MM/DD/YYYY.  \n",
       "8    Indicates whether the water system facility is designated a source (either a Consecutive Connection (CC), Infiltration Gallery (IG), Intake (IN), Non-piped (NP), Roof Catchment (RC), Reservoir (RS), Spring (SP), Well (WL), or Non-piped non-purchased (NN)).  \n",
       "9                                                                                                                                                                                            Indicates whether the water system source water is being treated or not.  \n",
       "10                                                                                                                                                                                     The last reported date for the milestone event. The date format is MM/DD/YYYY.  \n",
       "11                                                                                                                   A unique identifying code for a public water system in SDWIS. The PWSID consists of a two-letter state or region code, followed by seven digits.  \n",
       "12                                                                                                   PWSID of the water system that is selling water to this system through this interconnection. Is also the \"upstream\" water system to the parent of this facility.  \n",
       "13                                                                                                    Name of the water system that is selling water to this system through this interconnection. Is also the \"upstream\" water system to the parent of this facility.  \n",
       "14                                                                                                                                                                           Code that indicates the treatment status of the water. Applies only to source facilities  \n",
       "15                                                                                                                                                                                           The ID that a state uses to identify in their own state system database.  \n",
       "16                                                       Code that indicates whether an active water system was reported, rejected, or not reported during the recent inventory submission. This field is not applicable to inactive water systems. Generated by ODS.  \n",
       "17                                                                                                                                                                                                             The fiscal year and quarter when the event took place.  \n",
       "18                     Character code identifying the type of water source. Ground water (GW), Surface water (SW), Ground water under the influence of surface water (GU). See the Water Topics page on the EPA website for full definitions of these terms and more.  "
      ]
     },
     "execution_count": 28,
     "metadata": {},
     "output_type": "execute_result"
    }
   ],
   "source": [
    "data_dictionary = {\n",
    "    p.find_all('strong')[0].getText().replace(u'\\xa0', u'') : p.getText().replace(u'\\xa0', u' ')\n",
    "    for p in html_soup.find_all(\"div\", {\"class\": 'field-item even'})[0].find_all('p') \n",
    "    if p.find_all('strong') and len(p.find_all('strong')) == 1 and p.find_all('strong')[0].getText().replace(u'\\xa0', u'') in list(facilities_df.columns)\n",
    "}\n",
    "pd.set_option('display.max_colwidth', None)\n",
    "col_desc = pd.DataFrame([data_dictionary[col] for col in data_dictionary], columns=['raw_desc'])\n",
    "\n",
    "col_desc[['COLUMN', 'DESCRIPTION']] = col_desc['raw_desc'].str.split('-', 1, expand=True)\n",
    "col_desc = col_desc[['COLUMN', 'DESCRIPTION']]\n",
    "col_desc"
   ]
  },
  {
   "cell_type": "markdown",
   "id": "82261506",
   "metadata": {},
   "source": [
    "### Generating create SQL statement to create 'facilities' table to store facilities details"
   ]
  },
  {
   "cell_type": "code",
   "execution_count": 30,
   "id": "e7cf3cbb",
   "metadata": {
    "ExecuteTime": {
     "end_time": "2022-04-11T06:25:22.501082Z",
     "start_time": "2022-04-11T06:25:22.449115Z"
    }
   },
   "outputs": [
    {
     "name": "stdout",
     "output_type": "stream",
     "text": [
      "CREATE TABLE FACILITIES (\n",
      "\tSUBMISSIONYEARQUARTER          VARCHAR(6),\n",
      "\tPWSID                          VARCHAR(9),\n",
      "\tFACILITY_ID                    VARCHAR(12),\n",
      "\tFACILITY_NAME                  VARCHAR(100),\n",
      "\tSTATE_FACILITY_ID              VARCHAR(40),\n",
      "\tFACILITY_ACTIVITY_CODE         VARCHAR(1),\n",
      "\tFACILITY_DEACTIVATION_DATE     DATE,\n",
      "\tFACILITY_TYPE_CODE             VARCHAR(2),\n",
      "\tSUBMISSION_STATUS_CODE         VARCHAR(4),\n",
      "\tIS_SOURCE_IND                  VARCHAR(1),\n",
      "\tWATER_TYPE_CODE                VARCHAR(2),\n",
      "\tAVAILABILITY_CODE              VARCHAR(1),\n",
      "\tSELLER_TREATMENT_CODE          VARCHAR(4),\n",
      "\tSELLER_PWSID                   VARCHAR(9),\n",
      "\tSELLER_PWS_NAME                VARCHAR(100),\n",
      "\tFILTRATION_STATUS_CODE         VARCHAR(4),\n",
      "\tIS_SOURCE_TREATED_IND          VARCHAR(1),\n",
      "\tFIRST_REPORTED_DATE            DATE,\n",
      "\tLAST_REPORTED_DATE             DATE\n",
      ") ENGINE = InnoDB;\n"
     ]
    }
   ],
   "source": [
    "temp_dict = {}\n",
    "\n",
    "def space(n):\n",
    "    return ' ' * (max([len(col) for col in facilities_df.columns]) + 5 - n)\n",
    "\n",
    "for ind in column_datatype.index:\n",
    "    col_name = column_datatype['Element'][ind]\n",
    "    data_type = column_datatype['Data Type'][ind]\n",
    "    length = column_datatype['Length'][ind]\n",
    "    data_type = 'VARCHAR' if data_type == 'Char' else 'DATE' if data_type == 'Date' else 'INT'\n",
    "    data_type = data_type + '('+ length +')' if length != '' and data_type == 'VARCHAR' else data_type + '(255)' if data_type == 'VARCHAR' else data_type\n",
    "    temp_dict[col_name] = data_type\n",
    "print('CREATE TABLE FACILITIES (')\n",
    "for col in facilities_df.columns:\n",
    "    print(f'\\t{col}{space(len(col))}{temp_dict[col]}', end='')\n",
    "    if col != facilities_df.columns[-1]:\n",
    "        print(',')\n",
    "    else:\n",
    "        print()\n",
    "print(') ENGINE = InnoDB;')"
   ]
  },
  {
   "cell_type": "code",
   "execution_count": 32,
   "id": "240454f1",
   "metadata": {
    "ExecuteTime": {
     "end_time": "2022-04-11T06:29:56.695383Z",
     "start_time": "2022-04-11T06:28:23.042163Z"
    }
   },
   "outputs": [],
   "source": [
    "facilities_df.sort_values(['PWSID', 'FACILITY_ID'], ascending=[True, True]).to_csv('../data/processed_data/FACILITIES.csv', index=False) # violations.groupby(['PWSID', 'VIOLATION_ID']).size()"
   ]
  },
  {
   "cell_type": "code",
   "execution_count": 36,
   "id": "320a371f",
   "metadata": {
    "ExecuteTime": {
     "end_time": "2022-04-11T06:34:47.645576Z",
     "start_time": "2022-04-11T06:34:47.609544Z"
    }
   },
   "outputs": [
    {
     "name": "stdout",
     "output_type": "stream",
     "text": [
      "\n",
      "LOAD DATA INFILE 'C:/ProgramData/MySQL/MySQL Server 8.0/Uploads/FACILITIES.csv'\n",
      "INTO TABLE FACILITIES \n",
      "FIELDS TERMINATED BY ','\n",
      "ESCAPED BY ''\n",
      "OPTIONALLY ENCLOSED BY '\"'\n",
      "LINES TERMINATED BY '\\n'\n",
      "IGNORE 1 ROWS\n",
      "(@SUBMISSIONYEARQUARTER,@PWSID,@FACILITY_ID,@FACILITY_NAME,@STATE_FACILITY_ID,@FACILITY_ACTIVITY_CODE,@FACILITY_DEACTIVATION_DATE,@FACILITY_TYPE_CODE,@SUBMISSION_STATUS_CODE,@IS_SOURCE_IND,@WATER_TYPE_CODE,@AVAILABILITY_CODE,@SELLER_TREATMENT_CODE,@SELLER_PWSID,@SELLER_PWS_NAME,@FILTRATION_STATUS_CODE,@IS_SOURCE_TREATED_IND,@FIRST_REPORTED_DATE,@LAST_REPORTED_DATE)\n",
      "SET\n",
      "SUBMISSIONYEARQUARTER = IF(@SUBMISSIONYEARQUARTER = '', NULL, @SUBMISSIONYEARQUARTER),\n",
      "PWSID = IF(@PWSID = '', NULL, @PWSID),\n",
      "FACILITY_ID = IF(@FACILITY_ID = '', NULL, @FACILITY_ID),\n",
      "FACILITY_NAME = IF(@FACILITY_NAME = '', NULL, @FACILITY_NAME),\n",
      "STATE_FACILITY_ID = IF(@STATE_FACILITY_ID = '', NULL, @STATE_FACILITY_ID),\n",
      "FACILITY_ACTIVITY_CODE = IF(@FACILITY_ACTIVITY_CODE = '', NULL, @FACILITY_ACTIVITY_CODE),\n",
      "FACILITY_DEACTIVATION_DATE = IF(@FACILITY_DEACTIVATION_DATE = '', NULL, STR_TO_DATE(@FACILITY_DEACTIVATION_DATE, '%Y-%m-%d')),\n",
      "FACILITY_TYPE_CODE = IF(@FACILITY_TYPE_CODE = '', NULL, @FACILITY_TYPE_CODE),\n",
      "SUBMISSION_STATUS_CODE = IF(@SUBMISSION_STATUS_CODE = '', NULL, @SUBMISSION_STATUS_CODE),\n",
      "IS_SOURCE_IND = IF(@IS_SOURCE_IND = '', NULL, @IS_SOURCE_IND),\n",
      "WATER_TYPE_CODE = IF(@WATER_TYPE_CODE = '', NULL, @WATER_TYPE_CODE),\n",
      "AVAILABILITY_CODE = IF(@AVAILABILITY_CODE = '', NULL, @AVAILABILITY_CODE),\n",
      "SELLER_TREATMENT_CODE = IF(@SELLER_TREATMENT_CODE = '', NULL, @SELLER_TREATMENT_CODE),\n",
      "SELLER_PWSID = IF(@SELLER_PWSID = '', NULL, @SELLER_PWSID),\n",
      "SELLER_PWS_NAME = IF(@SELLER_PWS_NAME = '', NULL, @SELLER_PWS_NAME),\n",
      "FILTRATION_STATUS_CODE = IF(@FILTRATION_STATUS_CODE = '', NULL, @FILTRATION_STATUS_CODE),\n",
      "IS_SOURCE_TREATED_IND = IF(@IS_SOURCE_TREATED_IND = '', NULL, @IS_SOURCE_TREATED_IND),\n",
      "FIRST_REPORTED_DATE = IF(@FIRST_REPORTED_DATE = '', NULL, STR_TO_DATE(@FIRST_REPORTED_DATE, '%Y-%m-%d')),\n",
      "LAST_REPORTED_DATE = IF(@LAST_REPORTED_DATE = '', NULL, STR_TO_DATE(@LAST_REPORTED_DATE, '%Y-%m-%d')),\n"
     ]
    }
   ],
   "source": [
    "columns = facilities_df.columns.to_list()\n",
    "\n",
    "date_columns = ['FACILITY_DEACTIVATION_DATE', 'FIRST_REPORTED_DATE', 'LAST_REPORTED_DATE']\n",
    "\n",
    "print('''\n",
    "LOAD DATA INFILE 'C:/ProgramData/MySQL/MySQL Server 8.0/Uploads/FACILITIES.csv'\n",
    "INTO TABLE FACILITIES \n",
    "FIELDS TERMINATED BY ','\n",
    "ESCAPED BY ''\n",
    "OPTIONALLY ENCLOSED BY '\"'\n",
    "LINES TERMINATED BY '\\\\n'\n",
    "IGNORE 1 ROWS\n",
    "''', end='')\n",
    "print('(', end='')\n",
    "for col in columns:\n",
    "    print(f'@{col}', end='')\n",
    "    if col != columns[-1]:\n",
    "        print(',', end='')\n",
    "print(')')\n",
    "print('SET')\n",
    "for col in columns:\n",
    "    if col in date_columns:\n",
    "        print(f'{col} = IF(@{col} = \\'\\', NULL, STR_TO_DATE(@{col}, \\'%Y-%m-%d\\')),')\n",
    "    else:\n",
    "        print(f'{col} = IF(@{col} = \\'\\', NULL, @{col}),')"
   ]
  },
  {
   "cell_type": "code",
   "execution_count": null,
   "id": "38cc056c",
   "metadata": {},
   "outputs": [],
   "source": []
  }
 ],
 "metadata": {
  "kernelspec": {
   "display_name": "Python 3",
   "language": "python",
   "name": "python3"
  },
  "language_info": {
   "codemirror_mode": {
    "name": "ipython",
    "version": 3
   },
   "file_extension": ".py",
   "mimetype": "text/x-python",
   "name": "python",
   "nbconvert_exporter": "python",
   "pygments_lexer": "ipython3",
   "version": "3.8.8"
  }
 },
 "nbformat": 4,
 "nbformat_minor": 5
}
